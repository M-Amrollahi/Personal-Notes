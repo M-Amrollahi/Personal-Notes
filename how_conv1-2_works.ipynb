{
  "nbformat": 4,
  "nbformat_minor": 0,
  "metadata": {
    "colab": {
      "provenance": [],
      "authorship_tag": "ABX9TyPgyl+i/ifh1tkr7n0y5fSe",
      "include_colab_link": true
    },
    "kernelspec": {
      "name": "python3",
      "display_name": "Python 3"
    },
    "language_info": {
      "name": "python"
    }
  },
  "cells": [
    {
      "cell_type": "markdown",
      "metadata": {
        "id": "view-in-github",
        "colab_type": "text"
      },
      "source": [
        "<a href=\"https://colab.research.google.com/github/M-Amrollahi/Personal-Notes/blob/master/how_conv1-2_works.ipynb\" target=\"_parent\"><img src=\"https://colab.research.google.com/assets/colab-badge.svg\" alt=\"Open In Colab\"/></a>"
      ]
    },
    {
      "cell_type": "code",
      "execution_count": 93,
      "metadata": {
        "id": "Weqx-y0aCwbk"
      },
      "outputs": [],
      "source": [
        "import torch\n",
        "import numpy as np\n",
        "import torch.nn as nn"
      ]
    },
    {
      "cell_type": "code",
      "source": [
        "a1 = torch.arange(0,20).reshape((1,2,2,5))\n",
        "a1"
      ],
      "metadata": {
        "colab": {
          "base_uri": "https://localhost:8080/"
        },
        "id": "RtzTVVwHC-bt",
        "outputId": "9f79d881-7cec-4b38-cac7-33e1e6389a05"
      },
      "execution_count": 94,
      "outputs": [
        {
          "output_type": "execute_result",
          "data": {
            "text/plain": [
              "tensor([[[[ 0,  1,  2,  3,  4],\n",
              "          [ 5,  6,  7,  8,  9]],\n",
              "\n",
              "         [[10, 11, 12, 13, 14],\n",
              "          [15, 16, 17, 18, 19]]]])"
            ]
          },
          "metadata": {},
          "execution_count": 94
        }
      ]
    },
    {
      "cell_type": "code",
      "source": [
        "conv1 = nn.Conv2d(in_channels=2, out_channels=2, kernel_size=(2,2), bias=False)\n",
        "print(conv1.weight)\n",
        "b1 = conv1(a1.float())\n",
        "b1\n"
      ],
      "metadata": {
        "colab": {
          "base_uri": "https://localhost:8080/"
        },
        "id": "hexWkeOWDWRY",
        "outputId": "72d4721d-c34d-45fe-ea4d-d6f3ab09c9ac"
      },
      "execution_count": 95,
      "outputs": [
        {
          "output_type": "stream",
          "name": "stdout",
          "text": [
            "Parameter containing:\n",
            "tensor([[[[ 0.0700, -0.0102],\n",
            "          [ 0.2216, -0.2729]],\n",
            "\n",
            "         [[-0.2514,  0.2298],\n",
            "          [ 0.3157,  0.2807]]],\n",
            "\n",
            "\n",
            "        [[[-0.2399, -0.2296],\n",
            "          [-0.2525, -0.1479]],\n",
            "\n",
            "         [[-0.3171,  0.0649],\n",
            "          [-0.1246, -0.0914]]]], requires_grad=True)\n"
          ]
        },
        {
          "output_type": "execute_result",
          "data": {
            "text/plain": [
              "tensor([[[[  8.6995,   9.2827,   9.8659,  10.4491]],\n",
              "\n",
              "         [[ -8.1674,  -9.5054, -10.8434, -12.1814]]]],\n",
              "       grad_fn=<ConvolutionBackward0>)"
            ]
          },
          "metadata": {},
          "execution_count": 95
        }
      ]
    },
    {
      "cell_type": "code",
      "source": [
        "a3 = torch.arange(0,24).reshape((2,2,6))\n",
        "a3"
      ],
      "metadata": {
        "colab": {
          "base_uri": "https://localhost:8080/"
        },
        "id": "uejpqI-pOSPR",
        "outputId": "45b6d8b2-a21e-4ed4-bd46-465ff8e72c45"
      },
      "execution_count": 96,
      "outputs": [
        {
          "output_type": "execute_result",
          "data": {
            "text/plain": [
              "tensor([[[ 0,  1,  2,  3,  4,  5],\n",
              "         [ 6,  7,  8,  9, 10, 11]],\n",
              "\n",
              "        [[12, 13, 14, 15, 16, 17],\n",
              "         [18, 19, 20, 21, 22, 23]]])"
            ]
          },
          "metadata": {},
          "execution_count": 96
        }
      ]
    },
    {
      "cell_type": "code",
      "source": [
        "conv2 = nn.Conv1d(2,2,2,bias=False)\n",
        "conv2.weight.shape"
      ],
      "metadata": {
        "colab": {
          "base_uri": "https://localhost:8080/"
        },
        "id": "-d1xK-UdOv-F",
        "outputId": "75f42d96-321c-4d42-bbd0-c38e4e6f01f1"
      },
      "execution_count": 97,
      "outputs": [
        {
          "output_type": "execute_result",
          "data": {
            "text/plain": [
              "torch.Size([2, 2, 2])"
            ]
          },
          "metadata": {},
          "execution_count": 97
        }
      ]
    },
    {
      "cell_type": "code",
      "source": [
        "conv2(a3.float())"
      ],
      "metadata": {
        "colab": {
          "base_uri": "https://localhost:8080/"
        },
        "id": "3tupKVIlQr6x",
        "outputId": "e3b5492e-b464-4e4c-e4fb-dde36deb1079"
      },
      "execution_count": 98,
      "outputs": [
        {
          "output_type": "execute_result",
          "data": {
            "text/plain": [
              "tensor([[[ -4.9195,  -6.3971,  -7.8748,  -9.3524, -10.8301],\n",
              "         [  2.3737,   2.6818,   2.9899,   3.2980,   3.6061]],\n",
              "\n",
              "        [[-22.6512, -24.1288, -25.6065, -27.0841, -28.5618],\n",
              "         [  6.0710,   6.3791,   6.6872,   6.9953,   7.3034]]],\n",
              "       grad_fn=<ConvolutionBackward0>)"
            ]
          },
          "metadata": {},
          "execution_count": 98
        }
      ]
    },
    {
      "cell_type": "code",
      "source": [
        "(conv2.weight[0]*a3[0,:,1:3]).sum()"
      ],
      "metadata": {
        "colab": {
          "base_uri": "https://localhost:8080/"
        },
        "id": "ePkJm5eTX-T6",
        "outputId": "74649332-6dfb-4ecb-8465-55fbad479e11"
      },
      "execution_count": 100,
      "outputs": [
        {
          "output_type": "execute_result",
          "data": {
            "text/plain": [
              "tensor(-6.3971, grad_fn=<SumBackward0>)"
            ]
          },
          "metadata": {},
          "execution_count": 100
        }
      ]
    },
    {
      "cell_type": "code",
      "source": [],
      "metadata": {
        "id": "L2xZ0nE4nW6h"
      },
      "execution_count": null,
      "outputs": []
    }
  ]
}