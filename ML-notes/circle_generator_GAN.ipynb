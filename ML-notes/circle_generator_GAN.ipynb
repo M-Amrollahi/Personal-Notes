{
  "nbformat": 4,
  "nbformat_minor": 0,
  "metadata": {
    "colab": {
      "provenance": [],
      "authorship_tag": "ABX9TyM2G+tVSyM6SkHQ/z70p6Lk",
      "include_colab_link": true
    },
    "kernelspec": {
      "name": "python3",
      "display_name": "Python 3"
    },
    "language_info": {
      "name": "python"
    },
    "accelerator": "GPU",
    "gpuClass": "standard"
  },
  "cells": [
    {
      "cell_type": "markdown",
      "metadata": {
        "id": "view-in-github",
        "colab_type": "text"
      },
      "source": [
        "<a href=\"https://colab.research.google.com/github/M-Amrollahi/Personal-Notes/blob/master/ML-notes/circle_generator_GAN.ipynb\" target=\"_parent\"><img src=\"https://colab.research.google.com/assets/colab-badge.svg\" alt=\"Open In Colab\"/></a>"
      ]
    },
    {
      "cell_type": "code",
      "execution_count": 172,
      "metadata": {
        "id": "rqcZ5xIblZao"
      },
      "outputs": [],
      "source": [
        "import numpy as np\n",
        "import torch\n",
        "import torch.nn as nn\n",
        "import random\n",
        "import cv2\n",
        "from torch.utils.data import Dataset, DataLoader\n",
        "from PIL import Image\n",
        "import matplotlib.pyplot as plt\n",
        "%matplotlib inline"
      ]
    },
    {
      "cell_type": "code",
      "source": [
        "def f_createRandomImage():\n",
        "    x,y = 35,35\n",
        "    max_r = 10\n",
        "    rangex, rangey = (max_r,x-max_r), (max_r,y-max_r)\n",
        "    colors = [((255, 255, 0),0),((120, 255,0),1),(( 255, 120,0),2),((0,255, 255),3),((0, 60, 60),4)]\n",
        "    lst_res = []\n",
        "    for color in colors:\n",
        "        for i in range(1000):\n",
        "            \n",
        "            frame = np.full((x,y,3),0,dtype=\"uint8\")\n",
        "\n",
        "            locx = random.randint(*rangex)\n",
        "            locy = random.randint(*rangey)\n",
        "            r = random.randint(8,max_r)\n",
        "            \n",
        "            \n",
        "            cv2.circle(frame,(locx,locy),r,color[0],-1)\n",
        "\n",
        "            frame = frame / 255.0\n",
        "            #cv2.rectangle(frame,(locx-r,locy-r),(locx+r,locy+r),(0,255,0),1)\n",
        "            lst_res.append([frame.transpose(2,0,1), locx-r, locy-r, locx + r, locy + r, torch.nn.functional.one_hot(torch.tensor(color[1]), num_classes=5)])\n",
        "            #cv2.waitKey(0)\n",
        "\n",
        "    return lst_res"
      ],
      "metadata": {
        "id": "UwRmGbWAlpTf"
      },
      "execution_count": 182,
      "outputs": []
    },
    {
      "cell_type": "code",
      "source": [
        "class cls_modelD(nn.Module):\n",
        "    def __init__(self) -> None:\n",
        "        super().__init__()\n",
        "\n",
        "        self.model = nn.Sequential(\n",
        "            nn.Conv2d(in_channels=3, out_channels=6,kernel_size=(3,3)),\n",
        "            nn.BatchNorm2d(6),\n",
        "            nn.ReLU(),\n",
        "\n",
        "            nn.Conv2d(in_channels=6, out_channels=12,kernel_size=(3,3)),\n",
        "            nn.BatchNorm2d(12),\n",
        "            nn.ReLU(),\n",
        "\n",
        "            nn.MaxPool2d(2,2),\n",
        "\n",
        "            nn.Flatten(1),\n",
        "\n",
        "            nn.Linear(15*15*12,128),\n",
        "            nn.ReLU(),\n",
        "\n",
        "            nn.Linear(128,1),\n",
        "            nn.Sigmoid()\n",
        "\n",
        "        )\n",
        "\n",
        "    def forward(self, x):\n",
        "        return self.model.forward(x)"
      ],
      "metadata": {
        "id": "1N7uTCCNl41a"
      },
      "execution_count": 183,
      "outputs": []
    },
    {
      "cell_type": "code",
      "source": [
        "class cls_modelG(nn.Module):\n",
        "    def __init__(self) -> None:\n",
        "        super().__init__()\n",
        "\n",
        "        self.linModel = nn.Sequential( nn.Linear(5,39*39*3), nn.Tanh())\n",
        "\n",
        "        self.model = nn.Sequential(\n",
        "            \n",
        "            # state size. (ngf*4) x 8 x 8\n",
        "            #nn.ConvTranspose2d( 3, 3, 1,bias=False),\n",
        "            #nn.BatchNorm2d(3),\n",
        "            #nn.ReLU(True),\n",
        "            # state size. (ngf*2) x 16 x 16\n",
        "            # state size. (ngf) x 32 x 32\n",
        "            #nn.ConvTranspose2d( 3, 3, 1,bias=False),\n",
        "            \n",
        "            nn.Conv2d(3,6,3),\n",
        "            nn.BatchNorm2d(6),\n",
        "            nn.Tanh(),\n",
        "            #nn.Conv2d(3,3,1),\n",
        "            \n",
        "            #nn.ReLU(True),\n",
        "            #nn.ReLU(),\n",
        "            nn.Conv2d(6, 3, 3),\n",
        "            nn.Sigmoid()\n",
        "            # state size. (nc) x 64 x 64\n",
        "        )\n",
        "\n",
        "    def forward(self, x):\n",
        "        x = self.linModel(x)\n",
        "        x = x.reshape(x.shape[0], 3,39,39)\n",
        "        return self.model.forward(x)"
      ],
      "metadata": {
        "id": "RtDNUqPYqC7a"
      },
      "execution_count": 205,
      "outputs": []
    },
    {
      "cell_type": "code",
      "source": [
        "class cls_data(Dataset):\n",
        "    def __init__(self,x) -> None:\n",
        "        super().__init__()\n",
        "\n",
        "        self.dataset = x\n",
        "        \n",
        "\n",
        "    def __len__(self):\n",
        "        return len(self.dataset)\n",
        "\n",
        "    def __getitem__(self, index):\n",
        "        \n",
        "        return torch.tensor(self.dataset.loc[index, \"c\"]).unsqueeze(dim=0), torch.tensor(self.dataset.loc[index, \"image\"]).permute((2,0,1))"
      ],
      "metadata": {
        "id": "-7fC7W2FrlIG"
      },
      "execution_count": 206,
      "outputs": []
    },
    {
      "cell_type": "code",
      "source": [
        "lst_data = f_createRandomImage()\n",
        "\n",
        "x = torch.tensor([i[0] for i in lst_data]).float()\n",
        "x = x[torch.randperm(len(lst_data))]\n",
        "trainLoader = DataLoader(x,batch_size=16)\n",
        "x.dtype"
      ],
      "metadata": {
        "id": "qm9n0alJrJGK",
        "outputId": "293040e4-73cb-4081-83b9-2c26750b749a",
        "colab": {
          "base_uri": "https://localhost:8080/"
        }
      },
      "execution_count": 207,
      "outputs": [
        {
          "output_type": "execute_result",
          "data": {
            "text/plain": [
              "torch.float32"
            ]
          },
          "metadata": {},
          "execution_count": 207
        }
      ]
    },
    {
      "cell_type": "code",
      "source": [
        "modelD = cls_modelD()\n",
        "criterion = nn.BCELoss()\n",
        "optimD = torch.optim.Adam(modelD.parameters(), lr=4e-4)\n",
        "\n",
        "modelG = cls_modelG()\n",
        "optimG = torch.optim.Adam(modelG.parameters(), lr=4e-4)"
      ],
      "metadata": {
        "id": "mMLAATKit-LK"
      },
      "execution_count": 208,
      "outputs": []
    },
    {
      "cell_type": "code",
      "source": [
        "real_label = 1.\n",
        "fake_label = 0."
      ],
      "metadata": {
        "id": "0anMIYXepQ_i"
      },
      "execution_count": 209,
      "outputs": []
    },
    {
      "cell_type": "code",
      "source": [
        "# Training Loop\n",
        "device = torch.device(\"cuda\") if torch.cuda.is_available() else torch.device(\"cpu\")\n",
        "# Lists to keep track of progress\n",
        "img_list = []\n",
        "G_losses = []\n",
        "D_losses = []\n",
        "iters = 0\n",
        "\n",
        "modelD = modelD.to(device)\n",
        "modelG = modelG.to(device)\n",
        "print(\"Starting Training Loop...\")\n",
        "# For each epoch\n",
        "for epoch in range(40):\n",
        "    # For each batch in the dataloader\n",
        "    sum_err = 0\n",
        "    for i, data in enumerate(trainLoader, 0):\n",
        "\n",
        "        ############################\n",
        "        # (1) Update D network: maximize log(D(x)) + log(1 - D(G(z)))\n",
        "        ###########################\n",
        "        ## Train with all-real batch\n",
        "        optimD.zero_grad()\n",
        "        # Format batch\n",
        "        real_cpu = data.to(device)\n",
        "        \n",
        "        b_size = real_cpu.size(0)\n",
        "        label = torch.full((b_size,1), real_label, dtype=torch.float, device=device)\n",
        "        # Forward pass real batch through D\n",
        "        output = modelD(real_cpu)\n",
        "        # Calculate loss on all-real batch\n",
        "        \n",
        "        errD_real = criterion(output, label)\n",
        "        # Calculate gradients for D in backward pass\n",
        "        errD_real.backward()\n",
        "        D_x = output.mean().item()\n",
        "\n",
        "        ## Train with all-fake batch\n",
        "        # Generate batch of latent vectors\n",
        "        noise = torch.randn(b_size, 5, device=device)\n",
        "        # Generate fake image batch with G\n",
        "        fake = modelG(noise)\n",
        "        label.fill_(fake_label)\n",
        "        # Classify all fake batch with D\n",
        "        output = modelD(fake.detach())\n",
        "        # Calculate D's loss on the all-fake batch\n",
        "        \n",
        "        errD_fake = criterion(output, label)\n",
        "        # Calculate the gradients for this batch, accumulated (summed) with previous gradients\n",
        "        errD_fake.backward()\n",
        "        D_G_z1 = output.mean().item()\n",
        "        # Compute error of D as sum over the fake and the real batches\n",
        "        errD = errD_real + errD_fake\n",
        "        # Update D\n",
        "        optimD.step()\n",
        "        \n",
        "\n",
        "        ############################\n",
        "        # (2) Update G network: maximize log(D(G(z)))\n",
        "        ###########################\n",
        "        optimG.zero_grad()\n",
        "        label.fill_(real_label)  # fake labels are real for generator cost\n",
        "        # Since we just updated D, perform another forward pass of all-fake batch through D\n",
        "        output = modelD(fake)\n",
        "        # Calculate G's loss based on this output\n",
        "        \n",
        "        \n",
        "        errG = criterion(output, label)\n",
        "        # Calculate gradients for G\n",
        "        errG.backward()\n",
        "        D_G_z2 = output.mean().item()\n",
        "        # Update G\n",
        "        optimG.step()\n",
        "\n",
        "        sum_err += errG.detach().cpu().item()\n",
        "    \n",
        "    print(sum_err)"
      ],
      "metadata": {
        "id": "dXiRD2fMsyPD",
        "outputId": "c87e1b83-2316-4a40-f0d2-0c9d07b909fe",
        "colab": {
          "base_uri": "https://localhost:8080/"
        }
      },
      "execution_count": 210,
      "outputs": [
        {
          "output_type": "stream",
          "name": "stdout",
          "text": [
            "Starting Training Loop...\n",
            "2115.7068564891815\n",
            "2519.3113193511963\n",
            "2659.827229499817\n",
            "2722.4447236061096\n",
            "2668.502640247345\n",
            "2779.462656021118\n",
            "2617.867045879364\n",
            "2960.166101694107\n",
            "2944.725734233856\n",
            "2759.540783882141\n",
            "2900.097285270691\n",
            "3471.7077112197876\n",
            "3621.793242454529\n",
            "3593.7047123908997\n",
            "3971.7262964248657\n",
            "3187.1020543575287\n",
            "3106.6672048568726\n",
            "3263.2979917526245\n",
            "3503.2304735183716\n",
            "3608.1291937828064\n",
            "3348.7269196510315\n",
            "3374.3161911964417\n",
            "3737.429561853409\n",
            "3532.6790356636047\n",
            "3264.909640312195\n",
            "3267.7321882247925\n",
            "3201.106985092163\n",
            "3255.06134223938\n",
            "3477.75492811203\n",
            "3743.2375593185425\n",
            "3903.9075083732605\n",
            "3811.5580439567566\n",
            "3759.5210604667664\n",
            "3700.6286273002625\n",
            "3584.564061164856\n",
            "3749.2742590904236\n",
            "3755.614770889282\n",
            "4093.5515127182007\n",
            "4261.48992061615\n",
            "4168.217754840851\n"
          ]
        }
      ]
    },
    {
      "cell_type": "code",
      "source": [
        "modelG.eval()\n",
        "fixed_noise = torch.randn(9,5).to(device)\n",
        "\n",
        "res = modelG(fixed_noise)\n",
        "res = res*255\n",
        "res = res.type(torch.uint8)\n",
        "\n",
        "fig, ax = plt.subplots(3,3,figsize = (5,5))\n",
        "ax = ax.ravel()\n",
        "for i in range(len(res)):\n",
        "    ax[i].imshow(res[i].permute(1,2,0).detach().cpu().numpy())"
      ],
      "metadata": {
        "id": "SL24vZLTwMKS",
        "outputId": "4ed0fc43-0b43-4254-f7fa-39cb302fd8eb",
        "colab": {
          "base_uri": "https://localhost:8080/",
          "height": 323
        }
      },
      "execution_count": 222,
      "outputs": [
        {
          "output_type": "display_data",
          "data": {
            "text/plain": [
              "<Figure size 360x360 with 9 Axes>"
            ],
            "image/png": "[encoded data removed]"
          },
          "metadata": {
            "needs_background": "light"
          }
        }
      ]
    },
    {
      "cell_type": "code",
      "source": [
        "Image.fromarray(res[6].permute(1,2,0).detach().cpu().numpy())"
      ],
      "metadata": {
        "id": "vCW3hL5yAfox",
        "outputId": "b4772e24-1223-4b59-d371-4fa42bcd396f",
        "colab": {
          "base_uri": "https://localhost:8080/",
          "height": 52
        }
      },
      "execution_count": 170,
      "outputs": [
        {
          "output_type": "execute_result",
          "data": {
            "text/plain": [
              "<PIL.Image.Image image mode=RGB size=35x35 at 0x7FCE873BEB80>"
            ],
            "image/png": "[encoded data removed]"
          },
          "metadata": {},
          "execution_count": 170
        }
      ]
    },
    {
      "cell_type": "markdown",
      "source": [
        "https://pytorch.org/tutorials/beginner/dcgan_faces_tutorial.html"
      ],
      "metadata": {
        "id": "pSvyUsC1qZ8h"
      }
    },
    {
      "cell_type": "code",
      "source": [
        "a = torch.arange(20,30).reshape(5,-1)\n",
        "a[torch.randperm(5)]\n"
      ],
      "metadata": {
        "id": "f1Q0pQo4qYsE",
        "outputId": "f65f4019-fa38-42ca-cf62-f03ef5afd87f",
        "colab": {
          "base_uri": "https://localhost:8080/"
        }
      },
      "execution_count": 129,
      "outputs": [
        {
          "output_type": "execute_result",
          "data": {
            "text/plain": [
              "tensor([[26, 27],\n",
              "        [28, 29],\n",
              "        [22, 23],\n",
              "        [20, 21],\n",
              "        [24, 25]])"
            ]
          },
          "metadata": {},
          "execution_count": 129
        }
      ]
    },
    {
      "cell_type": "code",
      "source": [],
      "metadata": {
        "id": "J2XCgN8id1U3"
      },
      "execution_count": null,
      "outputs": []
    }
  ]
}