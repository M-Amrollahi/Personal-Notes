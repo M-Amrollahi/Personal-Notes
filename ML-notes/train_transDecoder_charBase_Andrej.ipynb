{
  "nbformat": 4,
  "nbformat_minor": 0,
  "metadata": {
    "colab": {
      "provenance": [],
      "authorship_tag": "ABX9TyMyMouSxAeCl3ezgQmqmYZZ",
      "include_colab_link": true
    },
    "kernelspec": {
      "name": "python3",
      "display_name": "Python 3"
    },
    "language_info": {
      "name": "python"
    },
    "widgets": {
      "application/vnd.jupyter.widget-state+json": {
        "ee4bd6eac8c2463e8ed685e4f9d3bf19": {
          "model_module": "@jupyter-widgets/controls",
          "model_name": "HBoxModel",
          "model_module_version": "1.5.0",
          "state": {
            "_dom_classes": [],
            "_model_module": "@jupyter-widgets/controls",
            "_model_module_version": "1.5.0",
            "_model_name": "HBoxModel",
            "_view_count": null,
            "_view_module": "@jupyter-widgets/controls",
            "_view_module_version": "1.5.0",
            "_view_name": "HBoxView",
            "box_style": "",
            "children": [
              "IPY_MODEL_18c37cb794d442dd9ff1bbfd9c82235b",
              "IPY_MODEL_8feba73d7243413f87519ba72f24bda2",
              "IPY_MODEL_bdb92ed56515412f96cc7ded29305e60"
            ],
            "layout": "IPY_MODEL_576c5ff1d71947248500b40f56ed8674"
          }
        },
        "18c37cb794d442dd9ff1bbfd9c82235b": {
          "model_module": "@jupyter-widgets/controls",
          "model_name": "HTMLModel",
          "model_module_version": "1.5.0",
          "state": {
            "_dom_classes": [],
            "_model_module": "@jupyter-widgets/controls",
            "_model_module_version": "1.5.0",
            "_model_name": "HTMLModel",
            "_view_count": null,
            "_view_module": "@jupyter-widgets/controls",
            "_view_module_version": "1.5.0",
            "_view_name": "HTMLView",
            "description": "",
            "description_tooltip": null,
            "layout": "IPY_MODEL_38155e5591234f9187e3aedf49213ec9",
            "placeholder": "​",
            "style": "IPY_MODEL_9b0b747a919048b28b7892bddfd3c35c",
            "value": "100%"
          }
        },
        "8feba73d7243413f87519ba72f24bda2": {
          "model_module": "@jupyter-widgets/controls",
          "model_name": "FloatProgressModel",
          "model_module_version": "1.5.0",
          "state": {
            "_dom_classes": [],
            "_model_module": "@jupyter-widgets/controls",
            "_model_module_version": "1.5.0",
            "_model_name": "FloatProgressModel",
            "_view_count": null,
            "_view_module": "@jupyter-widgets/controls",
            "_view_module_version": "1.5.0",
            "_view_name": "ProgressView",
            "bar_style": "success",
            "description": "",
            "description_tooltip": null,
            "layout": "IPY_MODEL_778efcfc56af4b08b5599a1c70935fd1",
            "max": 3922,
            "min": 0,
            "orientation": "horizontal",
            "style": "IPY_MODEL_ce1d17594021480fac35bf72b2dc7246",
            "value": 3922
          }
        },
        "bdb92ed56515412f96cc7ded29305e60": {
          "model_module": "@jupyter-widgets/controls",
          "model_name": "HTMLModel",
          "model_module_version": "1.5.0",
          "state": {
            "_dom_classes": [],
            "_model_module": "@jupyter-widgets/controls",
            "_model_module_version": "1.5.0",
            "_model_name": "HTMLModel",
            "_view_count": null,
            "_view_module": "@jupyter-widgets/controls",
            "_view_module_version": "1.5.0",
            "_view_name": "HTMLView",
            "description": "",
            "description_tooltip": null,
            "layout": "IPY_MODEL_3bfea478b08c44978e0c2396acf85fca",
            "placeholder": "​",
            "style": "IPY_MODEL_6befb9b1fb3949b0a474c629987bbdd9",
            "value": " 3922/3922 [11:54&lt;00:00,  5.96it/s]"
          }
        },
        "576c5ff1d71947248500b40f56ed8674": {
          "model_module": "@jupyter-widgets/base",
          "model_name": "LayoutModel",
          "model_module_version": "1.2.0",
          "state": {
            "_model_module": "@jupyter-widgets/base",
            "_model_module_version": "1.2.0",
            "_model_name": "LayoutModel",
            "_view_count": null,
            "_view_module": "@jupyter-widgets/base",
            "_view_module_version": "1.2.0",
            "_view_name": "LayoutView",
            "align_content": null,
            "align_items": null,
            "align_self": null,
            "border": null,
            "bottom": null,
            "display": null,
            "flex": null,
            "flex_flow": null,
            "grid_area": null,
            "grid_auto_columns": null,
            "grid_auto_flow": null,
            "grid_auto_rows": null,
            "grid_column": null,
            "grid_gap": null,
            "grid_row": null,
            "grid_template_areas": null,
            "grid_template_columns": null,
            "grid_template_rows": null,
            "height": null,
            "justify_content": null,
            "justify_items": null,
            "left": null,
            "margin": null,
            "max_height": null,
            "max_width": null,
            "min_height": null,
            "min_width": null,
            "object_fit": null,
            "object_position": null,
            "order": null,
            "overflow": null,
            "overflow_x": null,
            "overflow_y": null,
            "padding": null,
            "right": null,
            "top": null,
            "visibility": null,
            "width": null
          }
        },
        "38155e5591234f9187e3aedf49213ec9": {
          "model_module": "@jupyter-widgets/base",
          "model_name": "LayoutModel",
          "model_module_version": "1.2.0",
          "state": {
            "_model_module": "@jupyter-widgets/base",
            "_model_module_version": "1.2.0",
            "_model_name": "LayoutModel",
            "_view_count": null,
            "_view_module": "@jupyter-widgets/base",
            "_view_module_version": "1.2.0",
            "_view_name": "LayoutView",
            "align_content": null,
            "align_items": null,
            "align_self": null,
            "border": null,
            "bottom": null,
            "display": null,
            "flex": null,
            "flex_flow": null,
            "grid_area": null,
            "grid_auto_columns": null,
            "grid_auto_flow": null,
            "grid_auto_rows": null,
            "grid_column": null,
            "grid_gap": null,
            "grid_row": null,
            "grid_template_areas": null,
            "grid_template_columns": null,
            "grid_template_rows": null,
            "height": null,
            "justify_content": null,
            "justify_items": null,
            "left": null,
            "margin": null,
            "max_height": null,
            "max_width": null,
            "min_height": null,
            "min_width": null,
            "object_fit": null,
            "object_position": null,
            "order": null,
            "overflow": null,
            "overflow_x": null,
            "overflow_y": null,
            "padding": null,
            "right": null,
            "top": null,
            "visibility": null,
            "width": null
          }
        },
        "9b0b747a919048b28b7892bddfd3c35c": {
          "model_module": "@jupyter-widgets/controls",
          "model_name": "DescriptionStyleModel",
          "model_module_version": "1.5.0",
          "state": {
            "_model_module": "@jupyter-widgets/controls",
            "_model_module_version": "1.5.0",
            "_model_name": "DescriptionStyleModel",
            "_view_count": null,
            "_view_module": "@jupyter-widgets/base",
            "_view_module_version": "1.2.0",
            "_view_name": "StyleView",
            "description_width": ""
          }
        },
        "778efcfc56af4b08b5599a1c70935fd1": {
          "model_module": "@jupyter-widgets/base",
          "model_name": "LayoutModel",
          "model_module_version": "1.2.0",
          "state": {
            "_model_module": "@jupyter-widgets/base",
            "_model_module_version": "1.2.0",
            "_model_name": "LayoutModel",
            "_view_count": null,
            "_view_module": "@jupyter-widgets/base",
            "_view_module_version": "1.2.0",
            "_view_name": "LayoutView",
            "align_content": null,
            "align_items": null,
            "align_self": null,
            "border": null,
            "bottom": null,
            "display": null,
            "flex": null,
            "flex_flow": null,
            "grid_area": null,
            "grid_auto_columns": null,
            "grid_auto_flow": null,
            "grid_auto_rows": null,
            "grid_column": null,
            "grid_gap": null,
            "grid_row": null,
            "grid_template_areas": null,
            "grid_template_columns": null,
            "grid_template_rows": null,
            "height": null,
            "justify_content": null,
            "justify_items": null,
            "left": null,
            "margin": null,
            "max_height": null,
            "max_width": null,
            "min_height": null,
            "min_width": null,
            "object_fit": null,
            "object_position": null,
            "order": null,
            "overflow": null,
            "overflow_x": null,
            "overflow_y": null,
            "padding": null,
            "right": null,
            "top": null,
            "visibility": null,
            "width": null
          }
        },
        "ce1d17594021480fac35bf72b2dc7246": {
          "model_module": "@jupyter-widgets/controls",
          "model_name": "ProgressStyleModel",
          "model_module_version": "1.5.0",
          "state": {
            "_model_module": "@jupyter-widgets/controls",
            "_model_module_version": "1.5.0",
            "_model_name": "ProgressStyleModel",
            "_view_count": null,
            "_view_module": "@jupyter-widgets/base",
            "_view_module_version": "1.2.0",
            "_view_name": "StyleView",
            "bar_color": null,
            "description_width": ""
          }
        },
        "3bfea478b08c44978e0c2396acf85fca": {
          "model_module": "@jupyter-widgets/base",
          "model_name": "LayoutModel",
          "model_module_version": "1.2.0",
          "state": {
            "_model_module": "@jupyter-widgets/base",
            "_model_module_version": "1.2.0",
            "_model_name": "LayoutModel",
            "_view_count": null,
            "_view_module": "@jupyter-widgets/base",
            "_view_module_version": "1.2.0",
            "_view_name": "LayoutView",
            "align_content": null,
            "align_items": null,
            "align_self": null,
            "border": null,
            "bottom": null,
            "display": null,
            "flex": null,
            "flex_flow": null,
            "grid_area": null,
            "grid_auto_columns": null,
            "grid_auto_flow": null,
            "grid_auto_rows": null,
            "grid_column": null,
            "grid_gap": null,
            "grid_row": null,
            "grid_template_areas": null,
            "grid_template_columns": null,
            "grid_template_rows": null,
            "height": null,
            "justify_content": null,
            "justify_items": null,
            "left": null,
            "margin": null,
            "max_height": null,
            "max_width": null,
            "min_height": null,
            "min_width": null,
            "object_fit": null,
            "object_position": null,
            "order": null,
            "overflow": null,
            "overflow_x": null,
            "overflow_y": null,
            "padding": null,
            "right": null,
            "top": null,
            "visibility": null,
            "width": null
          }
        },
        "6befb9b1fb3949b0a474c629987bbdd9": {
          "model_module": "@jupyter-widgets/controls",
          "model_name": "DescriptionStyleModel",
          "model_module_version": "1.5.0",
          "state": {
            "_model_module": "@jupyter-widgets/controls",
            "_model_module_version": "1.5.0",
            "_model_name": "DescriptionStyleModel",
            "_view_count": null,
            "_view_module": "@jupyter-widgets/base",
            "_view_module_version": "1.2.0",
            "_view_name": "StyleView",
            "description_width": ""
          }
        },
        "138956cf2354430d8a79555d7624da5a": {
          "model_module": "@jupyter-widgets/controls",
          "model_name": "HBoxModel",
          "model_module_version": "1.5.0",
          "state": {
            "_dom_classes": [],
            "_model_module": "@jupyter-widgets/controls",
            "_model_module_version": "1.5.0",
            "_model_name": "HBoxModel",
            "_view_count": null,
            "_view_module": "@jupyter-widgets/controls",
            "_view_module_version": "1.5.0",
            "_view_name": "HBoxView",
            "box_style": "",
            "children": [
              "IPY_MODEL_483bd3bd1114466ba71e59d220f3bd15",
              "IPY_MODEL_df3e429358c74fb0bf545d5c0c0f42dc",
              "IPY_MODEL_b169e221a65d472680480061ec7859b4"
            ],
            "layout": "IPY_MODEL_cea54e6961d9411bb97a4de1ca8009e8"
          }
        },
        "483bd3bd1114466ba71e59d220f3bd15": {
          "model_module": "@jupyter-widgets/controls",
          "model_name": "HTMLModel",
          "model_module_version": "1.5.0",
          "state": {
            "_dom_classes": [],
            "_model_module": "@jupyter-widgets/controls",
            "_model_module_version": "1.5.0",
            "_model_name": "HTMLModel",
            "_view_count": null,
            "_view_module": "@jupyter-widgets/controls",
            "_view_module_version": "1.5.0",
            "_view_name": "HTMLView",
            "description": "",
            "description_tooltip": null,
            "layout": "IPY_MODEL_cc7394e1d1e74900a0558f27e5f0d833",
            "placeholder": "​",
            "style": "IPY_MODEL_ee208c8f95994552837d31f86fdb6043",
            "value": "100%"
          }
        },
        "df3e429358c74fb0bf545d5c0c0f42dc": {
          "model_module": "@jupyter-widgets/controls",
          "model_name": "FloatProgressModel",
          "model_module_version": "1.5.0",
          "state": {
            "_dom_classes": [],
            "_model_module": "@jupyter-widgets/controls",
            "_model_module_version": "1.5.0",
            "_model_name": "FloatProgressModel",
            "_view_count": null,
            "_view_module": "@jupyter-widgets/controls",
            "_view_module_version": "1.5.0",
            "_view_name": "ProgressView",
            "bar_style": "success",
            "description": "",
            "description_tooltip": null,
            "layout": "IPY_MODEL_9b29e9574b4646608fde2f1f362968eb",
            "max": 3922,
            "min": 0,
            "orientation": "horizontal",
            "style": "IPY_MODEL_3084159d4f464bde934be39eee402bec",
            "value": 3922
          }
        },
        "b169e221a65d472680480061ec7859b4": {
          "model_module": "@jupyter-widgets/controls",
          "model_name": "HTMLModel",
          "model_module_version": "1.5.0",
          "state": {
            "_dom_classes": [],
            "_model_module": "@jupyter-widgets/controls",
            "_model_module_version": "1.5.0",
            "_model_name": "HTMLModel",
            "_view_count": null,
            "_view_module": "@jupyter-widgets/controls",
            "_view_module_version": "1.5.0",
            "_view_name": "HTMLView",
            "description": "",
            "description_tooltip": null,
            "layout": "IPY_MODEL_5eb22e4eaf9e4fa7b18cca5595a99ed6",
            "placeholder": "​",
            "style": "IPY_MODEL_7831895c85cd4eb6aa2a9f5c530dd3a7",
            "value": " 3922/3922 [12:01&lt;00:00,  5.76it/s]"
          }
        },
        "cea54e6961d9411bb97a4de1ca8009e8": {
          "model_module": "@jupyter-widgets/base",
          "model_name": "LayoutModel",
          "model_module_version": "1.2.0",
          "state": {
            "_model_module": "@jupyter-widgets/base",
            "_model_module_version": "1.2.0",
            "_model_name": "LayoutModel",
            "_view_count": null,
            "_view_module": "@jupyter-widgets/base",
            "_view_module_version": "1.2.0",
            "_view_name": "LayoutView",
            "align_content": null,
            "align_items": null,
            "align_self": null,
            "border": null,
            "bottom": null,
            "display": null,
            "flex": null,
            "flex_flow": null,
            "grid_area": null,
            "grid_auto_columns": null,
            "grid_auto_flow": null,
            "grid_auto_rows": null,
            "grid_column": null,
            "grid_gap": null,
            "grid_row": null,
            "grid_template_areas": null,
            "grid_template_columns": null,
            "grid_template_rows": null,
            "height": null,
            "justify_content": null,
            "justify_items": null,
            "left": null,
            "margin": null,
            "max_height": null,
            "max_width": null,
            "min_height": null,
            "min_width": null,
            "object_fit": null,
            "object_position": null,
            "order": null,
            "overflow": null,
            "overflow_x": null,
            "overflow_y": null,
            "padding": null,
            "right": null,
            "top": null,
            "visibility": null,
            "width": null
          }
        },
        "cc7394e1d1e74900a0558f27e5f0d833": {
          "model_module": "@jupyter-widgets/base",
          "model_name": "LayoutModel",
          "model_module_version": "1.2.0",
          "state": {
            "_model_module": "@jupyter-widgets/base",
            "_model_module_version": "1.2.0",
            "_model_name": "LayoutModel",
            "_view_count": null,
            "_view_module": "@jupyter-widgets/base",
            "_view_module_version": "1.2.0",
            "_view_name": "LayoutView",
            "align_content": null,
            "align_items": null,
            "align_self": null,
            "border": null,
            "bottom": null,
            "display": null,
            "flex": null,
            "flex_flow": null,
            "grid_area": null,
            "grid_auto_columns": null,
            "grid_auto_flow": null,
            "grid_auto_rows": null,
            "grid_column": null,
            "grid_gap": null,
            "grid_row": null,
            "grid_template_areas": null,
            "grid_template_columns": null,
            "grid_template_rows": null,
            "height": null,
            "justify_content": null,
            "justify_items": null,
            "left": null,
            "margin": null,
            "max_height": null,
            "max_width": null,
            "min_height": null,
            "min_width": null,
            "object_fit": null,
            "object_position": null,
            "order": null,
            "overflow": null,
            "overflow_x": null,
            "overflow_y": null,
            "padding": null,
            "right": null,
            "top": null,
            "visibility": null,
            "width": null
          }
        },
        "ee208c8f95994552837d31f86fdb6043": {
          "model_module": "@jupyter-widgets/controls",
          "model_name": "DescriptionStyleModel",
          "model_module_version": "1.5.0",
          "state": {
            "_model_module": "@jupyter-widgets/controls",
            "_model_module_version": "1.5.0",
            "_model_name": "DescriptionStyleModel",
            "_view_count": null,
            "_view_module": "@jupyter-widgets/base",
            "_view_module_version": "1.2.0",
            "_view_name": "StyleView",
            "description_width": ""
          }
        },
        "9b29e9574b4646608fde2f1f362968eb": {
          "model_module": "@jupyter-widgets/base",
          "model_name": "LayoutModel",
          "model_module_version": "1.2.0",
          "state": {
            "_model_module": "@jupyter-widgets/base",
            "_model_module_version": "1.2.0",
            "_model_name": "LayoutModel",
            "_view_count": null,
            "_view_module": "@jupyter-widgets/base",
            "_view_module_version": "1.2.0",
            "_view_name": "LayoutView",
            "align_content": null,
            "align_items": null,
            "align_self": null,
            "border": null,
            "bottom": null,
            "display": null,
            "flex": null,
            "flex_flow": null,
            "grid_area": null,
            "grid_auto_columns": null,
            "grid_auto_flow": null,
            "grid_auto_rows": null,
            "grid_column": null,
            "grid_gap": null,
            "grid_row": null,
            "grid_template_areas": null,
            "grid_template_columns": null,
            "grid_template_rows": null,
            "height": null,
            "justify_content": null,
            "justify_items": null,
            "left": null,
            "margin": null,
            "max_height": null,
            "max_width": null,
            "min_height": null,
            "min_width": null,
            "object_fit": null,
            "object_position": null,
            "order": null,
            "overflow": null,
            "overflow_x": null,
            "overflow_y": null,
            "padding": null,
            "right": null,
            "top": null,
            "visibility": null,
            "width": null
          }
        },
        "3084159d4f464bde934be39eee402bec": {
          "model_module": "@jupyter-widgets/controls",
          "model_name": "ProgressStyleModel",
          "model_module_version": "1.5.0",
          "state": {
            "_model_module": "@jupyter-widgets/controls",
            "_model_module_version": "1.5.0",
            "_model_name": "ProgressStyleModel",
            "_view_count": null,
            "_view_module": "@jupyter-widgets/base",
            "_view_module_version": "1.2.0",
            "_view_name": "StyleView",
            "bar_color": null,
            "description_width": ""
          }
        },
        "5eb22e4eaf9e4fa7b18cca5595a99ed6": {
          "model_module": "@jupyter-widgets/base",
          "model_name": "LayoutModel",
          "model_module_version": "1.2.0",
          "state": {
            "_model_module": "@jupyter-widgets/base",
            "_model_module_version": "1.2.0",
            "_model_name": "LayoutModel",
            "_view_count": null,
            "_view_module": "@jupyter-widgets/base",
            "_view_module_version": "1.2.0",
            "_view_name": "LayoutView",
            "align_content": null,
            "align_items": null,
            "align_self": null,
            "border": null,
            "bottom": null,
            "display": null,
            "flex": null,
            "flex_flow": null,
            "grid_area": null,
            "grid_auto_columns": null,
            "grid_auto_flow": null,
            "grid_auto_rows": null,
            "grid_column": null,
            "grid_gap": null,
            "grid_row": null,
            "grid_template_areas": null,
            "grid_template_columns": null,
            "grid_template_rows": null,
            "height": null,
            "justify_content": null,
            "justify_items": null,
            "left": null,
            "margin": null,
            "max_height": null,
            "max_width": null,
            "min_height": null,
            "min_width": null,
            "object_fit": null,
            "object_position": null,
            "order": null,
            "overflow": null,
            "overflow_x": null,
            "overflow_y": null,
            "padding": null,
            "right": null,
            "top": null,
            "visibility": null,
            "width": null
          }
        },
        "7831895c85cd4eb6aa2a9f5c530dd3a7": {
          "model_module": "@jupyter-widgets/controls",
          "model_name": "DescriptionStyleModel",
          "model_module_version": "1.5.0",
          "state": {
            "_model_module": "@jupyter-widgets/controls",
            "_model_module_version": "1.5.0",
            "_model_name": "DescriptionStyleModel",
            "_view_count": null,
            "_view_module": "@jupyter-widgets/base",
            "_view_module_version": "1.2.0",
            "_view_name": "StyleView",
            "description_width": ""
          }
        },
        "b1000aa9aa294f84a47165ff2b64e99c": {
          "model_module": "@jupyter-widgets/controls",
          "model_name": "HBoxModel",
          "model_module_version": "1.5.0",
          "state": {
            "_dom_classes": [],
            "_model_module": "@jupyter-widgets/controls",
            "_model_module_version": "1.5.0",
            "_model_name": "HBoxModel",
            "_view_count": null,
            "_view_module": "@jupyter-widgets/controls",
            "_view_module_version": "1.5.0",
            "_view_name": "HBoxView",
            "box_style": "",
            "children": [
              "IPY_MODEL_7fd44783fe9e40f2a20ba575332e6e87",
              "IPY_MODEL_9b45e9cf243e4f85a35895007145df02",
              "IPY_MODEL_d6d25e762bef4acfa63d87adebae004e"
            ],
            "layout": "IPY_MODEL_dabdc0a636e04eeaac771ad9fae23e07"
          }
        },
        "7fd44783fe9e40f2a20ba575332e6e87": {
          "model_module": "@jupyter-widgets/controls",
          "model_name": "HTMLModel",
          "model_module_version": "1.5.0",
          "state": {
            "_dom_classes": [],
            "_model_module": "@jupyter-widgets/controls",
            "_model_module_version": "1.5.0",
            "_model_name": "HTMLModel",
            "_view_count": null,
            "_view_module": "@jupyter-widgets/controls",
            "_view_module_version": "1.5.0",
            "_view_name": "HTMLView",
            "description": "",
            "description_tooltip": null,
            "layout": "IPY_MODEL_3bb5819d132049c09a090128f2d24815",
            "placeholder": "​",
            "style": "IPY_MODEL_b9de1773cd2b4ebda04c2a610cb6c329",
            "value": "100%"
          }
        },
        "9b45e9cf243e4f85a35895007145df02": {
          "model_module": "@jupyter-widgets/controls",
          "model_name": "FloatProgressModel",
          "model_module_version": "1.5.0",
          "state": {
            "_dom_classes": [],
            "_model_module": "@jupyter-widgets/controls",
            "_model_module_version": "1.5.0",
            "_model_name": "FloatProgressModel",
            "_view_count": null,
            "_view_module": "@jupyter-widgets/controls",
            "_view_module_version": "1.5.0",
            "_view_name": "ProgressView",
            "bar_style": "success",
            "description": "",
            "description_tooltip": null,
            "layout": "IPY_MODEL_599f843a01644a289d0e36acc70bf11e",
            "max": 3922,
            "min": 0,
            "orientation": "horizontal",
            "style": "IPY_MODEL_f87b52e916b84293bc30a60823085513",
            "value": 3922
          }
        },
        "d6d25e762bef4acfa63d87adebae004e": {
          "model_module": "@jupyter-widgets/controls",
          "model_name": "HTMLModel",
          "model_module_version": "1.5.0",
          "state": {
            "_dom_classes": [],
            "_model_module": "@jupyter-widgets/controls",
            "_model_module_version": "1.5.0",
            "_model_name": "HTMLModel",
            "_view_count": null,
            "_view_module": "@jupyter-widgets/controls",
            "_view_module_version": "1.5.0",
            "_view_name": "HTMLView",
            "description": "",
            "description_tooltip": null,
            "layout": "IPY_MODEL_b5bf498579c545af9f6754736312c4ce",
            "placeholder": "​",
            "style": "IPY_MODEL_14d429a729564885ab5c095093ea3cfd",
            "value": " 3922/3922 [11:44&lt;00:00,  5.82it/s]"
          }
        },
        "dabdc0a636e04eeaac771ad9fae23e07": {
          "model_module": "@jupyter-widgets/base",
          "model_name": "LayoutModel",
          "model_module_version": "1.2.0",
          "state": {
            "_model_module": "@jupyter-widgets/base",
            "_model_module_version": "1.2.0",
            "_model_name": "LayoutModel",
            "_view_count": null,
            "_view_module": "@jupyter-widgets/base",
            "_view_module_version": "1.2.0",
            "_view_name": "LayoutView",
            "align_content": null,
            "align_items": null,
            "align_self": null,
            "border": null,
            "bottom": null,
            "display": null,
            "flex": null,
            "flex_flow": null,
            "grid_area": null,
            "grid_auto_columns": null,
            "grid_auto_flow": null,
            "grid_auto_rows": null,
            "grid_column": null,
            "grid_gap": null,
            "grid_row": null,
            "grid_template_areas": null,
            "grid_template_columns": null,
            "grid_template_rows": null,
            "height": null,
            "justify_content": null,
            "justify_items": null,
            "left": null,
            "margin": null,
            "max_height": null,
            "max_width": null,
            "min_height": null,
            "min_width": null,
            "object_fit": null,
            "object_position": null,
            "order": null,
            "overflow": null,
            "overflow_x": null,
            "overflow_y": null,
            "padding": null,
            "right": null,
            "top": null,
            "visibility": null,
            "width": null
          }
        },
        "3bb5819d132049c09a090128f2d24815": {
          "model_module": "@jupyter-widgets/base",
          "model_name": "LayoutModel",
          "model_module_version": "1.2.0",
          "state": {
            "_model_module": "@jupyter-widgets/base",
            "_model_module_version": "1.2.0",
            "_model_name": "LayoutModel",
            "_view_count": null,
            "_view_module": "@jupyter-widgets/base",
            "_view_module_version": "1.2.0",
            "_view_name": "LayoutView",
            "align_content": null,
            "align_items": null,
            "align_self": null,
            "border": null,
            "bottom": null,
            "display": null,
            "flex": null,
            "flex_flow": null,
            "grid_area": null,
            "grid_auto_columns": null,
            "grid_auto_flow": null,
            "grid_auto_rows": null,
            "grid_column": null,
            "grid_gap": null,
            "grid_row": null,
            "grid_template_areas": null,
            "grid_template_columns": null,
            "grid_template_rows": null,
            "height": null,
            "justify_content": null,
            "justify_items": null,
            "left": null,
            "margin": null,
            "max_height": null,
            "max_width": null,
            "min_height": null,
            "min_width": null,
            "object_fit": null,
            "object_position": null,
            "order": null,
            "overflow": null,
            "overflow_x": null,
            "overflow_y": null,
            "padding": null,
            "right": null,
            "top": null,
            "visibility": null,
            "width": null
          }
        },
        "b9de1773cd2b4ebda04c2a610cb6c329": {
          "model_module": "@jupyter-widgets/controls",
          "model_name": "DescriptionStyleModel",
          "model_module_version": "1.5.0",
          "state": {
            "_model_module": "@jupyter-widgets/controls",
            "_model_module_version": "1.5.0",
            "_model_name": "DescriptionStyleModel",
            "_view_count": null,
            "_view_module": "@jupyter-widgets/base",
            "_view_module_version": "1.2.0",
            "_view_name": "StyleView",
            "description_width": ""
          }
        },
        "599f843a01644a289d0e36acc70bf11e": {
          "model_module": "@jupyter-widgets/base",
          "model_name": "LayoutModel",
          "model_module_version": "1.2.0",
          "state": {
            "_model_module": "@jupyter-widgets/base",
            "_model_module_version": "1.2.0",
            "_model_name": "LayoutModel",
            "_view_count": null,
            "_view_module": "@jupyter-widgets/base",
            "_view_module_version": "1.2.0",
            "_view_name": "LayoutView",
            "align_content": null,
            "align_items": null,
            "align_self": null,
            "border": null,
            "bottom": null,
            "display": null,
            "flex": null,
            "flex_flow": null,
            "grid_area": null,
            "grid_auto_columns": null,
            "grid_auto_flow": null,
            "grid_auto_rows": null,
            "grid_column": null,
            "grid_gap": null,
            "grid_row": null,
            "grid_template_areas": null,
            "grid_template_columns": null,
            "grid_template_rows": null,
            "height": null,
            "justify_content": null,
            "justify_items": null,
            "left": null,
            "margin": null,
            "max_height": null,
            "max_width": null,
            "min_height": null,
            "min_width": null,
            "object_fit": null,
            "object_position": null,
            "order": null,
            "overflow": null,
            "overflow_x": null,
            "overflow_y": null,
            "padding": null,
            "right": null,
            "top": null,
            "visibility": null,
            "width": null
          }
        },
        "f87b52e916b84293bc30a60823085513": {
          "model_module": "@jupyter-widgets/controls",
          "model_name": "ProgressStyleModel",
          "model_module_version": "1.5.0",
          "state": {
            "_model_module": "@jupyter-widgets/controls",
            "_model_module_version": "1.5.0",
            "_model_name": "ProgressStyleModel",
            "_view_count": null,
            "_view_module": "@jupyter-widgets/base",
            "_view_module_version": "1.2.0",
            "_view_name": "StyleView",
            "bar_color": null,
            "description_width": ""
          }
        },
        "b5bf498579c545af9f6754736312c4ce": {
          "model_module": "@jupyter-widgets/base",
          "model_name": "LayoutModel",
          "model_module_version": "1.2.0",
          "state": {
            "_model_module": "@jupyter-widgets/base",
            "_model_module_version": "1.2.0",
            "_model_name": "LayoutModel",
            "_view_count": null,
            "_view_module": "@jupyter-widgets/base",
            "_view_module_version": "1.2.0",
            "_view_name": "LayoutView",
            "align_content": null,
            "align_items": null,
            "align_self": null,
            "border": null,
            "bottom": null,
            "display": null,
            "flex": null,
            "flex_flow": null,
            "grid_area": null,
            "grid_auto_columns": null,
            "grid_auto_flow": null,
            "grid_auto_rows": null,
            "grid_column": null,
            "grid_gap": null,
            "grid_row": null,
            "grid_template_areas": null,
            "grid_template_columns": null,
            "grid_template_rows": null,
            "height": null,
            "justify_content": null,
            "justify_items": null,
            "left": null,
            "margin": null,
            "max_height": null,
            "max_width": null,
            "min_height": null,
            "min_width": null,
            "object_fit": null,
            "object_position": null,
            "order": null,
            "overflow": null,
            "overflow_x": null,
            "overflow_y": null,
            "padding": null,
            "right": null,
            "top": null,
            "visibility": null,
            "width": null
          }
        },
        "14d429a729564885ab5c095093ea3cfd": {
          "model_module": "@jupyter-widgets/controls",
          "model_name": "DescriptionStyleModel",
          "model_module_version": "1.5.0",
          "state": {
            "_model_module": "@jupyter-widgets/controls",
            "_model_module_version": "1.5.0",
            "_model_name": "DescriptionStyleModel",
            "_view_count": null,
            "_view_module": "@jupyter-widgets/base",
            "_view_module_version": "1.2.0",
            "_view_name": "StyleView",
            "description_width": ""
          }
        }
      }
    }
  },
  "cells": [
    {
      "cell_type": "markdown",
      "metadata": {
        "id": "view-in-github",
        "colab_type": "text"
      },
      "source": [
        "<a href=\"https://colab.research.google.com/github/M-Amrollahi/Personal-Notes/blob/master/ML-notes/train_transDecoder_charBase_Andrej.ipynb\" target=\"_parent\"><img src=\"https://colab.research.google.com/assets/colab-badge.svg\" alt=\"Open In Colab\"/></a>"
      ]
    },
    {
      "cell_type": "code",
      "source": [
        "!pip install -q x-transformers\n",
        "!pip install -q torchinfo"
      ],
      "metadata": {
        "id": "ZxtAiv83BR7C"
      },
      "execution_count": 51,
      "outputs": []
    },
    {
      "cell_type": "markdown",
      "source": [
        "## How to use n-gram model to generate text?"
      ],
      "metadata": {
        "id": "QtryTIpdsTKz"
      }
    },
    {
      "cell_type": "code",
      "source": [
        "import torch\n",
        "from torch.optim import Adam\n",
        "from torch import nn\n",
        "from torch.utils.data import Dataset,DataLoader\n",
        "from torch.functional import F\n",
        "from tqdm.notebook import tqdm\n",
        "import torchinfo"
      ],
      "metadata": {
        "id": "THylrKeS6It4"
      },
      "execution_count": 37,
      "outputs": []
    },
    {
      "cell_type": "code",
      "source": [
        "!wget https://raw.githubusercontent.com/karpathy/char-rnn/master/data/tinyshakespeare/input.txt"
      ],
      "metadata": {
        "colab": {
          "base_uri": "https://localhost:8080/"
        },
        "id": "70fiP25L6Yfv",
        "outputId": "be61a6ea-fe72-4490-a172-8fb8fbd4935b"
      },
      "execution_count": 12,
      "outputs": [
        {
          "output_type": "stream",
          "name": "stdout",
          "text": [
            "--2023-06-09 02:39:25--  https://raw.githubusercontent.com/karpathy/char-rnn/master/data/tinyshakespeare/input.txt\n",
            "Resolving raw.githubusercontent.com (raw.githubusercontent.com)... 185.199.110.133, 185.199.108.133, 185.199.109.133, ...\n",
            "Connecting to raw.githubusercontent.com (raw.githubusercontent.com)|185.199.110.133|:443... connected.\n",
            "HTTP request sent, awaiting response... 200 OK\n",
            "Length: 1115394 (1.1M) [text/plain]\n",
            "Saving to: ‘input.txt.1’\n",
            "\n",
            "\rinput.txt.1           0%[                    ]       0  --.-KB/s               \rinput.txt.1         100%[===================>]   1.06M  --.-KB/s    in 0.04s   \n",
            "\n",
            "2023-06-09 02:39:26 (27.8 MB/s) - ‘input.txt.1’ saved [1115394/1115394]\n",
            "\n"
          ]
        }
      ]
    },
    {
      "cell_type": "code",
      "source": [
        "with open(\"input.txt\",\"r\") as f:\n",
        "    text = f.read()\n",
        "\n",
        "chars = sorted(list(set(text)))\n",
        "stoi = { ch:i for i,ch in enumerate(chars) }\n",
        "itos = { i:ch for i,ch in enumerate(chars) }\n",
        "encode = lambda s: [stoi[c] for c in s] # encoder: take a string, output a list of integers\n",
        "decode = lambda l: ''.join([itos[i] for i in l]) # decoder: take a list of integers, output a string\n",
        "vocabSize = len(chars)"
      ],
      "metadata": {
        "id": "QnWO5OU-6lNV"
      },
      "execution_count": 13,
      "outputs": []
    },
    {
      "cell_type": "code",
      "source": [
        "class cls_data(Dataset):\n",
        "    def __init__(self, text, chunkSize=8):\n",
        "        super().__init__()\n",
        "        \n",
        "        \n",
        "        textEnc = torch.asarray(encode(text))\n",
        "\n",
        "        ix = len(textEnc) - 1\n",
        "        self.x = textEnc[:ix] \n",
        "        self.y = textEnc[1:]\n",
        "        \n",
        "        \n",
        "        \n",
        "\n",
        "    def __len__(self):\n",
        "        #return len(self.m_data)\n",
        "        return self.x.shape[0]\n",
        "\n",
        "    def __getitem__(self, index):\n",
        "        \n",
        "        return self.x[index], self.y[index]"
      ],
      "metadata": {
        "id": "HhrBiOR97ZKR"
      },
      "execution_count": 44,
      "outputs": []
    },
    {
      "cell_type": "code",
      "source": [
        "class cls_ngram(nn.Module):\n",
        "    def __init__(self,chunkSize=8):\n",
        "        super().__init__()\n",
        "        embedSize = 10\n",
        "        self.m_emb = nn.Embedding(vocabSize, embedSize)\n",
        "        self.m_model = nn.Sequential(\n",
        "            nn.Linear(chunkSize*embedSize , vocabSize),\n",
        "            nn.ReLU(),\n",
        "        )\n",
        "\n",
        "    def forward(self, x):\n",
        "        \n",
        "        x = self.m_emb.forward(x)\n",
        "        \n",
        "        logits = self.m_model.forward(x)\n",
        "\n",
        "        return logits\n",
        "\n",
        "    \n",
        "    @torch.no_grad()\n",
        "    def f_valLoss(self, xLoader):\n",
        "        self.m_model.eval()\n",
        "        lstLoss = []\n",
        "        for xb, yb in xLoader:\n",
        "            logits = self.forward(xb)\n",
        "            loss = criterion.forward(logits, yb)\n",
        "\n",
        "            lstLoss.append(loss.item())\n",
        "        loss = sum(lstLoss)/len(lstLoss)\n",
        "\n",
        "        return loss\n",
        "\n",
        "\n",
        "    def generate(self, idx, max_new_tokens):\n",
        "        # idx is (B, T) array of indices in the current context\n",
        "        for _ in range(max_new_tokens):\n",
        "            # get the predictions\n",
        "            logits = self(idx)\n",
        "            # focus only on the last time step\n",
        "            logits = logits[:, -1, :] # becomes (B, C)\n",
        "            # apply softmax to get probabilities\n",
        "            probs = F.softmax(logits, dim=-1) # (B, C)\n",
        "            # sample from the distribution\n",
        "            idx_next = torch.multinomial(probs, num_samples=1) # (B, 1)\n",
        "            # append sampled index to the running sequence\n",
        "            idx = torch.cat((idx, idx_next), dim=1) # (B, T+1)\n",
        "        return idx"
      ],
      "metadata": {
        "id": "JAWgd_J-6y3n"
      },
      "execution_count": null,
      "outputs": []
    },
    {
      "cell_type": "code",
      "source": [
        "dsTrain = cls_data(text[:int(.9*len(text))])\n",
        "dsVal = cls_data(text[int(.9*len(text)):])"
      ],
      "metadata": {
        "id": "yz8QkYkKgYL5"
      },
      "execution_count": null,
      "outputs": []
    },
    {
      "cell_type": "code",
      "source": [
        "epochs = 3\n",
        "\n",
        "model = cls_ngram(chunkSize=1)\n",
        "\n",
        "dsTrainLoader = DataLoader(dsTrain, batch_size=256)\n",
        "dsValLoader = DataLoader(dsVal, batch_size=256)\n",
        "\n",
        "optimizer = Adam(model.parameters(), lr=3e-3)\n",
        "criterion = nn.CrossEntropyLoss()\n",
        "\n",
        "for i in range(epochs):\n",
        "    lstLoss = list()\n",
        "    for idx, (xb, yb) in enumerate(tqdm(dsTrainLoader)):\n",
        "        \n",
        "        #print(xb.shape)\n",
        "        logits = model.forward(xb)\n",
        "\n",
        "\n",
        "        loss = criterion.forward(logits, yb)\n",
        "\n",
        "        optimizer.zero_grad()\n",
        "        loss.backward()\n",
        "        optimizer.step()\n",
        "\n",
        "        lstLoss.append( loss.item())\n",
        "    \n",
        "    valLoss = model.f_valLoss(dsValLoader)\n",
        "\n",
        "    print(f\"train loss: {sum(lstLoss)/len(lstLoss):.4f} , val loss: {valLoss:.4f}\")"
      ],
      "metadata": {
        "id": "hBVktw8zUlau"
      },
      "execution_count": null,
      "outputs": []
    },
    {
      "cell_type": "code",
      "source": [
        "context = torch.zeros((1,1), dtype=torch.long)\n",
        "print(decode(model.generate(context, max_new_tokens=200)[0].tolist()))"
      ],
      "metadata": {
        "id": "8nYp7yJCzjDv"
      },
      "execution_count": null,
      "outputs": []
    },
    {
      "cell_type": "markdown",
      "source": [
        "## How to apply Decoder part of the transformer uisng x-transformer"
      ],
      "metadata": {
        "id": "bVTO9xAkr6Wu"
      }
    },
    {
      "cell_type": "code",
      "source": [
        "class cls_data_transformer(Dataset):\n",
        "    \"\"\"\n",
        "    Based on each space in the corpus, we make a data from that index with the len of chunkSize.\n",
        "    The len of the dataset is the number of these whitespaces\n",
        "    \"\"\"\n",
        "    def __init__(self, text, chunkSize=8):\n",
        "        super().__init__()\n",
        "        self.m_chunkSize = chunkSize\n",
        "        \n",
        "        self.m_textEnc = torch.asarray(encode(text))\n",
        "\n",
        "        #ix = len(self.m_textEnc) - 1\n",
        "        #self.x = self.m_textEnc[:ix] #torch.stack([textEnc[i:i+chunkSize] for i in range(ix)])\n",
        "        #self.y = self.m_textEnc[1:]#torch.stack([textEnc[i+1:i+1+chunkSize] for i in range(ix)])\n",
        "        \n",
        "        self.sp_indeces = (self.m_textEnc==stoi[\" \"]).argwhere()+1\n",
        "        \n",
        "\n",
        "    def __len__(self):\n",
        "        \n",
        "        #return len(self.x) - self.m_chunkSize - 1\n",
        "\n",
        "        for i in range(len(self.sp_indeces)-1,0,-1):\n",
        "            if self.sp_indeces[i].item() + self.m_chunkSize + 1 < self.m_textEnc.shape[0]:\n",
        "                break\n",
        "\n",
        "        return i\n",
        "\n",
        "    def __getitem__(self, index):\n",
        "        \n",
        "        #return self.x[index:index+self.m_chunkSize],self.y[index:index+self.m_chunkSize]\n",
        "        \n",
        "        a = self.sp_indeces[index]\n",
        "        \n",
        "        return self.m_textEnc[a: a+self.m_chunkSize], self.m_textEnc[a+1: a+1+self.m_chunkSize]\n",
        "        "
      ],
      "metadata": {
        "id": "zlh2AXTesJwK"
      },
      "execution_count": null,
      "outputs": []
    },
    {
      "cell_type": "code",
      "source": [
        "@torch.no_grad()\n",
        "def f_valLoss(model, xLoader):\n",
        "    model.eval()\n",
        "    lstLoss = []\n",
        "    for xb, yb in xLoader:\n",
        "        logits = model.forward(xb)\n",
        "        #loss = criterion.forward(logits, yb)\n",
        "        loss=criterion.forward(logits.reshape(-1,logits.shape[-1]), yb.reshape(-1))\n",
        "\n",
        "        lstLoss.append(loss.item())\n",
        "    loss = sum(lstLoss)/len(lstLoss)\n",
        "\n",
        "    return loss\n",
        "\n",
        "\n",
        "def generate(model,idx, max_new_tokens):\n",
        "    # idx is (B, T) array of indices in the current context\n",
        "    for _ in range(max_new_tokens):\n",
        "        # get the predictions\n",
        "        logits = model(idx)\n",
        "        # focus only on the last time step\n",
        "        logits = logits[:, -1, :] # becomes (B, C)\n",
        "        # apply softmax to get probabilities\n",
        "        probs = F.softmax(logits, dim=-1) # (B, C)\n",
        "        # sample from the distribution\n",
        "        idx_next = torch.multinomial(probs, num_samples=1) # (B, 1)\n",
        "        # append sampled index to the running sequence\n",
        "        idx = torch.cat((idx, idx_next), dim=1) # (B, T+1)\n",
        "    return idx"
      ],
      "metadata": {
        "id": "pjUy_FWJIov0"
      },
      "execution_count": 34,
      "outputs": []
    },
    {
      "cell_type": "code",
      "source": [
        "dsTrain = cls_data_transformer(text[:int(.9*len(text))])\n",
        "dsVal = cls_data_transformer(text[int(.9*len(text)):])"
      ],
      "metadata": {
        "id": "AQEmdTEOfyH2"
      },
      "execution_count": 45,
      "outputs": []
    },
    {
      "cell_type": "code",
      "source": [
        "from x_transformers import TransformerWrapper, Decoder\n",
        "\n",
        "model = TransformerWrapper(\n",
        "    num_tokens = vocabSize,\n",
        "    max_seq_len = 200,\n",
        "    attn_layers = Decoder(\n",
        "        dim = 100,\n",
        "        depth = 3,\n",
        "        heads = 3\n",
        "    )\n",
        ")\n",
        "epochs = 3\n",
        "\n",
        "dsTrainLoader = DataLoader(dsTrain, batch_size=256)\n",
        "dsValLoader = DataLoader(dsVal, batch_size=256)\n",
        "\n",
        "optimizer = Adam(model.parameters(), lr=3e-3)\n",
        "criterion = nn.CrossEntropyLoss()\n",
        "\n",
        "for i in range(epochs):\n",
        "    lstLoss = list()\n",
        "    for idx, (xb, yb) in enumerate(tqdm(dsTrainLoader)):\n",
        "        \n",
        "        #print(xb.shape)\n",
        "        logits = model.forward(xb)\n",
        "\n",
        "        #print(yb.shape)\n",
        "        #print(logits.shape)\n",
        "       \n",
        "\n",
        "        #yb = yb.reshape(-1)\n",
        "\n",
        "        loss = criterion.forward(logits.reshape(-1,logits.shape[-1]), yb.reshape(-1))\n",
        "\n",
        "        optimizer.zero_grad()\n",
        "        loss.backward()\n",
        "        optimizer.step()\n",
        "\n",
        "        lstLoss.append( loss.item())\n",
        "    \n",
        "    valLoss = f_valLoss(model,dsValLoader)\n",
        "\n",
        "    print(f\"train loss: {sum(lstLoss)/len(lstLoss):.4f} , val loss: {valLoss:.4f}\")"
      ],
      "metadata": {
        "colab": {
          "base_uri": "https://localhost:8080/",
          "height": 167,
          "referenced_widgets": [
            "ee4bd6eac8c2463e8ed685e4f9d3bf19",
            "18c37cb794d442dd9ff1bbfd9c82235b",
            "8feba73d7243413f87519ba72f24bda2",
            "bdb92ed56515412f96cc7ded29305e60",
            "576c5ff1d71947248500b40f56ed8674",
            "38155e5591234f9187e3aedf49213ec9",
            "9b0b747a919048b28b7892bddfd3c35c",
            "778efcfc56af4b08b5599a1c70935fd1",
            "ce1d17594021480fac35bf72b2dc7246",
            "3bfea478b08c44978e0c2396acf85fca",
            "6befb9b1fb3949b0a474c629987bbdd9",
            "138956cf2354430d8a79555d7624da5a",
            "483bd3bd1114466ba71e59d220f3bd15",
            "df3e429358c74fb0bf545d5c0c0f42dc",
            "b169e221a65d472680480061ec7859b4",
            "cea54e6961d9411bb97a4de1ca8009e8",
            "cc7394e1d1e74900a0558f27e5f0d833",
            "ee208c8f95994552837d31f86fdb6043",
            "9b29e9574b4646608fde2f1f362968eb",
            "3084159d4f464bde934be39eee402bec",
            "5eb22e4eaf9e4fa7b18cca5595a99ed6",
            "7831895c85cd4eb6aa2a9f5c530dd3a7",
            "b1000aa9aa294f84a47165ff2b64e99c",
            "7fd44783fe9e40f2a20ba575332e6e87",
            "9b45e9cf243e4f85a35895007145df02",
            "d6d25e762bef4acfa63d87adebae004e",
            "dabdc0a636e04eeaac771ad9fae23e07",
            "3bb5819d132049c09a090128f2d24815",
            "b9de1773cd2b4ebda04c2a610cb6c329",
            "599f843a01644a289d0e36acc70bf11e",
            "f87b52e916b84293bc30a60823085513",
            "b5bf498579c545af9f6754736312c4ce",
            "14d429a729564885ab5c095093ea3cfd"
          ]
        },
        "id": "232p3CgDgcxB",
        "outputId": "832b6302-7d25-4ced-dd62-9970b69d7229"
      },
      "execution_count": 46,
      "outputs": [
        {
          "data": {
            "application/vnd.jupyter.widget-view+json": {
              "model_id": "ee4bd6eac8c2463e8ed685e4f9d3bf19",
              "version_major": 2,
              "version_minor": 0
            },
            "text/plain": [
              "  0%|          | 0/3922 [00:00<?, ?it/s]"
            ]
          },
          "metadata": {},
          "output_type": "display_data"
        },
        {
          "metadata": {
            "tags": null
          },
          "name": "stdout",
          "output_type": "stream",
          "text": [
            "train loss: 2.0218 , val loss: 1.9802\n"
          ]
        },
        {
          "data": {
            "application/vnd.jupyter.widget-view+json": {
              "model_id": "138956cf2354430d8a79555d7624da5a",
              "version_major": 2,
              "version_minor": 0
            },
            "text/plain": [
              "  0%|          | 0/3922 [00:00<?, ?it/s]"
            ]
          },
          "metadata": {},
          "output_type": "display_data"
        },
        {
          "output_type": "stream",
          "name": "stdout",
          "text": [
            "train loss: 1.8290 , val loss: 1.9067\n"
          ]
        },
        {
          "output_type": "display_data",
          "data": {
            "text/plain": [
              "  0%|          | 0/3922 [00:00<?, ?it/s]"
            ],
            "application/vnd.jupyter.widget-view+json": {
              "version_major": 2,
              "version_minor": 0,
              "model_id": "b1000aa9aa294f84a47165ff2b64e99c"
            }
          },
          "metadata": {}
        },
        {
          "output_type": "stream",
          "name": "stdout",
          "text": [
            "train loss: 1.7629 , val loss: 1.8662\n"
          ]
        }
      ]
    },
    {
      "cell_type": "code",
      "source": [
        "context = torch.zeros((1,1), dtype=torch.long)\n",
        "print(decode(generate(model,context, max_new_tokens=200)[0].tolist()))"
      ],
      "metadata": {
        "colab": {
          "base_uri": "https://localhost:8080/"
        },
        "id": "z068rUoTK1N8",
        "outputId": "f54de6b1-a37c-4ebe-a3ec-762b9ec0f6d4"
      },
      "execution_count": 49,
      "outputs": [
        {
          "output_type": "stream",
          "name": "stdout",
          "text": [
            "\n",
            "Have you!\n",
            "Mor y Nerene Pele cereeara karearearedardea A:\n",
            "LYCorordleareatanaspturaseananord\n",
            "\n",
            "Sire Mar BAYCistirearesheasisarolearere, soir ba BASInarat cacinounor e ETANtreanordimaroune frordidilou,\n",
            "A:\n"
          ]
        }
      ]
    },
    {
      "cell_type": "code",
      "source": [
        "torchinfo.summary(model)"
      ],
      "metadata": {
        "colab": {
          "base_uri": "https://localhost:8080/"
        },
        "id": "v8TZakqv0GbY",
        "outputId": "1177e14b-7fd3-4cd2-8e3d-ea08d9afc052"
      },
      "execution_count": 50,
      "outputs": [
        {
          "output_type": "execute_result",
          "data": {
            "text/plain": [
              "===========================================================================\n",
              "Layer (type:depth-idx)                             Param #\n",
              "===========================================================================\n",
              "TransformerWrapper                                 --\n",
              "├─TokenEmbedding: 1-1                              --\n",
              "│    └─Embedding: 2-1                              6,500\n",
              "├─AbsolutePositionalEmbedding: 1-2                 --\n",
              "│    └─Embedding: 2-2                              20,000\n",
              "├─Identity: 1-3                                    --\n",
              "├─Dropout: 1-4                                     --\n",
              "├─Identity: 1-5                                    --\n",
              "├─Decoder: 1-6                                     --\n",
              "│    └─ModuleList: 2-3                             --\n",
              "│    │    └─ModuleList: 3-1                        77,000\n",
              "│    │    └─ModuleList: 3-2                        80,700\n",
              "│    │    └─ModuleList: 3-3                        77,000\n",
              "│    │    └─ModuleList: 3-4                        80,700\n",
              "│    │    └─ModuleList: 3-5                        77,000\n",
              "│    │    └─ModuleList: 3-6                        80,700\n",
              "│    └─LayerNorm: 2-4                              200\n",
              "├─Linear: 1-7                                      6,565\n",
              "===========================================================================\n",
              "Total params: 506,365\n",
              "Trainable params: 506,365\n",
              "Non-trainable params: 0\n",
              "==========================================================================="
            ]
          },
          "metadata": {},
          "execution_count": 50
        }
      ]
    }
  ]
}