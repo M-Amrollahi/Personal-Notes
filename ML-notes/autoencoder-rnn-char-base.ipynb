{
 "cells": [
  {
   "attachments": {},
   "cell_type": "markdown",
   "metadata": {},
   "source": [
    "## How we can build a simple rnn network to have char-base autoencoder"
   ]
  },
  {
   "cell_type": "code",
   "execution_count": 717,
   "metadata": {
    "vscode": {
     "languageId": "python"
    }
   },
   "outputs": [],
   "source": [
    "import torch\n",
    "from torch import nn\n",
    "from torch.utils.data import DataLoader,Dataset\n",
    "from torch.functional import F\n",
    "from torchinfo import summary"
   ]
  },
  {
   "cell_type": "code",
   "execution_count": 718,
   "metadata": {
    "vscode": {
     "languageId": "python"
    }
   },
   "outputs": [],
   "source": [
    "class cls_dataset(Dataset):\n",
    "    def __init__(self, fix_len = 0) -> None:\n",
    "        super().__init__()\n",
    "\n",
    "        self.fix_len = fix_len\n",
    "\n",
    "        with open(\"names.txt\", \"r\") as f:\n",
    "            s = f.read()\n",
    "\n",
    "        self.m_names = s.split()\n",
    "\n",
    "    def __len__(self):\n",
    "        return len(self.m_names)\n",
    "\n",
    "\n",
    "    def f_encode(self, str_t):\n",
    "        \n",
    "        t_res = torch.zeros((self.fix_len, 27),dtype=torch.int32)\n",
    "        \n",
    "        t_res[:,0] = 1\n",
    "        for i in range(t_res.shape[0]):\n",
    "            \n",
    "            if i < len(str_t) :\n",
    "                t_res[i][0] = 0\n",
    "                t_res[i][ord(str_t[i])-96] = 1\n",
    "            else:\n",
    "                break\n",
    "\n",
    "        return t_res\n",
    "\n",
    "\n",
    "    def __getitem__(self, index) :\n",
    "        x = self.f_encode(self.m_names[index])\n",
    "        x = x.type(torch.float32)\n",
    "        return x  , x"
   ]
  },
  {
   "cell_type": "code",
   "execution_count": 719,
   "metadata": {
    "vscode": {
     "languageId": "python"
    }
   },
   "outputs": [],
   "source": [
    "class cls_model(nn.Module):\n",
    "    def __init__(self, num_layer = 2) -> None:\n",
    "        super().__init__()\n",
    "\n",
    "        self.m_layers = num_layer\n",
    "        self.rnn1 = nn.RNN(input_size=27, hidden_size=27, num_layers= num_layer)\n",
    "        self.hlayer = nn.Sequential( nn.Linear(27,27), nn.ReLU(), nn.Linear(27,27))\n",
    "        self.rnn2 = nn.RNN(input_size=27, hidden_size=27, num_layers= num_layer)\n",
    "        \n",
    "\n",
    "    def forward(self, x):\n",
    "\n",
    "        h0 = torch.zeros((self.m_layers, x.shape[1], self.rnn1.hidden_size ))\n",
    "        x,_ = self.rnn1.forward(x, h0)\n",
    "        x = self.hlayer.forward(x)\n",
    "        x,_ = self.rnn2.forward(x, h0)\n",
    "\n",
    "        return x"
   ]
  },
  {
   "cell_type": "code",
   "execution_count": 720,
   "metadata": {
    "vscode": {
     "languageId": "python"
    }
   },
   "outputs": [],
   "source": [
    "ds = cls_dataset(8)\n",
    "\n",
    "ds_loader = DataLoader(ds, batch_size=16)"
   ]
  },
  {
   "cell_type": "code",
   "execution_count": 722,
   "metadata": {
    "vscode": {
     "languageId": "python"
    }
   },
   "outputs": [
    {
     "name": "stdout",
     "output_type": "stream",
     "text": [
      "tensor(0.3750, grad_fn=<DivBackward1>)\n",
      "tensor(0.3552, grad_fn=<DivBackward1>)\n",
      "tensor(0.3513, grad_fn=<DivBackward1>)\n",
      "tensor(0.3483, grad_fn=<DivBackward1>)\n"
     ]
    }
   ],
   "source": [
    "model = cls_model(2)\n",
    "\n",
    "criterion = nn.CrossEntropyLoss()\n",
    "optim = torch.optim.Adam(model.parameters(), lr=3e-4)\n",
    "\n",
    "epochs = 3\n",
    "model.train()\n",
    "\n",
    "for i in range(epochs):\n",
    "    for idx, (x, y) in enumerate(ds_loader):\n",
    "        \n",
    "        y_pred = model.forward(x)\n",
    "        \n",
    "        optim.zero_grad()\n",
    "        \n",
    "        loss = criterion.forward(y_pred, y)\n",
    "\n",
    "        loss.backward()\n",
    "        optim.step()\n",
    "            \n",
    "    print(loss)"
   ]
  },
  {
   "cell_type": "code",
   "execution_count": 723,
   "metadata": {
    "vscode": {
     "languageId": "python"
    }
   },
   "outputs": [
    {
     "name": "stdout",
     "output_type": "stream",
     "text": [
      "tensor([16,  5, 25, 20, 15, 14,  0,  0])\n"
     ]
    },
    {
     "data": {
      "text/plain": [
       "tensor([ 6,  5, 25, 20, 15, 14,  0,  0])"
      ]
     },
     "execution_count": 723,
     "metadata": {},
     "output_type": "execute_result"
    }
   ],
   "source": [
    "print(ds[100][0].argmax(dim=1))\n",
    "model.forward(ds[100][0][None,:,:]).squeeze(dim=0).argmax(dim=1)"
   ]
  },
  {
   "cell_type": "code",
   "execution_count": 724,
   "metadata": {
    "vscode": {
     "languageId": "python"
    }
   },
   "outputs": [
    {
     "data": {
      "text/plain": [
       "=================================================================\n",
       "Layer (type:depth-idx)                   Param #\n",
       "=================================================================\n",
       "cls_model                                --\n",
       "├─RNN: 1-1                               3,024\n",
       "├─Sequential: 1-2                        --\n",
       "│    └─Linear: 2-1                       756\n",
       "│    └─ReLU: 2-2                         --\n",
       "│    └─Linear: 2-3                       756\n",
       "├─RNN: 1-3                               3,024\n",
       "=================================================================\n",
       "Total params: 7,560\n",
       "Trainable params: 7,560\n",
       "Non-trainable params: 0\n",
       "================================================================="
      ]
     },
     "execution_count": 724,
     "metadata": {},
     "output_type": "execute_result"
    }
   ],
   "source": [
    "summary(model)"
   ]
  }
 ],
 "metadata": {
  "kernelspec": {
   "display_name": "Python 3 (ipykernel)",
   "language": "python",
   "name": "python3"
  },
  "orig_nbformat": 4
 },
 "nbformat": 4,
 "nbformat_minor": 2
}
