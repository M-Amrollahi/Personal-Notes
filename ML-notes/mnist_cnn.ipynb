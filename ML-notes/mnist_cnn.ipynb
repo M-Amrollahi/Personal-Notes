{
  "nbformat": 4,
  "nbformat_minor": 0,
  "metadata": {
    "colab": {
      "provenance": [],
      "authorship_tag": "ABX9TyOtl9L3DZuAcTF6Qm3g5+BA",
      "include_colab_link": true
    },
    "kernelspec": {
      "name": "python3",
      "display_name": "Python 3"
    },
    "language_info": {
      "name": "python"
    }
  },
  "cells": [
    {
      "cell_type": "markdown",
      "metadata": {
        "id": "view-in-github",
        "colab_type": "text"
      },
      "source": [
        "<a href=\"https://colab.research.google.com/github/M-Amrollahi/Personal-Notes/blob/master/ML-notes/mnist_cnn.ipynb\" target=\"_parent\"><img src=\"https://colab.research.google.com/assets/colab-badge.svg\" alt=\"Open In Colab\"/></a>"
      ]
    },
    {
      "cell_type": "code",
      "execution_count": 324,
      "metadata": {
        "id": "e4zSf2aInY11"
      },
      "outputs": [],
      "source": [
        "import numpy as np\n",
        "import matplotlib.pyplot as plt\n",
        "import seaborn as sns\n",
        "import torch\n",
        "from torchvision import datasets\n",
        "from IPython.display import display\n",
        "from PIL import Image\n",
        "from sklearn.model_selection import train_test_split\n",
        "from torch.utils.data import DataLoader,Dataset\n",
        "import torch.nn as nn\n",
        "import sklearn.metrics as metr\n",
        "from sklearn.decomposition import PCA"
      ]
    },
    {
      "cell_type": "code",
      "source": [
        "dsmnist = datasets.MNIST(\"./\",download=True)"
      ],
      "metadata": {
        "id": "GPE8GiRqyMa7"
      },
      "execution_count": 280,
      "outputs": []
    },
    {
      "cell_type": "code",
      "source": [
        "X_train, X_test, y_train, y_test = train_test_split(dsmnist.data, dsmnist.targets,test_size=.1,stratify=dsmnist.targets)\n",
        "X_val, X_test, y_val, y_test = train_test_split(X_test, y_test, test_size=.05, stratify=y_test)"
      ],
      "metadata": {
        "id": "T4n0m88r0YzM"
      },
      "execution_count": 337,
      "outputs": []
    },
    {
      "cell_type": "code",
      "source": [
        "class cls_data(Dataset):\n",
        "    \n",
        "    def __init__(self, x, y):\n",
        "        super().__init__()\n",
        "        self.data = x\n",
        "        self.target = y\n",
        "    def __len__(self):\n",
        "        return len(self.target)\n",
        "    def __getitem__(self, index) :\n",
        "        return self.data[index].unsqueeze(dim=0), self.target[index]\n"
      ],
      "metadata": {
        "id": "CnSdrs7w2SyL"
      },
      "execution_count": 283,
      "outputs": []
    },
    {
      "cell_type": "code",
      "source": [
        "ds_train = cls_data(X_train/255., y_train)\n",
        "ds_test = cls_data(X_test/255., y_test)\n",
        "ds_val = cls_data(X_val/255.,y_val)\n",
        "\n",
        "train_loader = DataLoader(ds_train,batch_size=16)\n",
        "test_loader = DataLoader(ds_test,batch_size=16)\n",
        "val_loader = DataLoader(ds_val,batch_size=16)"
      ],
      "metadata": {
        "id": "ZNinnBP82kNW"
      },
      "execution_count": 284,
      "outputs": []
    },
    {
      "cell_type": "code",
      "source": [
        "from collections import OrderedDict\n",
        "class cls_model(nn.Module):\n",
        "    def __init__(self) -> None:\n",
        "        super().__init__()\n",
        "\n",
        "        self.model_feature = nn.Sequential(OrderedDict([\n",
        "            (\"conv1\", nn.Conv2d(in_channels=1,out_channels=3,kernel_size=(3,3))),\n",
        "            (\"maxp1\", nn.MaxPool2d(2,2))]))\n",
        "        \n",
        "        self.model_classify = nn.Sequential(OrderedDict([\n",
        "            (\"linear1\",nn.Linear(13*13*3,500)),\n",
        "            (\"relu1\",nn.ReLU()),\n",
        "            (\"layernorm1\",nn.LayerNorm(500)),\n",
        "            (\"dropout1\", nn.Dropout(p=.1)),\n",
        "            (\"linear2\",nn.Linear(500,10))]\n",
        "        ))\n",
        "        #self.conv1 = torch.nn.Conv2d(in_channels=1,out_channels=3,kernel_size=(3,3))\n",
        "        #self.maxp = torch.nn.MaxPool2d(2,2)\n",
        "        #self.l1 = torch.nn.Linear(13*13*3,500)\n",
        "        #self.lnorm1 = torch.nn.LayerNorm(500)\n",
        "        #self.relu1 = torch.nn.ReLU()\n",
        "        #self.drop1 = torch.nn.Dropout(p=.1)\n",
        "        #self.l2 = torch.nn.Linear(500,10)\n",
        "\n",
        "    def forward(self, x):\n",
        "        #x = torch.permute(x,()\n",
        "        #x = self.conv1(x)\n",
        "        #x = self.maxp(x)\n",
        "        x = self.model_feature.forward(x)\n",
        "\n",
        "        x = x.reshape((x.shape[0],-1))\n",
        "        \n",
        "        y = self.model_classify(x)\n",
        "        #y = self.l2.forward(self.drop1( self.lnorm1(self.relu1( self.l1.forward(x)))))\n",
        "\n",
        "        return y"
      ],
      "metadata": {
        "id": "lw24LwbK4zjS"
      },
      "execution_count": 292,
      "outputs": []
    },
    {
      "cell_type": "code",
      "source": [
        "model = cls_model()\n",
        "model\n",
        "#model.forward(X_train[:5]/255.)"
      ],
      "metadata": {
        "colab": {
          "base_uri": "https://localhost:8080/"
        },
        "id": "t6V3zquz8y06",
        "outputId": "284bdc20-3667-43fa-f487-d17898bf56f2"
      },
      "execution_count": 293,
      "outputs": [
        {
          "output_type": "execute_result",
          "data": {
            "text/plain": [
              "cls_model(\n",
              "  (model_feature): Sequential(\n",
              "    (conv1): Conv2d(1, 3, kernel_size=(3, 3), stride=(1, 1))\n",
              "    (maxp1): MaxPool2d(kernel_size=2, stride=2, padding=0, dilation=1, ceil_mode=False)\n",
              "  )\n",
              "  (model_classify): Sequential(\n",
              "    (linear1): Linear(in_features=507, out_features=500, bias=True)\n",
              "    (relu1): ReLU()\n",
              "    (layernorm1): LayerNorm((500,), eps=1e-05, elementwise_affine=True)\n",
              "    (dropout1): Dropout(p=0.1, inplace=False)\n",
              "    (linear2): Linear(in_features=500, out_features=10, bias=True)\n",
              "  )\n",
              ")"
            ]
          },
          "metadata": {},
          "execution_count": 293
        }
      ]
    },
    {
      "cell_type": "code",
      "source": [
        "def f_validate(model, dloader, criterion):\n",
        "    model.eval()\n",
        "    preds = torch.empty(0)\n",
        "    targets = torch.empty(0)\n",
        "\n",
        "    tmpLoss = 0\n",
        "    for i , (x_batch, y_batch) in enumerate(dloader):\n",
        "        y_pred = model.forward(x_batch)\n",
        "        preds = torch.cat((preds, y_pred.argmax(dim=1)))\n",
        "        targets = torch.cat((targets,y_batch))\n",
        "\n",
        "        tmpLoss += criterion(y_pred, y_batch).item() / len(y_batch)\n",
        "        #lst_pred.append( [y_pred.argmax(dim=1),y_batch])\n",
        "    \n",
        "    return targets.detach().numpy(), preds.detach().numpy() , tmpLoss"
      ],
      "metadata": {
        "id": "13wIqmQc9k3w"
      },
      "execution_count": 294,
      "outputs": []
    },
    {
      "cell_type": "code",
      "source": [
        "criterion = torch.nn.CrossEntropyLoss()\n",
        "optim = torch.optim.SGD(model.parameters(), lr=1e-3)\n",
        "\n",
        "epochs = 20\n",
        "\n",
        "dict_res = dict()\n",
        "for i in range(epochs):\n",
        "    tmpLoss = 0.\n",
        "    for j,(x_batch, y_batch) in enumerate(train_loader):\n",
        "\n",
        "        y_pred = model.forward(x_batch)\n",
        "        #print(y_pred.shape)\n",
        "        #print(y_batch.unsqueeze(dim=1).shape)\n",
        "        loss = criterion(y_pred, y_batch)\n",
        "\n",
        "        optim.zero_grad()\n",
        "        loss.backward()\n",
        "        optim.step()\n",
        "\n",
        "        tmpLoss += loss.item() / len(y_batch)\n",
        "\n",
        "        #break\n",
        "    print(\"Loss:\" , tmpLoss)\n",
        "    target , pred, valLoss = f_validate(model, val_loader, criterion)\n",
        "    print(\"Val acc:\", metr.accuracy_score(target,pred), \"Val loss: \", valLoss)\n",
        "    dict_res[i] = tmpLoss"
      ],
      "metadata": {
        "colab": {
          "base_uri": "https://localhost:8080/"
        },
        "id": "piqRMqhH9ApJ",
        "outputId": "b993015d-c1d7-43ce-8b9a-56b9b375138e"
      },
      "execution_count": 295,
      "outputs": [
        {
          "output_type": "stream",
          "name": "stdout",
          "text": [
            "Loss: 110.65624448587187\n",
            "Val acc: 0.9175 Val loss:  1.4646462802775204\n",
            "Loss: 51.29999950330239\n",
            "Val acc: 0.93 Val loss:  1.0927996154641733\n",
            "Loss: 38.61577428737655\n",
            "Val acc: 0.9475 Val loss:  0.9042239282280207\n",
            "Loss: 31.61503527330933\n",
            "Val acc: 0.9541666666666667 Val loss:  0.7887071478180587\n",
            "Loss: 26.974761889956426\n",
            "Val acc: 0.9616666666666667 Val loss:  0.7117503937915899\n",
            "Loss: 23.61499532670132\n",
            "Val acc: 0.9641666666666666 Val loss:  0.6576144715072587\n",
            "Loss: 21.02983559394488\n",
            "Val acc: 0.9658333333333333 Val loss:  0.6160767178516835\n",
            "Loss: 18.961756214790512\n",
            "Val acc: 0.97 Val loss:  0.5854194757703226\n",
            "Loss: 17.22585506385076\n",
            "Val acc: 0.97 Val loss:  0.5584997901460156\n",
            "Loss: 15.749924018135061\n",
            "Val acc: 0.9716666666666667 Val loss:  0.5354654876864515\n",
            "Loss: 14.475815278536174\n",
            "Val acc: 0.9716666666666667 Val loss:  0.5175923689967021\n",
            "Loss: 13.362895345155266\n",
            "Val acc: 0.9716666666666667 Val loss:  0.5014420833904296\n",
            "Loss: 12.37190948271018\n",
            "Val acc: 0.9716666666666667 Val loss:  0.4878295623057056\n",
            "Loss: 11.499122372893908\n",
            "Val acc: 0.9725 Val loss:  0.47465164805180393\n",
            "Loss: 10.708516700389737\n",
            "Val acc: 0.9725 Val loss:  0.4627989168075146\n",
            "Loss: 9.99404528127343\n",
            "Val acc: 0.9725 Val loss:  0.4540197491151048\n",
            "Loss: 9.345214299763029\n",
            "Val acc: 0.9725 Val loss:  0.44702785441768356\n",
            "Loss: 8.758332955127116\n",
            "Val acc: 0.9741666666666666 Val loss:  0.43961653030419257\n",
            "Loss: 8.21341280327033\n",
            "Val acc: 0.9733333333333334 Val loss:  0.4341495111439144\n",
            "Loss: 7.717543789440242\n",
            "Val acc: 0.9741666666666666 Val loss:  0.42914941815979546\n",
            "{0: 110.65624448587187, 1: 51.29999950330239, 2: 38.61577428737655, 3: 31.61503527330933, 4: 26.974761889956426, 5: 23.61499532670132, 6: 21.02983559394488, 7: 18.961756214790512, 8: 17.22585506385076, 9: 15.749924018135061, 10: 14.475815278536174, 11: 13.362895345155266, 12: 12.37190948271018, 13: 11.499122372893908, 14: 10.708516700389737, 15: 9.99404528127343, 16: 9.345214299763029, 17: 8.758332955127116, 18: 8.21341280327033, 19: 7.717543789440242}\n"
          ]
        }
      ]
    },
    {
      "cell_type": "code",
      "source": [
        "target , pred, testLoss  = f_validate(model,test_loader,criterion)\n",
        "metr.accuracy_score(target,pred)"
      ],
      "metadata": {
        "id": "dRGfyHSXLhRU",
        "outputId": "7f63641f-39dc-4175-9218-31035192cd24",
        "colab": {
          "base_uri": "https://localhost:8080/"
        }
      },
      "execution_count": 298,
      "outputs": [
        {
          "output_type": "execute_result",
          "data": {
            "text/plain": [
              "0.9789583333333334"
            ]
          },
          "metadata": {},
          "execution_count": 298
        }
      ]
    },
    {
      "cell_type": "code",
      "source": [
        "metr.accuracy_score(targets.detach().numpy(),preds.detach().numpy())*100"
      ],
      "metadata": {
        "colab": {
          "base_uri": "https://localhost:8080/"
        },
        "id": "lC4RxkYTa5ru",
        "outputId": "d692941c-fa18-4850-fadf-8299f46b3bf1"
      },
      "execution_count": 296,
      "outputs": [
        {
          "output_type": "execute_result",
          "data": {
            "text/plain": [
              "97.65"
            ]
          },
          "metadata": {},
          "execution_count": 296
        }
      ]
    },
    {
      "cell_type": "code",
      "source": [
        "confusion = metr.confusion_matrix(targets.detach().numpy(),preds.detach().numpy())\n",
        "confusion"
      ],
      "metadata": {
        "colab": {
          "base_uri": "https://localhost:8080/"
        },
        "id": "KBZoBsa_R7dz",
        "outputId": "bbb14d4b-7eb6-42bc-af68-752fb2dbd659"
      },
      "execution_count": 299,
      "outputs": [
        {
          "output_type": "execute_result",
          "data": {
            "text/plain": [
              "array([[586,   0,   1,   0,   1,   1,   2,   0,   1,   0],\n",
              "       [  0, 668,   2,   1,   3,   0,   0,   0,   0,   0],\n",
              "       [  1,   1, 581,   3,   4,   0,   0,   4,   1,   1],\n",
              "       [  0,   1,   8, 593,   0,   3,   0,   4,   2,   2],\n",
              "       [  1,   0,   4,   1, 567,   0,   2,   2,   2,   5],\n",
              "       [  2,   1,   0,   6,   0, 531,   1,   0,   1,   0],\n",
              "       [  1,   0,   2,   0,   0,   3, 583,   0,   3,   0],\n",
              "       [  1,   2,   6,   0,   1,   0,   1, 614,   0,   2],\n",
              "       [  1,   3,   0,   7,   3,   4,   0,   1, 566,   0],\n",
              "       [  3,   1,   1,   4,   4,   3,   0,   7,   2, 570]])"
            ]
          },
          "metadata": {},
          "execution_count": 299
        }
      ]
    },
    {
      "cell_type": "code",
      "source": [
        "Image.fromarray(X_train[22].numpy())"
      ],
      "metadata": {
        "colab": {
          "base_uri": "https://localhost:8080/",
          "height": 45
        },
        "id": "7Dc-xRtjd4pz",
        "outputId": "2b5d0b42-94ba-471a-a600-415a8d3649e4"
      },
      "execution_count": 254,
      "outputs": [
        {
          "output_type": "execute_result",
          "data": {
            "text/plain": [
              "<PIL.Image.Image image mode=L size=28x28 at 0x7F9D8E5FAD10>"
            ],
            "image/png": "[encoded data removed]"
          },
          "metadata": {},
          "execution_count": 254
        }
      ]
    },
    {
      "cell_type": "code",
      "source": [
        "a=model.model_feature.conv1.forward((X_train[22]/1.0).reshape((1,1,28,28)))"
      ],
      "metadata": {
        "id": "5i93Ne9K36v7"
      },
      "execution_count": 303,
      "outputs": []
    },
    {
      "cell_type": "code",
      "source": [
        "Image.fromarray(a[0][0].detach().numpy()*255)"
      ],
      "metadata": {
        "id": "t1DM2uGJ4HIg"
      },
      "execution_count": null,
      "outputs": []
    },
    {
      "cell_type": "code",
      "source": [
        "torch.nn.functional.relu( a[0][2].detach().int()*255).numpy()\n"
      ],
      "metadata": {
        "id": "fBQgNgRE5XN9"
      },
      "execution_count": null,
      "outputs": []
    },
    {
      "cell_type": "code",
      "source": [
        "model.conv1.weight"
      ],
      "metadata": {
        "id": "IHjEO9nj8VKR",
        "outputId": "df7a1e3e-956b-4968-91ec-232cd42e641f",
        "colab": {
          "base_uri": "https://localhost:8080/"
        }
      },
      "execution_count": 289,
      "outputs": [
        {
          "output_type": "execute_result",
          "data": {
            "text/plain": [
              "Parameter containing:\n",
              "tensor([[[[-0.0782, -0.2997, -0.3295],\n",
              "          [-0.2342, -0.0104,  0.3223],\n",
              "          [ 0.2272,  0.2727,  0.1785]]],\n",
              "\n",
              "\n",
              "        [[[ 0.1371,  0.0940, -0.2440],\n",
              "          [ 0.2977,  0.0737, -0.0637],\n",
              "          [ 0.2613,  0.0803,  0.2684]]],\n",
              "\n",
              "\n",
              "        [[[ 0.1564,  0.2556, -0.3126],\n",
              "          [ 0.2258, -0.0264, -0.0728],\n",
              "          [-0.0307,  0.0859,  0.0931]]]], requires_grad=True)"
            ]
          },
          "metadata": {},
          "execution_count": 289
        }
      ]
    },
    {
      "cell_type": "code",
      "source": [
        "X_test.shape"
      ],
      "metadata": {
        "id": "9xh3WqFdGNKi",
        "outputId": "1fd38851-e27f-49f5-fcb6-be8670744b23",
        "colab": {
          "base_uri": "https://localhost:8080/"
        }
      },
      "execution_count": 338,
      "outputs": [
        {
          "output_type": "execute_result",
          "data": {
            "text/plain": [
              "torch.Size([300, 28, 28])"
            ]
          },
          "metadata": {},
          "execution_count": 338
        }
      ]
    },
    {
      "cell_type": "code",
      "source": [
        "model_pca = PCA(2)\n",
        "\n",
        "\n",
        "features = model.model_feature((X_test/255.0).reshape((300,1,28,28)))\n",
        "feat2d = model_pca.fit_transform(features.reshape((300, -1)).detach().numpy())\n"
      ],
      "metadata": {
        "id": "CyXwgXFnMdRd"
      },
      "execution_count": 339,
      "outputs": []
    },
    {
      "cell_type": "code",
      "source": [
        "sns.scatterplot(feat2d[:,0], feat2d[:,1],hue=y_test,palette=\"deep\")\n",
        "#sns.scatterplot(feat2d[y_test==1][:,0], feat2d[y_test==1][:,1],marker=\".\")"
      ],
      "metadata": {
        "id": "nBPma4HqPUzB",
        "outputId": "1f848200-7dc0-42c6-c114-0535b92dad7b",
        "colab": {
          "base_uri": "https://localhost:8080/",
          "height": 339
        }
      },
      "execution_count": 341,
      "outputs": [
        {
          "output_type": "stream",
          "name": "stderr",
          "text": [
            "/usr/local/lib/python3.7/dist-packages/seaborn/_decorators.py:43: FutureWarning: Pass the following variables as keyword args: x, y. From version 0.12, the only valid positional argument will be `data`, and passing other arguments without an explicit keyword will result in an error or misinterpretation.\n",
            "  FutureWarning\n"
          ]
        },
        {
          "output_type": "execute_result",
          "data": {
            "text/plain": [
              "<matplotlib.axes._subplots.AxesSubplot at 0x7f9d88e2ab10>"
            ]
          },
          "metadata": {},
          "execution_count": 341
        },
        {
          "output_type": "display_data",
          "data": {
            "text/plain": [
              "<Figure size 432x288 with 1 Axes>"
            ],
            "image/png": "[encoded data removed]"
          },
          "metadata": {
            "needs_background": "light"
          }
        }
      ]
    },
    {
      "cell_type": "code",
      "source": [],
      "metadata": {
        "id": "UM_KW71uSPGo"
      },
      "execution_count": null,
      "outputs": []
    }
  ]
}