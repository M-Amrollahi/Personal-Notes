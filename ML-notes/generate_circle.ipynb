{
  "nbformat": 4,
  "nbformat_minor": 0,
  "metadata": {
    "colab": {
      "provenance": [],
      "authorship_tag": "ABX9TyN2SspF30b8PQzwNIBqFKPc",
      "include_colab_link": true
    },
    "kernelspec": {
      "name": "python3",
      "display_name": "Python 3"
    },
    "language_info": {
      "name": "python"
    },
    "gpuClass": "standard"
  },
  "cells": [
    {
      "cell_type": "markdown",
      "metadata": {
        "id": "view-in-github",
        "colab_type": "text"
      },
      "source": [
        "<a href=\"https://colab.research.google.com/github/M-Amrollahi/Personal-Notes/blob/master/ML-notes/generate_circle.ipynb\" target=\"_parent\"><img src=\"https://colab.research.google.com/assets/colab-badge.svg\" alt=\"Open In Colab\"/></a>"
      ]
    },
    {
      "cell_type": "code",
      "source": [
        "import torch\n",
        "import torch.nn as nn\n",
        "from PIL import Image\n",
        "import numpy as np\n",
        "import random\n",
        "import cv2\n",
        "from torch.utils.data import Dataset, DataLoader\n",
        "import pandas as pd\n",
        "from sklearn.model_selection import train_test_split\n",
        "#from transformers import AutoModel, AutoTokenizer"
      ],
      "metadata": {
        "id": "_81KnFfE_aGg"
      },
      "execution_count": 105,
      "outputs": []
    },
    {
      "cell_type": "code",
      "source": [
        "def f_createRandomImage():\n",
        "    x,y = 35,35\n",
        "    max_r = 10\n",
        "    rangex, rangey = (max_r,x-max_r), (max_r,y-max_r)\n",
        "    colors = [((255, 255, 0),0),((255, 0, 255),1),((0, 255, 255),2),((50, 50, 0),3),((255, 0, 0),4)]\n",
        "    lst_res = []\n",
        "    for color in colors:\n",
        "        for i in range(800):\n",
        "            \n",
        "            frame = np.full((x,y,3),0,dtype=\"uint8\")\n",
        "\n",
        "            locx = random.randint(*rangex)\n",
        "            locy = random.randint(*rangey)\n",
        "            r = random.randint(8,max_r)\n",
        "            \n",
        "            \n",
        "            cv2.circle(frame,(locx,locy),r,color[0],-1)\n",
        "\n",
        "            frame = frame / 255.0\n",
        "            #cv2.rectangle(frame,(locx-r,locy-r),(locx+r,locy+r),(0,255,0),1)\n",
        "            lst_res.append([frame, locx-r, locy-r, locx + r, locy + r, color[1]])\n",
        "            #cv2.waitKey(0)\n",
        "\n",
        "    return lst_res"
      ],
      "metadata": {
        "id": "WgDX2avjCR_7"
      },
      "execution_count": 119,
      "outputs": []
    },
    {
      "cell_type": "code",
      "source": [
        "class cls_model(nn.Module):\n",
        "    def __init__(self) -> None:\n",
        "        super().__init__()\n",
        "\n",
        "        self.model = nn.Sequential(\n",
        "            nn.Linear(1,1024),\n",
        "            nn.Tanh(),\n",
        "            nn.LayerNorm(1024),\n",
        "            nn.Linear(1024,31*31),\n",
        "            nn.ReLU(),\n",
        "            \n",
        "        )\n",
        "\n",
        "        self.tconv1 = nn.ConvTranspose2d(1,1,(3,3))\n",
        "        self.tconv2 = nn.ConvTranspose2d(1,3,(3,3))\n",
        "\n",
        "    def forward(self,x):\n",
        "\n",
        "        y = self.model.forward(x)\n",
        "\n",
        "        y = y.reshape((x.shape[0], 1, 31, 31))\n",
        "\n",
        "        y = self.tconv1.forward(y)\n",
        "        y = self.tconv2.forward(y)\n",
        "\n",
        "        return y"
      ],
      "metadata": {
        "id": "0MV91xEw9thI"
      },
      "execution_count": 148,
      "outputs": []
    },
    {
      "cell_type": "code",
      "source": [
        "class cls_data(Dataset):\n",
        "    def __init__(self,df) -> None:\n",
        "        super().__init__()\n",
        "\n",
        "        self.dataset = df\n",
        "\n",
        "        print(\"Head of dataset: \", self.dataset.head(2))\n",
        "        \n",
        "\n",
        "    def __len__(self):\n",
        "        return len(self.dataset)\n",
        "\n",
        "    def __getitem__(self, index):\n",
        "        \n",
        "        return torch.tensor(self.dataset.loc[index, \"c\"]).unsqueeze(dim=0), torch.tensor(self.dataset.loc[index, \"image\"]).permute((2,0,1))"
      ],
      "metadata": {
        "id": "ei4nsxTbBJGv"
      },
      "execution_count": 108,
      "outputs": []
    },
    {
      "cell_type": "code",
      "source": [
        "lst_data = f_createRandomImage()\n",
        "df1 = pd.DataFrame({\"image\":[i[0] for i in lst_data], \"c\":[i[5] for i in lst_data]})\n",
        "\n",
        "df_train , df_test = train_test_split(df1,test_size=.01,stratify=df1.c)\n",
        "\n",
        "ds_train = cls_data(df_train.reset_index().drop(columns=[\"index\"]))\n",
        "\n",
        "ds_test = cls_data(df_test.reset_index().drop(columns=[\"index\"]))\n",
        "\n",
        "trainLoader = DataLoader(ds_train,batch_size=8)\n",
        "testLoader = DataLoader(ds_test,batch_size=8)"
      ],
      "metadata": {
        "colab": {
          "base_uri": "https://localhost:8080/"
        },
        "id": "8yFxcD5fD7-E",
        "outputId": "58f4e319-7bc4-4fbe-88ff-8a3f56eb8040"
      },
      "execution_count": 149,
      "outputs": [
        {
          "output_type": "stream",
          "name": "stdout",
          "text": [
            "Head of dataset:                                                 image  c\n",
            "0  [[[0.0, 0.0, 0.0], [0.0, 0.0, 0.0], [0.0, 0.0,...  2\n",
            "1  [[[0.0, 0.0, 0.0], [0.0, 0.0, 0.0], [0.0, 0.0,...  2\n",
            "Head of dataset:                                                 image  c\n",
            "0  [[[0.0, 0.0, 0.0], [0.0, 0.0, 0.0], [0.0, 0.0,...  0\n",
            "1  [[[0.0, 0.0, 0.0], [0.0, 0.0, 0.0], [0.0, 0.0,...  4\n"
          ]
        }
      ]
    },
    {
      "cell_type": "code",
      "source": [
        "ds_train[1][1].shape"
      ],
      "metadata": {
        "colab": {
          "base_uri": "https://localhost:8080/"
        },
        "id": "1XCvaJRJEWBL",
        "outputId": "cd0ef967-9362-497a-9f66-1191ee222537"
      },
      "execution_count": 90,
      "outputs": [
        {
          "output_type": "execute_result",
          "data": {
            "text/plain": [
              "torch.Size([3, 35, 35])"
            ]
          },
          "metadata": {},
          "execution_count": 90
        }
      ]
    },
    {
      "cell_type": "code",
      "source": [
        "def f_train(net, criterion, trainLoader, valLoader, optim, device):\n",
        "\n",
        "    net = net.to(device)\n",
        "    for ep in range(10):\n",
        "        for x_batch, y_batch in trainLoader:\n",
        "            \n",
        "            x_batch, y_batch = x_batch.to(device).float(), y_batch.to(device).float()\n",
        "\n",
        "            predict = net(x_batch)\n",
        "\n",
        "            loss = criterion(predict, y_batch)\n",
        "            optim.zero_grad()\n",
        "\n",
        "            loss.backward()\n",
        "            optim.step()           \n",
        "        \n",
        "        print(\"loss\", loss)"
      ],
      "metadata": {
        "id": "6SdmJGO4FCOT"
      },
      "execution_count": 150,
      "outputs": []
    },
    {
      "cell_type": "code",
      "source": [
        "net = cls_model()\n",
        "\n",
        "criterion = nn.MSELoss()\n",
        "optim = torch.optim.Adam(net.parameters(), lr=1e-3)\n",
        "\n",
        "device = torch.device(\"cuda\") if torch.cuda.is_available() else torch.device(\"cpu\")\n",
        "device"
      ],
      "metadata": {
        "colab": {
          "base_uri": "https://localhost:8080/"
        },
        "id": "dINLKb8WH7S6",
        "outputId": "6283c8b6-e42a-4e36-d0bc-76595b0f00de"
      },
      "execution_count": 151,
      "outputs": [
        {
          "output_type": "execute_result",
          "data": {
            "text/plain": [
              "device(type='cpu')"
            ]
          },
          "metadata": {},
          "execution_count": 151
        }
      ]
    },
    {
      "cell_type": "code",
      "source": [
        "f_train(net, criterion, trainLoader,testLoader,optim, device)"
      ],
      "metadata": {
        "colab": {
          "base_uri": "https://localhost:8080/"
        },
        "id": "SQO37TAdJqY_",
        "outputId": "1141fe8f-1c1e-4952-de00-250058aaa8c9"
      },
      "execution_count": 152,
      "outputs": [
        {
          "output_type": "stream",
          "name": "stdout",
          "text": [
            "loss tensor(0.0782, grad_fn=<MseLossBackward0>)\n",
            "loss tensor(0.0756, grad_fn=<MseLossBackward0>)\n",
            "loss tensor(0.0751, grad_fn=<MseLossBackward0>)\n",
            "loss tensor(0.0730, grad_fn=<MseLossBackward0>)\n",
            "loss tensor(0.0715, grad_fn=<MseLossBackward0>)\n",
            "loss tensor(0.0685, grad_fn=<MseLossBackward0>)\n",
            "loss tensor(0.0665, grad_fn=<MseLossBackward0>)\n",
            "loss tensor(0.0663, grad_fn=<MseLossBackward0>)\n",
            "loss tensor(0.0654, grad_fn=<MseLossBackward0>)\n",
            "loss tensor(0.0650, grad_fn=<MseLossBackward0>)\n"
          ]
        }
      ]
    },
    {
      "cell_type": "code",
      "source": [
        "a= net(torch.tensor([[4.]]).to(device))\n",
        "Image.fromarray( (a[0]*255).type(torch.uint8).cpu().numpy().reshape(35,35,3))"
      ],
      "metadata": {
        "colab": {
          "base_uri": "https://localhost:8080/",
          "height": 52
        },
        "id": "SS-P3jbaQ7I0",
        "outputId": "0e7e9f28-7c70-44ab-f88d-9c6cdf9f7363"
      },
      "execution_count": 153,
      "outputs": [
        {
          "output_type": "execute_result",
          "data": {
            "text/plain": [
              "<PIL.Image.Image image mode=RGB size=35x35 at 0x7FC696012790>"
            ],
            "image/png": "[encoded data removed]"
          },
          "metadata": {},
          "execution_count": 153
        }
      ]
    },
    {
      "cell_type": "code",
      "source": [
        "Image.fromarray(lst_data[2500][0].astype(np.uint8).reshape(35,35,3)*255)"
      ],
      "metadata": {
        "colab": {
          "base_uri": "https://localhost:8080/",
          "height": 52
        },
        "id": "Df4ESniMRWSA",
        "outputId": "7f83826e-aba9-4585-d578-ed7b433514fd"
      },
      "execution_count": 127,
      "outputs": [
        {
          "output_type": "execute_result",
          "data": {
            "text/plain": [
              "<PIL.Image.Image image mode=RGB size=35x35 at 0x7FC696028D90>"
            ],
            "image/png": "[encoded data removed]"
          },
          "metadata": {},
          "execution_count": 127
        }
      ]
    },
    {
      "cell_type": "code",
      "source": [
        "Image.fromarray(lst_data[2300][0].astype(np.uint8)*255)"
      ],
      "metadata": {
        "id": "EZ_qCuPYjhFU",
        "outputId": "bd941049-7a8e-4139-e037-63c2c2ad8b9c",
        "colab": {
          "base_uri": "https://localhost:8080/",
          "height": 52
        }
      },
      "execution_count": 142,
      "outputs": [
        {
          "output_type": "execute_result",
          "data": {
            "text/plain": [
              "<PIL.Image.Image image mode=RGB size=35x35 at 0x7FC6957E2100>"
            ],
            "image/png": "[encoded data removed]"
          },
          "metadata": {},
          "execution_count": 142
        }
      ]
    }
  ]
}