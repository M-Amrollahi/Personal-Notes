{
  "nbformat": 4,
  "nbformat_minor": 0,
  "metadata": {
    "colab": {
      "provenance": [],
      "authorship_tag": "ABX9TyNxMUL8bsH08VpxPgts7OOH",
      "include_colab_link": true
    },
    "kernelspec": {
      "name": "python3",
      "display_name": "Python 3"
    },
    "language_info": {
      "name": "python"
    },
    "accelerator": "GPU",
    "gpuClass": "standard"
  },
  "cells": [
    {
      "cell_type": "markdown",
      "metadata": {
        "id": "view-in-github",
        "colab_type": "text"
      },
      "source": [
        "<a href=\"https://colab.research.google.com/github/M-Amrollahi/Personal-Notes/blob/master/ML-notes/generate_circle.ipynb\" target=\"_parent\"><img src=\"https://colab.research.google.com/assets/colab-badge.svg\" alt=\"Open In Colab\"/></a>"
      ]
    },
    {
      "cell_type": "code",
      "source": [
        "import torch\n",
        "import torch.nn as nn\n",
        "from PIL import Image\n",
        "import numpy as np\n",
        "import random\n",
        "import cv2\n",
        "from torch.utils.data import Dataset,DataLoader\n",
        "import pandas as pd\n",
        "from sklearn.model_selection import train_test_split\n",
        "#from transformers import AutoModel, AutoTokenizer"
      ],
      "metadata": {
        "id": "_81KnFfE_aGg"
      },
      "execution_count": 1,
      "outputs": []
    },
    {
      "cell_type": "code",
      "source": [
        "def f_createRandomImage():\n",
        "    x,y = 100,100\n",
        "    max_r = 20\n",
        "    rangex, rangey = (max_r,x-max_r), (max_r,y-max_r)\n",
        "    colors = [((255, 255, 0),0),((102, 204, 0),1),((0, 51, 204),2),((204, 0, 204),3),((204, 0, 0),4)]\n",
        "    lst_res = []\n",
        "    for color in colors:\n",
        "        for i in range(3000):\n",
        "            \n",
        "            frame = np.full((x,y,3),0,dtype=\"uint8\")\n",
        "\n",
        "            locx = random.randint(*rangex)\n",
        "            locy = random.randint(*rangey)\n",
        "            r = random.randint(10,max_r)\n",
        "            \n",
        "            \n",
        "            cv2.circle(frame,(locx,locy),r,color[0],-1)\n",
        "\n",
        "            frame = frame / 255.0\n",
        "            #cv2.rectangle(frame,(locx-r,locy-r),(locx+r,locy+r),(0,255,0),1)\n",
        "            lst_res.append([frame.flatten(), locx-r, locy-r, locx + r, locy + r, color[1]/10])\n",
        "            #cv2.waitKey(0)\n",
        "\n",
        "    return lst_res"
      ],
      "metadata": {
        "id": "WgDX2avjCR_7"
      },
      "execution_count": 108,
      "outputs": []
    },
    {
      "cell_type": "code",
      "source": [
        "class cls_model(nn.Module):\n",
        "    def __init__(self) -> None:\n",
        "        super().__init__()\n",
        "\n",
        "        self.model = nn.Sequential(\n",
        "            nn.Linear(1,128),\n",
        "            nn.ReLU(),\n",
        "            nn.LayerNorm(128),\n",
        "            nn.Linear(128,128),\n",
        "            nn.ReLU(),\n",
        "            nn.Linear(128,100*100*3),\n",
        "            #nn.ReLU(),\n",
        "            #nn.Linear(1000,100*100*3)\n",
        "        )\n",
        "\n",
        "    def forward(self,x):\n",
        "\n",
        "        y = self.model.forward(x)\n",
        "\n",
        "        return y"
      ],
      "metadata": {
        "id": "0MV91xEw9thI"
      },
      "execution_count": 81,
      "outputs": []
    },
    {
      "cell_type": "code",
      "source": [
        "class cls_data(Dataset):\n",
        "    def __init__(self,df) -> None:\n",
        "        super().__init__()\n",
        "\n",
        "        self.dataset = df\n",
        "\n",
        "        print(\"Head of dataset: \", self.dataset.head(2))\n",
        "        \n",
        "\n",
        "    def __len__(self):\n",
        "        return len(self.dataset)\n",
        "\n",
        "    def __getitem__(self, index):\n",
        "        \n",
        "        return torch.tensor(self.dataset.loc[index, \"c\"]).unsqueeze(dim=0), torch.tensor(self.dataset.loc[index, \"image\"])"
      ],
      "metadata": {
        "id": "ei4nsxTbBJGv"
      },
      "execution_count": 68,
      "outputs": []
    },
    {
      "cell_type": "code",
      "source": [
        "lst_data = f_createRandomImage()\n",
        "df1 = pd.DataFrame({\"image\":[i[0] for i in lst_data], \"c\":[i[5] for i in lst_data]})\n",
        "\n",
        "df_train , df_test = train_test_split(df1,test_size=.01,stratify=df1.c)\n",
        "\n",
        "ds_train = cls_data(df_train.reset_index().drop(columns=[\"index\"]))\n",
        "\n",
        "ds_test = cls_data(df_test.reset_index().drop(columns=[\"index\"]))\n",
        "\n",
        "trainLoader = DataLoader(ds_train,batch_size=8)\n",
        "testLoader = DataLoader(ds_test,batch_size=8)"
      ],
      "metadata": {
        "colab": {
          "base_uri": "https://localhost:8080/"
        },
        "id": "8yFxcD5fD7-E",
        "outputId": "c8f7f5ae-cab2-4da8-fafc-b5cfb047fbaf"
      },
      "execution_count": 109,
      "outputs": [
        {
          "output_type": "stream",
          "name": "stdout",
          "text": [
            "Head of dataset:                                                 image    c\n",
            "0  [0.0, 0.0, 0.0, 0.0, 0.0, 0.0, 0.0, 0.0, 0.0, ...  0.3\n",
            "1  [0.0, 0.0, 0.0, 0.0, 0.0, 0.0, 0.0, 0.0, 0.0, ...  0.0\n",
            "Head of dataset:                                                 image    c\n",
            "0  [0.0, 0.0, 0.0, 0.0, 0.0, 0.0, 0.0, 0.0, 0.0, ...  0.0\n",
            "1  [0.0, 0.0, 0.0, 0.0, 0.0, 0.0, 0.0, 0.0, 0.0, ...  0.2\n"
          ]
        }
      ]
    },
    {
      "cell_type": "code",
      "source": [
        "ds_train[1][1].shape"
      ],
      "metadata": {
        "colab": {
          "base_uri": "https://localhost:8080/"
        },
        "id": "1XCvaJRJEWBL",
        "outputId": "dc6582b6-88ca-4400-cd68-b0fa8d0e59a0"
      },
      "execution_count": 87,
      "outputs": [
        {
          "output_type": "execute_result",
          "data": {
            "text/plain": [
              "torch.Size([30000])"
            ]
          },
          "metadata": {},
          "execution_count": 87
        }
      ]
    },
    {
      "cell_type": "code",
      "source": [
        "def f_train(net, criterion, trainLoader, valLoader, optim, device):\n",
        "\n",
        "    net = net.to(device)\n",
        "    for ep in range(20):\n",
        "        for x_batch, y_batch in trainLoader:\n",
        "            \n",
        "            x_batch, y_batch = x_batch.to(device).float(), y_batch.to(device).float()\n",
        "\n",
        "            predict = net(x_batch)\n",
        "            \n",
        "            loss = criterion(predict, y_batch)\n",
        "            optim.zero_grad()\n",
        "\n",
        "            loss.backward()\n",
        "            optim.step()           \n",
        "        \n",
        "        print(\"loss\", loss)"
      ],
      "metadata": {
        "id": "6SdmJGO4FCOT"
      },
      "execution_count": 110,
      "outputs": []
    },
    {
      "cell_type": "code",
      "source": [
        "net = cls_model()\n",
        "\n",
        "criterion = nn.MSELoss()\n",
        "optim = torch.optim.Adam(net.parameters(), lr=1e-5)\n",
        "\n",
        "device = torch.device(\"cuda\") if torch.cuda.is_available() else torch.device(\"cpu\")\n",
        "device"
      ],
      "metadata": {
        "colab": {
          "base_uri": "https://localhost:8080/"
        },
        "id": "dINLKb8WH7S6",
        "outputId": "a8465bd8-e17e-4a20-ab65-546daa76fdec"
      },
      "execution_count": 111,
      "outputs": [
        {
          "output_type": "execute_result",
          "data": {
            "text/plain": [
              "device(type='cuda')"
            ]
          },
          "metadata": {},
          "execution_count": 111
        }
      ]
    },
    {
      "cell_type": "code",
      "source": [
        "f_train(net, criterion, trainLoader,testLoader,optim, device)"
      ],
      "metadata": {
        "colab": {
          "base_uri": "https://localhost:8080/"
        },
        "id": "SQO37TAdJqY_",
        "outputId": "ad7abc42-f3b1-47b6-8bad-3d660e7ec457"
      },
      "execution_count": 112,
      "outputs": [
        {
          "output_type": "stream",
          "name": "stdout",
          "text": [
            "loss tensor(0.0191, device='cuda:0', grad_fn=<MseLossBackward0>)\n",
            "loss tensor(0.0179, device='cuda:0', grad_fn=<MseLossBackward0>)\n",
            "loss tensor(0.0177, device='cuda:0', grad_fn=<MseLossBackward0>)\n",
            "loss tensor(0.0177, device='cuda:0', grad_fn=<MseLossBackward0>)\n",
            "loss tensor(0.0177, device='cuda:0', grad_fn=<MseLossBackward0>)\n",
            "loss tensor(0.0177, device='cuda:0', grad_fn=<MseLossBackward0>)\n",
            "loss tensor(0.0177, device='cuda:0', grad_fn=<MseLossBackward0>)\n",
            "loss tensor(0.0178, device='cuda:0', grad_fn=<MseLossBackward0>)\n",
            "loss tensor(0.0178, device='cuda:0', grad_fn=<MseLossBackward0>)\n",
            "loss tensor(0.0178, device='cuda:0', grad_fn=<MseLossBackward0>)\n",
            "loss tensor(0.0178, device='cuda:0', grad_fn=<MseLossBackward0>)\n",
            "loss tensor(0.0179, device='cuda:0', grad_fn=<MseLossBackward0>)\n",
            "loss tensor(0.0179, device='cuda:0', grad_fn=<MseLossBackward0>)\n",
            "loss tensor(0.0179, device='cuda:0', grad_fn=<MseLossBackward0>)\n",
            "loss tensor(0.0179, device='cuda:0', grad_fn=<MseLossBackward0>)\n",
            "loss tensor(0.0179, device='cuda:0', grad_fn=<MseLossBackward0>)\n",
            "loss tensor(0.0179, device='cuda:0', grad_fn=<MseLossBackward0>)\n",
            "loss tensor(0.0179, device='cuda:0', grad_fn=<MseLossBackward0>)\n",
            "loss tensor(0.0179, device='cuda:0', grad_fn=<MseLossBackward0>)\n",
            "loss tensor(0.0179, device='cuda:0', grad_fn=<MseLossBackward0>)\n"
          ]
        }
      ]
    },
    {
      "cell_type": "code",
      "source": [
        "a= net(torch.tensor([[.4]]).to(device))\n",
        "Image.fromarray( (a[0]*255).type(torch.uint8).cpu().numpy().reshape(100,100,3))"
      ],
      "metadata": {
        "colab": {
          "base_uri": "https://localhost:8080/",
          "height": 117
        },
        "id": "SS-P3jbaQ7I0",
        "outputId": "22702144-b80b-464e-ced8-0d082c4825cb"
      },
      "execution_count": 118,
      "outputs": [
        {
          "output_type": "execute_result",
          "data": {
            "text/plain": [
              "<PIL.Image.Image image mode=RGB size=100x100 at 0x7F2811775550>"
            ],
            "image/png": "[encoded data removed]"
          },
          "metadata": {},
          "execution_count": 118
        }
      ]
    },
    {
      "cell_type": "code",
      "source": [
        "Image.fromarray(lst_data[42][0].astype(np.uint8).reshape(100,100,3)*255)"
      ],
      "metadata": {
        "colab": {
          "base_uri": "https://localhost:8080/",
          "height": 117
        },
        "id": "Df4ESniMRWSA",
        "outputId": "89396fd9-148c-43b4-e38f-5c359616c03c"
      },
      "execution_count": 48,
      "outputs": [
        {
          "output_type": "execute_result",
          "data": {
            "text/plain": [
              "<PIL.Image.Image image mode=RGB size=100x100 at 0x7F281CDD5BB0>"
            ],
            "image/png": "[encoded data removed]"
          },
          "metadata": {},
          "execution_count": 48
        }
      ]
    }
  ]
}