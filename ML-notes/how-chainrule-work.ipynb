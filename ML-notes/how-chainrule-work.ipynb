{
 "cells": [
  {
   "cell_type": "code",
   "execution_count": 5,
   "metadata": {},
   "outputs": [],
   "source": [
    "import torch"
   ]
  },
  {
   "attachments": {},
   "cell_type": "markdown",
   "metadata": {},
   "source": [
    "## How Chain-rule works in MSE Loss "
   ]
  },
  {
   "cell_type": "code",
   "execution_count": 6,
   "metadata": {},
   "outputs": [
    {
     "name": "stdout",
     "output_type": "stream",
     "text": [
      "Parameter containing:\n",
      "tensor([[ 0.0546, -0.1123],\n",
      "        [ 0.4652,  0.0651]], requires_grad=True)\n",
      "Parameter containing:\n",
      "tensor([[-0.4510, -0.5393],\n",
      "        [-0.0835,  0.1739]], requires_grad=True)\n",
      "Parameter containing:\n",
      "tensor([[-0.4123, -0.4128]], requires_grad=True)\n"
     ]
    }
   ],
   "source": [
    "model = torch.nn.Sequential(\n",
    "     torch.nn.Linear(2,2,bias=False),\n",
    "     torch.nn.Linear(2,2,bias=False),\n",
    "     torch.nn.Linear(2,1,bias=False)\n",
    "     )\n",
    "\n",
    "criterion = torch.nn.MSELoss()\n",
    "optim = torch.optim.SGD(model.parameters(), lr=.01)\n",
    "\n",
    "inp = torch.tensor([[1.,2.]])\n",
    "\n",
    "print(model[0].weight)\n",
    "print(model[1].weight)\n",
    "print(model[2].weight)"
   ]
  },
  {
   "cell_type": "code",
   "execution_count": 7,
   "metadata": {},
   "outputs": [
    {
     "data": {
      "text/plain": [
       "tensor(8.6899, grad_fn=<MseLossBackward0>)"
      ]
     },
     "execution_count": 7,
     "metadata": {},
     "output_type": "execute_result"
    }
   ],
   "source": [
    "y_pred = model.forward(inp)\n",
    "y = torch.tensor([[3.0]])\n",
    "loss = criterion.forward(y_pred, y)\n",
    "loss"
   ]
  },
  {
   "cell_type": "code",
   "execution_count": 8,
   "metadata": {},
   "outputs": [],
   "source": [
    "loss.backward()"
   ]
  },
  {
   "cell_type": "code",
   "execution_count": 9,
   "metadata": {},
   "outputs": [
    {
     "name": "stdout",
     "output_type": "stream",
     "text": [
      "tensor([[-1.2997, -2.5993],\n",
      "        [-0.8875, -1.7750]])\n",
      "tensor([[-0.4134,  1.4471],\n",
      "        [-0.4139,  1.4491]])\n",
      "tensor([[ 1.4408, -0.6943]])\n"
     ]
    }
   ],
   "source": [
    "print(model[0].weight.grad)\n",
    "print(model[1].weight.grad)\n",
    "print(model[2].weight.grad)"
   ]
  },
  {
   "cell_type": "code",
   "execution_count": 10,
   "metadata": {},
   "outputs": [
    {
     "data": {
      "text/plain": [
       "tensor([[-0.2444,  0.1178]], grad_fn=<MmBackward0>)"
      ]
     },
     "execution_count": 10,
     "metadata": {},
     "output_type": "execute_result"
    }
   ],
   "source": [
    "res = model[1].forward(model[0].forward(inp))\n",
    "res"
   ]
  },
  {
   "attachments": {},
   "cell_type": "markdown",
   "metadata": {},
   "source": [
    "$w_1^ \\prime = a^2w_1 + abw_2 - ya$ "
   ]
  },
  {
   "cell_type": "code",
   "execution_count": 11,
   "metadata": {},
   "outputs": [
    {
     "data": {
      "text/plain": [
       "tensor(1.4408, grad_fn=<MulBackward0>)"
      ]
     },
     "execution_count": 11,
     "metadata": {},
     "output_type": "execute_result"
    }
   ],
   "source": [
    "((res[0,0]**2)*model[2].weight[0,0] + res[0,0]*res[0,1]*model[2].weight[0,1] - res[0,0]*y[0,0])*2"
   ]
  },
  {
   "cell_type": "code",
   "execution_count": 12,
   "metadata": {},
   "outputs": [
    {
     "data": {
      "text/plain": [
       "tensor(-0.6943, grad_fn=<MulBackward0>)"
      ]
     },
     "execution_count": 12,
     "metadata": {},
     "output_type": "execute_result"
    }
   ],
   "source": [
    "((res[0,1]**2)*model[2].weight[0,1] + res[0,0]*res[0,1]*model[2].weight[0,0] - res[0,1]*y[0,0])*2"
   ]
  },
  {
   "attachments": {},
   "cell_type": "markdown",
   "metadata": {},
   "source": [
    "## How Chain-rule works in NLLoss"
   ]
  },
  {
   "cell_type": "code",
   "execution_count": 13,
   "metadata": {},
   "outputs": [
    {
     "name": "stdout",
     "output_type": "stream",
     "text": [
      "Parameter containing:\n",
      "tensor([[ 0.6755, -0.2917],\n",
      "        [-0.1681, -0.5040]], requires_grad=True)\n",
      "Parameter containing:\n",
      "tensor([[-0.6580, -0.1301],\n",
      "        [-0.6238, -0.6303]], requires_grad=True)\n"
     ]
    }
   ],
   "source": [
    "model = torch.nn.Sequential(\n",
    "     torch.nn.Linear(2,2,bias=False),\n",
    "     torch.nn.Linear(2,2,bias=False)\n",
    "     )\n",
    "\n",
    "criterion = torch.nn.NLLLoss()\n",
    "optim = torch.optim.SGD(model.parameters(), lr=.01)\n",
    "\n",
    "inp = torch.tensor([[1.,2.]])\n",
    "\n",
    "print(model[0].weight)\n",
    "print(model[1].weight)"
   ]
  },
  {
   "cell_type": "code",
   "execution_count": 14,
   "metadata": {},
   "outputs": [
    {
     "name": "stdout",
     "output_type": "stream",
     "text": [
      "tensor([[0.0924, 0.6838]], grad_fn=<MmBackward0>)\n",
      "tensor(-0.0924, grad_fn=<NllLossBackward0>)\n"
     ]
    }
   ],
   "source": [
    "y = torch.tensor([0])\n",
    "\n",
    "y_pred = model.forward(inp)\n",
    "print(y_pred)\n",
    "\n",
    "loss = criterion.forward(y_pred, y)\n",
    "print(loss)"
   ]
  },
  {
   "cell_type": "code",
   "execution_count": 15,
   "metadata": {},
   "outputs": [
    {
     "name": "stdout",
     "output_type": "stream",
     "text": [
      "tensor([[0.6580, 1.3160],\n",
      "        [0.1301, 0.2602]])\n",
      "tensor([[-0.0922,  1.1761],\n",
      "        [ 0.0000, -0.0000]])\n"
     ]
    }
   ],
   "source": [
    "loss.backward()\n",
    "print(model[0].weight.grad)\n",
    "print(model[1].weight.grad)"
   ]
  },
  {
   "cell_type": "code",
   "execution_count": 16,
   "metadata": {},
   "outputs": [
    {
     "name": "stdout",
     "output_type": "stream",
     "text": [
      "tensor([[ 0.0922, -1.1761]], grad_fn=<MmBackward0>)\n",
      "tensor([[0.0924, 0.6838]], grad_fn=<MmBackward0>)\n"
     ]
    }
   ],
   "source": [
    "res0 = model[0].forward(inp)\n",
    "res1 = model[1].forward(res0)\n",
    "print(res0)\n",
    "print(res1)"
   ]
  },
  {
   "cell_type": "code",
   "execution_count": 17,
   "metadata": {},
   "outputs": [
    {
     "data": {
      "text/plain": [
       "tensor(0.0922, grad_fn=<SelectBackward0>)"
      ]
     },
     "execution_count": 17,
     "metadata": {},
     "output_type": "execute_result"
    }
   ],
   "source": [
    "res0[0,0]"
   ]
  }
 ],
 "metadata": {
  "kernelspec": {
   "display_name": "tf2",
   "language": "python",
   "name": "python3"
  },
  "language_info": {
   "codemirror_mode": {
    "name": "ipython",
    "version": 3
   },
   "file_extension": ".py",
   "mimetype": "text/x-python",
   "name": "python",
   "nbconvert_exporter": "python",
   "pygments_lexer": "ipython3",
   "version": "3.7.10"
  },
  "orig_nbformat": 4,
  "vscode": {
   "interpreter": {
    "hash": "f3e886644a3928785097e4f2b76d86ea4f5782e84190f8a407df728a5fcc7bf0"
   }
  }
 },
 "nbformat": 4,
 "nbformat_minor": 2
}
