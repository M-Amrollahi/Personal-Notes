{
 "cells": [
  {
   "cell_type": "code",
   "execution_count": 9,
   "metadata": {},
   "outputs": [],
   "source": [
    "import torch"
   ]
  },
  {
   "cell_type": "code",
   "execution_count": 10,
   "metadata": {},
   "outputs": [
    {
     "name": "stdout",
     "output_type": "stream",
     "text": [
      "Parameter containing:\n",
      "tensor([[-0.5164,  0.1844],\n",
      "        [-0.0997,  0.1351]], requires_grad=True)\n",
      "Parameter containing:\n",
      "tensor([[0.2676, 0.5283],\n",
      "        [0.0850, 0.0018]], requires_grad=True)\n",
      "Parameter containing:\n",
      "tensor([[ 0.2139, -0.0796]], requires_grad=True)\n"
     ]
    }
   ],
   "source": [
    "model = torch.nn.Sequential(\n",
    "     torch.nn.Linear(2,2,bias=False),\n",
    "     torch.nn.Linear(2,2,bias=False),\n",
    "     torch.nn.Linear(2,1,bias=False)\n",
    "     )\n",
    "\n",
    "criterion = torch.nn.MSELoss()\n",
    "optim = torch.optim.SGD(model.parameters(), lr=.01)\n",
    "\n",
    "inp = torch.tensor([[1.,2.]])\n",
    "\n",
    "print(model[0].weight)\n",
    "print(model[1].weight)\n",
    "print(model[2].weight)"
   ]
  },
  {
   "cell_type": "code",
   "execution_count": 11,
   "metadata": {},
   "outputs": [
    {
     "data": {
      "text/plain": [
       "tensor(8.9294, grad_fn=<MseLossBackward0>)"
      ]
     },
     "execution_count": 11,
     "metadata": {},
     "output_type": "execute_result"
    }
   ],
   "source": [
    "y_pred = model.forward(inp)\n",
    "y = torch.tensor([[3.0]])\n",
    "loss = criterion.forward(y_pred, y)\n",
    "loss"
   ]
  },
  {
   "cell_type": "code",
   "execution_count": 12,
   "metadata": {},
   "outputs": [],
   "source": [
    "loss.backward()"
   ]
  },
  {
   "cell_type": "code",
   "execution_count": 13,
   "metadata": {},
   "outputs": [
    {
     "name": "stdout",
     "output_type": "stream",
     "text": [
      "tensor([[-0.3016, -0.6032],\n",
      "        [-0.6744, -1.3489]])\n",
      "tensor([[ 0.1887, -0.2178],\n",
      "        [-0.0702,  0.0811]])\n",
      "tensor([[-0.3020,  0.0731]])\n"
     ]
    }
   ],
   "source": [
    "print(model[0].weight.grad)\n",
    "print(model[1].weight.grad)\n",
    "print(model[2].weight.grad)"
   ]
  },
  {
   "cell_type": "code",
   "execution_count": 14,
   "metadata": {},
   "outputs": [
    {
     "data": {
      "text/plain": [
       "tensor([[ 0.0505, -0.0122]], grad_fn=<MmBackward0>)"
      ]
     },
     "execution_count": 14,
     "metadata": {},
     "output_type": "execute_result"
    }
   ],
   "source": [
    "res = model[1].forward(model[0].forward(inp))\n",
    "res"
   ]
  },
  {
   "attachments": {},
   "cell_type": "markdown",
   "metadata": {},
   "source": [
    "$w_1^ \\prime = a^2w_1 + abw_2 - ya$ "
   ]
  },
  {
   "cell_type": "code",
   "execution_count": 15,
   "metadata": {},
   "outputs": [
    {
     "data": {
      "text/plain": [
       "tensor(-0.3020, grad_fn=<MulBackward0>)"
      ]
     },
     "execution_count": 15,
     "metadata": {},
     "output_type": "execute_result"
    }
   ],
   "source": [
    "((res[0,0]**2)*model[2].weight[0,0] + res[0,0]*res[0,1]*model[2].weight[0,1] - res[0,0]*y[0,0])*2"
   ]
  },
  {
   "cell_type": "code",
   "execution_count": 16,
   "metadata": {},
   "outputs": [
    {
     "data": {
      "text/plain": [
       "tensor(0.0731, grad_fn=<MulBackward0>)"
      ]
     },
     "execution_count": 16,
     "metadata": {},
     "output_type": "execute_result"
    }
   ],
   "source": [
    "((res[0,1]**2)*model[2].weight[0,1] + res[0,0]*res[0,1]*model[2].weight[0,0] - res[0,1]*y[0,0])*2"
   ]
  },
  {
   "cell_type": "code",
   "execution_count": null,
   "metadata": {},
   "outputs": [],
   "source": []
  }
 ],
 "metadata": {
  "kernelspec": {
   "display_name": "tf2",
   "language": "python",
   "name": "python3"
  },
  "language_info": {
   "codemirror_mode": {
    "name": "ipython",
    "version": 3
   },
   "file_extension": ".py",
   "mimetype": "text/x-python",
   "name": "python",
   "nbconvert_exporter": "python",
   "pygments_lexer": "ipython3",
   "version": "3.7.10"
  },
  "orig_nbformat": 4,
  "vscode": {
   "interpreter": {
    "hash": "f3e886644a3928785097e4f2b76d86ea4f5782e84190f8a407df728a5fcc7bf0"
   }
  }
 },
 "nbformat": 4,
 "nbformat_minor": 2
}
