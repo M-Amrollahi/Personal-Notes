{
 "cells": [
  {
   "cell_type": "code",
   "execution_count": 107,
   "metadata": {},
   "outputs": [],
   "source": [
    "import torch\n",
    "import torch.nn as nn"
   ]
  },
  {
   "cell_type": "code",
   "execution_count": 136,
   "metadata": {},
   "outputs": [],
   "source": [
    "a = torch.tensor([[1.,2.]])\n",
    "l1 = nn.Linear(2,3,bias=False)"
   ]
  },
  {
   "cell_type": "code",
   "execution_count": 141,
   "metadata": {},
   "outputs": [
    {
     "data": {
      "text/plain": [
       "tensor([[-0.9932,  0.9256, -0.2804]], grad_fn=<MmBackward0>)"
      ]
     },
     "execution_count": 141,
     "metadata": {},
     "output_type": "execute_result"
    }
   ],
   "source": [
    "criterion = nn.CrossEntropyLoss()\n",
    "l1.zero_grad()\n",
    "\n",
    "output = l1.forward(a)\n",
    "output"
   ]
  },
  {
   "cell_type": "code",
   "execution_count": 142,
   "metadata": {},
   "outputs": [
    {
     "name": "stdout",
     "output_type": "stream",
     "text": [
      "Parameter containing:\n",
      "tensor([[ 0.1413, -0.5672],\n",
      "        [ 0.2291,  0.3482],\n",
      "        [ 0.0463, -0.1633]], requires_grad=True)\n",
      "tensor(0.3689, grad_fn=<NllLossBackward0>)\n"
     ]
    }
   ],
   "source": [
    "loss = criterion.forward(output, torch.tensor([1]))\n",
    "\n",
    "print(l1.weight)\n",
    "print(loss)"
   ]
  },
  {
   "cell_type": "code",
   "execution_count": 143,
   "metadata": {},
   "outputs": [
    {
     "name": "stdout",
     "output_type": "stream",
     "text": [
      "tensor([[ 0.1015,  0.2030],\n",
      "        [-0.3085, -0.6171],\n",
      "        [ 0.2070,  0.4141]])\n"
     ]
    }
   ],
   "source": [
    "l1.zero_grad()\n",
    "loss.backward()\n",
    "print(l1.weight.grad)"
   ]
  },
  {
   "cell_type": "code",
   "execution_count": 144,
   "metadata": {},
   "outputs": [
    {
     "data": {
      "text/plain": [
       "tensor([[0.1015, 0.6915, 0.2070]], grad_fn=<SoftmaxBackward0>)"
      ]
     },
     "execution_count": 144,
     "metadata": {},
     "output_type": "execute_result"
    }
   ],
   "source": [
    "output.softmax(dim=1)"
   ]
  },
  {
   "cell_type": "code",
   "execution_count": 145,
   "metadata": {},
   "outputs": [
    {
     "data": {
      "text/plain": [
       "(<LogSoftmaxBackward0 at 0x7ff63c905c10>, 0)"
      ]
     },
     "execution_count": 145,
     "metadata": {},
     "output_type": "execute_result"
    }
   ],
   "source": [
    "loss.grad_fn.next_functions[0]"
   ]
  },
  {
   "attachments": {},
   "cell_type": "markdown",
   "metadata": {},
   "source": [
    "${p_a}=\\frac{e^a}{e^a + e^b +e^c} \\implies \\frac{d_{p_a}}{da}=\\frac{e^a-e^a*e^a}{(e^a + e^b +e^c)^2} = p_a(1-p_a)$\n",
    "\n",
    "${p_a}=\\frac{e^a}{e^a + e^b +e^c} \\implies \\frac{d_{p_a}}{db}=\\frac{0-e^b*e^a}{(e^a + e^b +e^c)^2} = -p_b*p_a$\n",
    "\n",
    "${p_a}=\\frac{e^a}{e^a + e^b +e^c} \\implies \\frac{d_{p_a}}{dc}=\\frac{0-e^c*e^a}{(e^a + e^b +e^c)^2} = -p_c*p_a$\n",
    "\n",
    "\n",
    "$CrossEntropy= -log(p) \\implies d_{cr}= -d(log)*d(softmax) = -\\frac{1}{p}*d(softmax) \\implies $  \n",
    "\n",
    "$-\\frac{1}{p_a} * p_a(1-p_a) = p_a -1$\n",
    "\n",
    "$-\\frac{1}{p_a} * -p_b*p_a = p_b$\n",
    "\n",
    "$-\\frac{1}{p_a} * -p_a*p_b = p_c$\n",
    "\n"
   ]
  },
  {
   "cell_type": "markdown",
   "metadata": {},
   "source": []
  }
 ],
 "metadata": {
  "kernelspec": {
   "display_name": "tf2",
   "language": "python",
   "name": "python3"
  },
  "language_info": {
   "codemirror_mode": {
    "name": "ipython",
    "version": 3
   },
   "file_extension": ".py",
   "mimetype": "text/x-python",
   "name": "python",
   "nbconvert_exporter": "python",
   "pygments_lexer": "ipython3",
   "version": "3.7.10"
  },
  "orig_nbformat": 4,
  "vscode": {
   "interpreter": {
    "hash": "f3e886644a3928785097e4f2b76d86ea4f5782e84190f8a407df728a5fcc7bf0"
   }
  }
 },
 "nbformat": 4,
 "nbformat_minor": 2
}
