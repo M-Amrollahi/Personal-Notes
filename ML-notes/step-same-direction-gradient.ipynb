{
 "cells": [
  {
   "cell_type": "code",
   "execution_count": 2,
   "metadata": {},
   "outputs": [],
   "source": [
    "import torch\n",
    "import torch.nn as nn\n",
    "import torch.utils.data\n",
    "import matplotlib.pyplot as plt\n",
    "%matplotlib inline"
   ]
  },
  {
   "cell_type": "code",
   "execution_count": 3,
   "metadata": {},
   "outputs": [
    {
     "data": {
      "text/plain": [
       "torch.Size([100, 2])"
      ]
     },
     "execution_count": 3,
     "metadata": {},
     "output_type": "execute_result"
    }
   ],
   "source": [
    "x = torch.linspace(0,10, 100)\n",
    "y = 10*x+2\n",
    "\n",
    "dataset = torch.stack((x,y),dim=1)\n",
    "dataset.shape\n"
   ]
  },
  {
   "cell_type": "code",
   "execution_count": 4,
   "metadata": {},
   "outputs": [],
   "source": [
    "ds_train, ds_test= torch.utils.data.random_split(dataset,[80,20])\n",
    "\n",
    "trainLoader = torch.utils.data.DataLoader(ds_train,4)\n",
    "testLoader = torch.utils.data.DataLoader(ds_test,4)"
   ]
  },
  {
   "attachments": {},
   "cell_type": "markdown",
   "metadata": {},
   "source": [
    "Gradient Descend works basically when the parameters update based on the opposite direction of the gradients. But what will happen when we step in the same direction of the gradients?"
   ]
  },
  {
   "cell_type": "code",
   "execution_count": 5,
   "metadata": {},
   "outputs": [
    {
     "name": "stdout",
     "output_type": "stream",
     "text": [
      "1012.9590930938721\n",
      "1023.7331619262695\n",
      "1033.9575061798096\n",
      "1044.0405960083008\n",
      "1054.3847846984863\n",
      "1065.4024047851562\n",
      "1077.532205581665\n",
      "1091.2568473815918\n",
      "1107.1220359802246\n",
      "1125.7583961486816\n",
      "1147.9062175750732\n",
      "1174.445255279541\n",
      "1206.4274559020996\n",
      "1245.0372409820557\n",
      "1291.8477058410645\n",
      "1348.7644386291504\n",
      "1418.0468711853027\n",
      "1502.4453239440918\n",
      "1605.3099746704102\n",
      "1730.7241096496582\n",
      "1883.6659355163574\n",
      "2070.2065811157227\n",
      "2297.7506408691406\n",
      "2575.330509185791\n",
      "2913.964469909668\n",
      "3327.0946350097656\n",
      "3831.1197814941406\n",
      "4446.047080993652\n",
      "5196.285537719727\n",
      "6111.615875244141\n",
      "7228.371078491211\n",
      "8590.879531860352\n",
      "10253.225692749023\n",
      "12281.395935058594\n",
      "14755.8955078125\n",
      "17774.948669433594\n",
      "21458.399291992188\n",
      "25952.453186035156\n",
      "31435.500915527344\n",
      "38125.18994140625\n",
      "46287.065979003906\n",
      "56245.100830078125\n",
      "68394.57678222656\n",
      "83217.76110839844\n",
      "101303.06469726562\n",
      "123368.37231445312\n",
      "150289.5361328125\n",
      "183135.18334960938\n",
      "223209.09716796875\n",
      "272101.95263671875\n",
      "331754.537109375\n",
      "404534.794921875\n",
      "493331.609375\n",
      "601669.8134765625\n",
      "733849.734375\n",
      "895118.216796875\n",
      "1091876.736328125\n",
      "1331935.47265625\n",
      "1624823.484375\n",
      "1982166.81640625\n",
      "2418149.8046875\n",
      "2950078.73046875\n",
      "3599068.0\n",
      "4390878.890625\n",
      "5356941.6640625\n",
      "6535603.625\n",
      "7973651.921875\n",
      "9728168.53125\n",
      "11868797.46875\n",
      "14480510.75\n",
      "17666980.5\n",
      "21554691.125\n",
      "26297958.5625\n",
      "32085066.625\n",
      "39145730.375\n",
      "47760218.0\n",
      "58270475.25\n",
      "71093702.25\n",
      "86738906.875\n",
      "105827135.75\n",
      "129116041.25\n",
      "157530080.5\n",
      "192197162.25\n",
      "234493376.5\n",
      "286097629.0\n",
      "349058334.0\n",
      "425874641.0\n",
      "519595754.0\n",
      "633941836.0\n",
      "773451883.0\n",
      "943663550.0\n",
      "1151333534.0\n",
      "1404704768.0\n",
      "1713834928.0\n",
      "2090994940.0\n",
      "2551155760.0\n",
      "3112583148.0\n",
      "3797562688.0\n",
      "4633283904.0\n",
      "5652919248.0\n"
     ]
    }
   ],
   "source": [
    "model1 = nn.Sequential(nn.Linear(1,10,bias=False), nn.ReLU(), nn.Linear(10,1,bias=False))\n",
    "model2 = nn.Sequential(nn.Linear(1,10,bias=False), nn.ReLU(), nn.Linear(10,1,bias=False))\n",
    "\n",
    "criterion = torch.nn.L1Loss()\n",
    "optim = torch.optim.SGD(model1.parameters(), lr=0.001)\n",
    "\n",
    "epochs = 100\n",
    "\n",
    "for i in range(epochs):\n",
    "    accLoss = 0\n",
    "    for t in trainLoader:\n",
    "        \n",
    "        y_pred = model1.forward(t[:,0].unsqueeze(dim=1))\n",
    "\n",
    "        loss = criterion.forward(y_pred, t[:,1].unsqueeze(dim=1))\n",
    "        accLoss += loss.item()\n",
    "        optim.zero_grad()\n",
    "        loss.backward()\n",
    "\n",
    "        for j in model1.parameters():\n",
    "            j.grad *= -1\n",
    "        optim.step()\n",
    "    print(accLoss)"
   ]
  },
  {
   "cell_type": "code",
   "execution_count": 6,
   "metadata": {},
   "outputs": [
    {
     "data": {
      "image/png": "[encoded data removed]",
      "text/plain": [
       "<Figure size 640x480 with 1 Axes>"
      ]
     },
     "metadata": {},
     "output_type": "display_data"
    }
   ],
   "source": [
    "lst_pred = []\n",
    "for t in testLoader:\n",
    "    y_pred = model1.forward(t[:,0].unsqueeze(dim=1))\n",
    "\n",
    "    plt.scatter(t[:,0].numpy(), y_pred.detach().numpy(),marker=\"o\",color=\"red\")\n",
    "\n",
    "for t in trainLoader:\n",
    "\n",
    "    plt.scatter(t[:,0].numpy(), t[:,1].numpy(),marker=\"o\",color=\"blue\")\n",
    "\n",
    "for t in testLoader:\n",
    "    y_pred = model2.forward(t[:,0].unsqueeze(dim=1))\n",
    "\n",
    "    plt.scatter(t[:,0].numpy(), t[:,1].numpy(),marker=\"o\",color=\"yellow\")"
   ]
  },
  {
   "cell_type": "code",
   "execution_count": 7,
   "metadata": {},
   "outputs": [
    {
     "name": "stdout",
     "output_type": "stream",
     "text": [
      "Parameter containing:\n",
      "tensor([[-2.7202e-02],\n",
      "        [ 1.8905e+03],\n",
      "        [-6.5875e-04],\n",
      "        [ 3.8426e+03],\n",
      "        [-9.0447e-01],\n",
      "        [-2.4195e-01],\n",
      "        [ 5.8692e+03],\n",
      "        [ 2.6960e+03],\n",
      "        [ 1.2486e+03],\n",
      "        [ 1.1116e+03]], requires_grad=True)\n",
      "Parameter containing:\n",
      "tensor([[-1.3188e-01, -1.8905e+03,  1.1694e-01, -3.8426e+03,  3.0802e-01,\n",
      "          3.0432e-01, -5.8692e+03, -2.6960e+03, -1.2486e+03, -1.1116e+03]],\n",
      "       requires_grad=True)\n"
     ]
    }
   ],
   "source": [
    "for i in model1.parameters():\n",
    "    print(i)"
   ]
  },
  {
   "cell_type": "code",
   "execution_count": null,
   "metadata": {},
   "outputs": [],
   "source": []
  }
 ],
 "metadata": {
  "kernelspec": {
   "display_name": "tf2",
   "language": "python",
   "name": "python3"
  },
  "language_info": {
   "codemirror_mode": {
    "name": "ipython",
    "version": 3
   },
   "file_extension": ".py",
   "mimetype": "text/x-python",
   "name": "python",
   "nbconvert_exporter": "python",
   "pygments_lexer": "ipython3",
   "version": "3.7.10"
  },
  "orig_nbformat": 4,
  "vscode": {
   "interpreter": {
    "hash": "f3e886644a3928785097e4f2b76d86ea4f5782e84190f8a407df728a5fcc7bf0"
   }
  }
 },
 "nbformat": 4,
 "nbformat_minor": 2
}
