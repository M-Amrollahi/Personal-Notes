{
  "nbformat": 4,
  "nbformat_minor": 0,
  "metadata": {
    "colab": {
      "provenance": [],
      "authorship_tag": "ABX9TyN97CqCBdf2kSeMTgtmqD7k",
      "include_colab_link": true
    },
    "kernelspec": {
      "name": "python3",
      "display_name": "Python 3"
    },
    "language_info": {
      "name": "python"
    }
  },
  "cells": [
    {
      "cell_type": "markdown",
      "metadata": {
        "id": "view-in-github",
        "colab_type": "text"
      },
      "source": [
        "<a href=\"https://colab.research.google.com/github/M-Amrollahi/Personal-Notes/blob/master/ML-notes/how_normalizationd_work.ipynb\" target=\"_parent\"><img src=\"https://colab.research.google.com/assets/colab-badge.svg\" alt=\"Open In Colab\"/></a>"
      ]
    },
    {
      "cell_type": "code",
      "execution_count": 55,
      "metadata": {
        "id": "Ztex8vIkqmJ_"
      },
      "outputs": [],
      "source": [
        "import scipy\n",
        "import numpy as np\n",
        "import sklearn.preprocessing as prec"
      ]
    },
    {
      "cell_type": "code",
      "source": [
        "np.random.seed(50)\n",
        "a = np.random.randint(0,10,(6,3))\n",
        "a"
      ],
      "metadata": {
        "colab": {
          "base_uri": "https://localhost:8080/"
        },
        "id": "0wFGBDeMrIWE",
        "outputId": "0c12b0c9-03c6-4cee-c288-9094a2eeca30"
      },
      "execution_count": 58,
      "outputs": [
        {
          "output_type": "execute_result",
          "data": {
            "text/plain": [
              "array([[0, 0, 1],\n",
              "       [4, 6, 5],\n",
              "       [6, 6, 5],\n",
              "       [2, 7, 4],\n",
              "       [3, 6, 4],\n",
              "       [1, 5, 9]])"
            ]
          },
          "metadata": {},
          "execution_count": 58
        }
      ]
    },
    {
      "cell_type": "markdown",
      "source": [
        "# Normalize data on MAX\n",
        " on instance"
      ],
      "metadata": {
        "id": "9lFA1kodSrPZ"
      }
    },
    {
      "cell_type": "code",
      "source": [
        "p = prec.normalize(a,norm=\"max\")\n",
        "\n",
        "t = a/a.max(axis=1)[:,np.newaxis]\n",
        "\n",
        "np.allclose(p,t)"
      ],
      "metadata": {
        "colab": {
          "base_uri": "https://localhost:8080/"
        },
        "id": "h-Jd0BlIvDat",
        "outputId": "b474f7c0-2f5a-4b43-8cce-801890cb97cd"
      },
      "execution_count": 81,
      "outputs": [
        {
          "output_type": "execute_result",
          "data": {
            "text/plain": [
              "True"
            ]
          },
          "metadata": {},
          "execution_count": 81
        }
      ]
    },
    {
      "cell_type": "markdown",
      "source": [
        "# Normalize data on L1\n",
        "L1 = sum(x1,x2,...)\n",
        "\n",
        "on instance"
      ],
      "metadata": {
        "id": "qFpYJ7S0Sv9-"
      }
    },
    {
      "cell_type": "code",
      "source": [
        "p = prec.normalize(a,norm=\"l1\")\n",
        "\n",
        "t = a/a.sum(axis=1)[:,np.newaxis]\n",
        "np.allclose(p,t)"
      ],
      "metadata": {
        "colab": {
          "base_uri": "https://localhost:8080/"
        },
        "id": "ZwxGjFTfALKh",
        "outputId": "e5af55dd-9d97-4ecc-97ed-1a16dcd1b2e4"
      },
      "execution_count": 82,
      "outputs": [
        {
          "output_type": "execute_result",
          "data": {
            "text/plain": [
              "True"
            ]
          },
          "metadata": {},
          "execution_count": 82
        }
      ]
    },
    {
      "cell_type": "markdown",
      "source": [
        "# Normalize data on L2\n",
        "L2 = sqrt(sum(x1**2,x2**2...))\n",
        "\n",
        "on instance"
      ],
      "metadata": {
        "id": "PGPJvzK1TDss"
      }
    },
    {
      "cell_type": "code",
      "source": [
        "p = prec.normalize(a,norm=\"l2\")\n",
        "t = a/np.power(np.power(a,2).sum(axis=1),.5)[:,np.newaxis]\n",
        "\n",
        "np.allclose(p,t)"
      ],
      "metadata": {
        "colab": {
          "base_uri": "https://localhost:8080/"
        },
        "id": "k56gXcmH2LsS",
        "outputId": "1b45f6ba-15c9-4817-bd6f-ca267e91be40"
      },
      "execution_count": 83,
      "outputs": [
        {
          "output_type": "execute_result",
          "data": {
            "text/plain": [
              "True"
            ]
          },
          "metadata": {},
          "execution_count": 83
        }
      ]
    },
    {
      "cell_type": "markdown",
      "source": [
        "# Normalize data\n",
        "\n",
        "on each feature"
      ],
      "metadata": {
        "id": "VTwtDa3YTxoM"
      }
    },
    {
      "cell_type": "code",
      "source": [
        "p = prec.scale(a)\n",
        "\n",
        "mean = a.mean(axis=0)\n",
        "std = a.std(axis=0)\n",
        "t = (a-mean)/std\n",
        "\n",
        "np.allclose(p,t)"
      ],
      "metadata": {
        "id": "dKgLlmEYGW8a",
        "outputId": "66044436-3dd8-411d-b07c-cdda63c03ab2",
        "colab": {
          "base_uri": "https://localhost:8080/"
        }
      },
      "execution_count": 102,
      "outputs": [
        {
          "output_type": "execute_result",
          "data": {
            "text/plain": [
              "True"
            ]
          },
          "metadata": {},
          "execution_count": 102
        }
      ]
    },
    {
      "cell_type": "code",
      "source": [
        "prec.binarize(a,threshold= 5)"
      ],
      "metadata": {
        "colab": {
          "base_uri": "https://localhost:8080/"
        },
        "id": "yUchCS0a2gCv",
        "outputId": "681bc10f-fb80-45ae-d553-ca1cd2446652"
      },
      "execution_count": 51,
      "outputs": [
        {
          "output_type": "execute_result",
          "data": {
            "text/plain": [
              "array([[0, 1, 1, 0, 1],\n",
              "       [0, 0, 0, 1, 0],\n",
              "       [0, 1, 1, 0, 0],\n",
              "       [0, 1, 0, 0, 1],\n",
              "       [1, 1, 1, 1, 0],\n",
              "       [1, 1, 0, 0, 1],\n",
              "       [1, 0, 1, 0, 0],\n",
              "       [0, 0, 1, 1, 0],\n",
              "       [0, 0, 1, 0, 0],\n",
              "       [0, 1, 0, 0, 0]])"
            ]
          },
          "metadata": {},
          "execution_count": 51
        }
      ]
    },
    {
      "cell_type": "markdown",
      "source": [
        "# Starndard Normalization \n",
        "\n",
        "(x-mean)/std\n",
        "\n",
        "on each feature\n"
      ],
      "metadata": {
        "id": "W11ZR8xCVsGe"
      }
    },
    {
      "cell_type": "code",
      "source": [
        "mean = a.mean(axis=0)\n",
        "std = a.std(axis=0)\n",
        "\n",
        "\n",
        "smodel = prec.StandardScaler()\n",
        "smodel.fit(a)\n",
        "p = smodel.transform(a)\n",
        "t = (a-mean)/std\n",
        "\n",
        "np.allclose(p,t)"
      ],
      "metadata": {
        "colab": {
          "base_uri": "https://localhost:8080/"
        },
        "id": "wd9n5Hbw4IIr",
        "outputId": "87f8ef8a-308a-48bf-a35c-93810c72d79c"
      },
      "execution_count": 107,
      "outputs": [
        {
          "output_type": "execute_result",
          "data": {
            "text/plain": [
              "True"
            ]
          },
          "metadata": {},
          "execution_count": 107
        }
      ]
    },
    {
      "cell_type": "markdown",
      "source": [
        "# MiaMax normalization\n",
        "\n",
        "(a-min)/(max-min)\n",
        "\n",
        "on each feature"
      ],
      "metadata": {
        "id": "6QPsxs1rWvbE"
      }
    },
    {
      "cell_type": "code",
      "source": [
        "model = prec.MinMaxScaler()\n",
        "p = model.fit_transform(a)\n",
        "\n",
        "t = (a - a.min(axis=0)) / (a.max(axis=0) - a.min(axis=0))\n",
        "\n",
        "np.allclose(p,t)"
      ],
      "metadata": {
        "colab": {
          "base_uri": "https://localhost:8080/"
        },
        "id": "1NxuBXgJrUL9",
        "outputId": "baa74059-f51f-46cd-ea03-ccd5fdfa8a4d"
      },
      "execution_count": 110,
      "outputs": [
        {
          "output_type": "execute_result",
          "data": {
            "text/plain": [
              "True"
            ]
          },
          "metadata": {},
          "execution_count": 110
        }
      ]
    },
    {
      "cell_type": "code",
      "source": [
        "prec.minmax_scale(a)"
      ],
      "metadata": {
        "id": "okh3kJJxW_um",
        "outputId": "3022092c-6b5e-424b-8cc7-ad2a5fc8f344",
        "colab": {
          "base_uri": "https://localhost:8080/"
        }
      },
      "execution_count": 111,
      "outputs": [
        {
          "output_type": "execute_result",
          "data": {
            "text/plain": [
              "array([[0.        , 0.        , 0.        ],\n",
              "       [0.66666667, 0.85714286, 0.5       ],\n",
              "       [1.        , 0.85714286, 0.5       ],\n",
              "       [0.33333333, 1.        , 0.375     ],\n",
              "       [0.5       , 0.85714286, 0.375     ],\n",
              "       [0.16666667, 0.71428571, 1.        ]])"
            ]
          },
          "metadata": {},
          "execution_count": 111
        }
      ]
    },
    {
      "cell_type": "code",
      "source": [
        "a=prec.OneHotEncoder()\n",
        "a.fit([[1],[3]])"
      ],
      "metadata": {
        "id": "ikPlKuffXjW6",
        "outputId": "7bd8b549-ee3f-4637-beec-8e2f8802cd59",
        "colab": {
          "base_uri": "https://localhost:8080/"
        }
      },
      "execution_count": 122,
      "outputs": [
        {
          "output_type": "execute_result",
          "data": {
            "text/plain": [
              "OneHotEncoder()"
            ]
          },
          "metadata": {},
          "execution_count": 122
        }
      ]
    },
    {
      "cell_type": "code",
      "source": [
        "a.transform([[3]])"
      ],
      "metadata": {
        "id": "VSnaLJS7Xm8G",
        "outputId": "f38bc256-cb5a-4973-a262-6d049d75024f",
        "colab": {
          "base_uri": "https://localhost:8080/"
        }
      },
      "execution_count": 124,
      "outputs": [
        {
          "output_type": "execute_result",
          "data": {
            "text/plain": [
              "<1x2 sparse matrix of type '<class 'numpy.float64'>'\n",
              "\twith 1 stored elements in Compressed Sparse Row format>"
            ]
          },
          "metadata": {},
          "execution_count": 124
        }
      ]
    },
    {
      "cell_type": "code",
      "source": [
        "b=a.transform([[1]])"
      ],
      "metadata": {
        "id": "fZAMZ93gX3EI"
      },
      "execution_count": 135,
      "outputs": []
    },
    {
      "cell_type": "code",
      "source": [
        "b.toarray()"
      ],
      "metadata": {
        "id": "FdoGCbKXZ0Ji",
        "outputId": "7bb648e7-0b90-44a9-85a4-e73987ee7439",
        "colab": {
          "base_uri": "https://localhost:8080/"
        }
      },
      "execution_count": 138,
      "outputs": [
        {
          "output_type": "execute_result",
          "data": {
            "text/plain": [
              "array([[1., 0.]])"
            ]
          },
          "metadata": {},
          "execution_count": 138
        }
      ]
    },
    {
      "cell_type": "code",
      "source": [],
      "metadata": {
        "id": "kNio5udzcSky"
      },
      "execution_count": null,
      "outputs": []
    }
  ]
}