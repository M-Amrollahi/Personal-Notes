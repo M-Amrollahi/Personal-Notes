{
  "nbformat": 4,
  "nbformat_minor": 0,
  "metadata": {
    "colab": {
      "provenance": [],
      "include_colab_link": true
    },
    "kernelspec": {
      "name": "python3",
      "display_name": "Python 3"
    },
    "language_info": {
      "name": "python"
    }
  },
  "cells": [
    {
      "cell_type": "markdown",
      "metadata": {
        "id": "view-in-github",
        "colab_type": "text"
      },
      "source": [
        "<a href=\"https://colab.research.google.com/github/M-Amrollahi/Personal-Notes/blob/master/ML-notes/gradient_tracking_mnist.ipynb\" target=\"_parent\"><img src=\"https://colab.research.google.com/assets/colab-badge.svg\" alt=\"Open In Colab\"/></a>"
      ]
    },
    {
      "cell_type": "code",
      "execution_count": 28,
      "metadata": {
        "id": "e4zSf2aInY11"
      },
      "outputs": [],
      "source": [
        "import numpy as np\n",
        "import matplotlib.pyplot as plt\n",
        "import seaborn as sns\n",
        "import torch\n",
        "from torchvision import datasets\n",
        "from IPython.display import display\n",
        "from PIL import Image\n",
        "from sklearn.model_selection import train_test_split\n",
        "from torch.utils.data import DataLoader,Dataset\n",
        "import torch.nn as nn\n",
        "import sklearn.metrics as metr\n",
        "from sklearn.decomposition import PCA"
      ]
    },
    {
      "cell_type": "code",
      "source": [
        "dsmnist = datasets.MNIST(\"./\",download=True)"
      ],
      "metadata": {
        "id": "GPE8GiRqyMa7"
      },
      "execution_count": 29,
      "outputs": []
    },
    {
      "cell_type": "code",
      "source": [
        "X_train, X_test, y_train, y_test = train_test_split(dsmnist.data, dsmnist.targets,test_size=.1,stratify=dsmnist.targets)\n",
        "X_val, X_test, y_val, y_test = train_test_split(X_test, y_test, test_size=.05, stratify=y_test)"
      ],
      "metadata": {
        "id": "T4n0m88r0YzM"
      },
      "execution_count": 30,
      "outputs": []
    },
    {
      "cell_type": "code",
      "source": [
        "class cls_data(Dataset):\n",
        "    \n",
        "    def __init__(self, x, y):\n",
        "        super().__init__()\n",
        "        self.data = x\n",
        "        self.target = y\n",
        "    def __len__(self):\n",
        "        return len(self.target)\n",
        "    def __getitem__(self, index) :\n",
        "        return self.data[index].unsqueeze(dim=0), self.target[index]\n"
      ],
      "metadata": {
        "id": "CnSdrs7w2SyL"
      },
      "execution_count": 31,
      "outputs": []
    },
    {
      "cell_type": "code",
      "source": [
        "ds_train = cls_data(X_train/255., y_train)\n",
        "ds_test = cls_data(X_test/255., y_test)\n",
        "ds_val = cls_data(X_val/255.,y_val)\n",
        "\n",
        "train_loader = DataLoader(ds_train,batch_size=16)\n",
        "test_loader = DataLoader(ds_test,batch_size=16)\n",
        "val_loader = DataLoader(ds_val,batch_size=16)"
      ],
      "metadata": {
        "id": "ZNinnBP82kNW"
      },
      "execution_count": 32,
      "outputs": []
    },
    {
      "cell_type": "code",
      "source": [
        "from collections import OrderedDict\n",
        "class cls_model(nn.Module):\n",
        "    def __init__(self) -> None:\n",
        "        super().__init__()\n",
        "\n",
        "        self.model_feature = nn.Sequential(OrderedDict([\n",
        "            (\"conv1\", nn.Conv2d(in_channels=1,out_channels=3,kernel_size=(3,3))),\n",
        "            (\"maxp1\", nn.MaxPool2d(2,2))]))\n",
        "        \n",
        "        self.model_classify = nn.Sequential(OrderedDict([\n",
        "            (\"linear1\",nn.Linear(13*13*3,500)),\n",
        "            (\"relu1\",nn.ReLU()),\n",
        "            (\"layernorm1\",nn.LayerNorm(500)),\n",
        "            (\"dropout1\", nn.Dropout(p=.1)),\n",
        "            (\"linear2\",nn.Linear(500,10))]\n",
        "        ))\n",
        "\n",
        "        #torch.nn.init.ones_(self.model_classify[0].weight.data)\n",
        "        \n",
        "        #self.conv1 = torch.nn.Conv2d(in_channels=1,out_channels=3,kernel_size=(3,3))\n",
        "        #self.maxp = torch.nn.MaxPool2d(2,2)\n",
        "        #self.l1 = torch.nn.Linear(13*13*3,500)\n",
        "        #self.lnorm1 = torch.nn.LayerNorm(500)\n",
        "        #self.relu1 = torch.nn.ReLU()\n",
        "        #self.drop1 = torch.nn.Dropout(p=.1)\n",
        "        #self.l2 = torch.nn.Linear(500,10)\n",
        "\n",
        "    def forward(self, x):\n",
        "        #x = torch.permute(x,()\n",
        "        #x = self.conv1(x)\n",
        "        #x = self.maxp(x)\n",
        "        x = self.model_feature.forward(x)\n",
        "\n",
        "        x = x.reshape((x.shape[0],-1))\n",
        "        \n",
        "        y = self.model_classify(x)\n",
        "        #y = self.l2.forward(self.drop1( self.lnorm1(self.relu1( self.l1.forward(x)))))\n",
        "\n",
        "        return y\n",
        "\n",
        "    def f_getGrads(self):\n",
        "        return self.model_classify[0].weight.grad.detach().clone().mean(dim=1).numpy()"
      ],
      "metadata": {
        "id": "lw24LwbK4zjS"
      },
      "execution_count": 99,
      "outputs": []
    },
    {
      "cell_type": "code",
      "source": [
        "model = cls_model()\n",
        "model\n",
        "#model.forward(X_train[:5]/255.)"
      ],
      "metadata": {
        "colab": {
          "base_uri": "https://localhost:8080/"
        },
        "id": "t6V3zquz8y06",
        "outputId": "bcd948b4-05be-4c22-febb-aebc40e6f32d"
      },
      "execution_count": 100,
      "outputs": [
        {
          "output_type": "execute_result",
          "data": {
            "text/plain": [
              "cls_model(\n",
              "  (model_feature): Sequential(\n",
              "    (conv1): Conv2d(1, 3, kernel_size=(3, 3), stride=(1, 1))\n",
              "    (maxp1): MaxPool2d(kernel_size=2, stride=2, padding=0, dilation=1, ceil_mode=False)\n",
              "  )\n",
              "  (model_classify): Sequential(\n",
              "    (linear1): Linear(in_features=507, out_features=500, bias=True)\n",
              "    (relu1): ReLU()\n",
              "    (layernorm1): LayerNorm((500,), eps=1e-05, elementwise_affine=True)\n",
              "    (dropout1): Dropout(p=0.1, inplace=False)\n",
              "    (linear2): Linear(in_features=500, out_features=10, bias=True)\n",
              "  )\n",
              ")"
            ]
          },
          "metadata": {},
          "execution_count": 100
        }
      ]
    },
    {
      "cell_type": "code",
      "source": [
        "def f_validate(model, dloader, criterion):\n",
        "    model.eval()\n",
        "    preds = torch.empty(0)\n",
        "    targets = torch.empty(0)\n",
        "\n",
        "    tmpLoss = 0\n",
        "    for i , (x_batch, y_batch) in enumerate(dloader):\n",
        "        y_pred = model.forward(x_batch)\n",
        "        preds = torch.cat((preds, y_pred.argmax(dim=1)))\n",
        "        targets = torch.cat((targets,y_batch))\n",
        "\n",
        "        tmpLoss += criterion(y_pred, y_batch).item() / len(y_batch)\n",
        "        #lst_pred.append( [y_pred.argmax(dim=1),y_batch])\n",
        "    \n",
        "    return targets.detach().numpy(), preds.detach().numpy() , tmpLoss"
      ],
      "metadata": {
        "id": "13wIqmQc9k3w"
      },
      "execution_count": 101,
      "outputs": []
    },
    {
      "cell_type": "code",
      "source": [
        "criterion = torch.nn.CrossEntropyLoss()\n",
        "optim = torch.optim.SGD(model.parameters(), lr=1e-3)\n",
        "\n",
        "epochs = 10\n",
        "\n",
        "dict_grads = dict()\n",
        "dict_res = dict()\n",
        "for i in range(epochs):\n",
        "    tmpLoss = 0.\n",
        "    for j,(x_batch, y_batch) in enumerate(train_loader):\n",
        "\n",
        "        y_pred = model.forward(x_batch)\n",
        "        #print(y_pred.shape)\n",
        "        #print(y_batch.unsqueeze(dim=1).shape)\n",
        "        loss = criterion(y_pred, y_batch)\n",
        "\n",
        "        optim.zero_grad()\n",
        "        loss.backward()\n",
        "        optim.step()\n",
        "\n",
        "        tmpLoss += loss.item() / len(y_batch)\n",
        "\n",
        "        #break\n",
        "    dict_grads[i] = model.f_getGrads()\n",
        "    print(\"Loss:\" , tmpLoss)\n",
        "    target , pred, valLoss = f_validate(model, val_loader, criterion)\n",
        "    print(\"Val acc:\", metr.accuracy_score(target,pred), \"Val loss: \", valLoss)\n",
        "    dict_res[i] = tmpLoss"
      ],
      "metadata": {
        "colab": {
          "base_uri": "https://localhost:8080/"
        },
        "id": "piqRMqhH9ApJ",
        "outputId": "efc1f00b-2125-43fd-a7a4-95369e337945"
      },
      "execution_count": 102,
      "outputs": [
        {
          "output_type": "stream",
          "name": "stdout",
          "text": [
            "Loss: 95.19043599814177\n",
            "Val acc: 0.9284210526315789 Val loss:  5.807643587118946\n",
            "Loss: 44.06997561146272\n",
            "Val acc: 0.9445614035087719 Val loss:  4.294056792277843\n",
            "Loss: 33.22230348631274\n",
            "Val acc: 0.9529824561403509 Val loss:  3.544762044737581\n",
            "Loss: 27.134616351890145\n",
            "Val acc: 0.9587719298245614 Val loss:  3.0986149882082827\n",
            "Loss: 23.129775218112627\n",
            "Val acc: 0.9633333333333334 Val loss:  2.787886571168201\n",
            "Loss: 20.22889594681328\n",
            "Val acc: 0.9654385964912281 Val loss:  2.552060289628571\n",
            "Loss: 18.017387417290593\n",
            "Val acc: 0.9685964912280701 Val loss:  2.3695435484842164\n",
            "Loss: 16.22000920290884\n",
            "Val acc: 0.9712280701754386 Val loss:  2.2263578332349425\n",
            "Loss: 14.72480967269803\n",
            "Val acc: 0.9721052631578947 Val loss:  2.1083248704089783\n",
            "Loss: 13.454598586904467\n",
            "Val acc: 0.9731578947368421 Val loss:  2.016624779207632\n"
          ]
        }
      ]
    },
    {
      "cell_type": "code",
      "source": [
        "target , pred, testLoss  = f_validate(model,test_loader,criterion)\n",
        "metr.accuracy_score(target,pred)"
      ],
      "metadata": {
        "id": "dRGfyHSXLhRU",
        "outputId": "aab0b152-2855-46e7-985a-6e125a3d8c8a",
        "colab": {
          "base_uri": "https://localhost:8080/"
        }
      },
      "execution_count": 63,
      "outputs": [
        {
          "output_type": "execute_result",
          "data": {
            "text/plain": [
              "0.9766666666666667"
            ]
          },
          "metadata": {},
          "execution_count": 63
        }
      ]
    },
    {
      "cell_type": "code",
      "source": [
        "metr.accuracy_score(targets.detach().numpy(),preds.detach().numpy())*100"
      ],
      "metadata": {
        "colab": {
          "base_uri": "https://localhost:8080/"
        },
        "id": "lC4RxkYTa5ru",
        "outputId": "d692941c-fa18-4850-fadf-8299f46b3bf1"
      },
      "execution_count": null,
      "outputs": [
        {
          "output_type": "execute_result",
          "data": {
            "text/plain": [
              "97.65"
            ]
          },
          "metadata": {},
          "execution_count": 296
        }
      ]
    },
    {
      "cell_type": "code",
      "source": [
        "confusion = metr.confusion_matrix(targets.detach().numpy(),preds.detach().numpy())\n",
        "confusion"
      ],
      "metadata": {
        "colab": {
          "base_uri": "https://localhost:8080/"
        },
        "id": "KBZoBsa_R7dz",
        "outputId": "bbb14d4b-7eb6-42bc-af68-752fb2dbd659"
      },
      "execution_count": null,
      "outputs": [
        {
          "output_type": "execute_result",
          "data": {
            "text/plain": [
              "array([[586,   0,   1,   0,   1,   1,   2,   0,   1,   0],\n",
              "       [  0, 668,   2,   1,   3,   0,   0,   0,   0,   0],\n",
              "       [  1,   1, 581,   3,   4,   0,   0,   4,   1,   1],\n",
              "       [  0,   1,   8, 593,   0,   3,   0,   4,   2,   2],\n",
              "       [  1,   0,   4,   1, 567,   0,   2,   2,   2,   5],\n",
              "       [  2,   1,   0,   6,   0, 531,   1,   0,   1,   0],\n",
              "       [  1,   0,   2,   0,   0,   3, 583,   0,   3,   0],\n",
              "       [  1,   2,   6,   0,   1,   0,   1, 614,   0,   2],\n",
              "       [  1,   3,   0,   7,   3,   4,   0,   1, 566,   0],\n",
              "       [  3,   1,   1,   4,   4,   3,   0,   7,   2, 570]])"
            ]
          },
          "metadata": {},
          "execution_count": 299
        }
      ]
    },
    {
      "cell_type": "code",
      "source": [
        "for j in range(len(dict_grads[0])):\n",
        "    plt.plot([i for i in dict_grads.keys()] , [i[j] for i in dict_grads.values()])\n"
      ],
      "metadata": {
        "id": "vp9FXNAfc9yN",
        "outputId": "24b9c99b-ca8d-4480-ac35-c64a4998e70a",
        "colab": {
          "base_uri": "https://localhost:8080/",
          "height": 265
        }
      },
      "execution_count": 103,
      "outputs": [
        {
          "output_type": "display_data",
          "data": {
            "text/plain": [
              "<Figure size 432x288 with 1 Axes>"
            ],
            "image/png": "[encoded data removed]"
          },
          "metadata": {
            "needs_background": "light"
          }
        }
      ]
    },
    {
      "cell_type": "code",
      "source": [
        "len(dict_grads[0])"
      ],
      "metadata": {
        "id": "LSmtCBA_d-X1",
        "outputId": "20df2f32-59dd-4131-b079-b79df99227a4",
        "colab": {
          "base_uri": "https://localhost:8080/"
        }
      },
      "execution_count": 66,
      "outputs": [
        {
          "output_type": "execute_result",
          "data": {
            "text/plain": [
              "500"
            ]
          },
          "metadata": {},
          "execution_count": 66
        }
      ]
    },
    {
      "cell_type": "code",
      "source": [
        "model.model_feature[0].weight.grad.shape"
      ],
      "metadata": {
        "id": "C4jeWfQS2plS",
        "outputId": "b1d8e7e6-4617-491f-d4d8-a64d7d65b82b",
        "colab": {
          "base_uri": "https://localhost:8080/"
        }
      },
      "execution_count": 98,
      "outputs": [
        {
          "output_type": "execute_result",
          "data": {
            "text/plain": [
              "torch.Size([3, 1, 3, 3])"
            ]
          },
          "metadata": {},
          "execution_count": 98
        }
      ]
    },
    {
      "cell_type": "code",
      "source": [],
      "metadata": {
        "id": "WLC_cSBz8oM1"
      },
      "execution_count": null,
      "outputs": []
    }
  ]
}