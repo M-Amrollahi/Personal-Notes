{
  "nbformat": 4,
  "nbformat_minor": 0,
  "metadata": {
    "colab": {
      "provenance": [],
      "include_colab_link": true
    },
    "kernelspec": {
      "name": "python3",
      "display_name": "Python 3"
    },
    "language_info": {
      "name": "python"
    },
    "accelerator": "GPU",
    "gpuClass": "standard",
    "widgets": {
      "application/vnd.jupyter.widget-state+json": {
        "c9e48f2e3a7f4c3195821548ff9c4fce": {
          "model_module": "@jupyter-widgets/controls",
          "model_name": "HBoxModel",
          "model_module_version": "1.5.0",
          "state": {
            "_dom_classes": [],
            "_model_module": "@jupyter-widgets/controls",
            "_model_module_version": "1.5.0",
            "_model_name": "HBoxModel",
            "_view_count": null,
            "_view_module": "@jupyter-widgets/controls",
            "_view_module_version": "1.5.0",
            "_view_name": "HBoxView",
            "box_style": "",
            "children": [
              "IPY_MODEL_7e3ecb69a3214b99be1d3d46898c025a",
              "IPY_MODEL_c18d084ce69d4c17a701b98b8e064caa",
              "IPY_MODEL_75f4df43bc994b55b96558ed8c35d32b"
            ],
            "layout": "IPY_MODEL_8d63c4b03b6e4d31aa1ce605ea141d92"
          }
        },
        "7e3ecb69a3214b99be1d3d46898c025a": {
          "model_module": "@jupyter-widgets/controls",
          "model_name": "HTMLModel",
          "model_module_version": "1.5.0",
          "state": {
            "_dom_classes": [],
            "_model_module": "@jupyter-widgets/controls",
            "_model_module_version": "1.5.0",
            "_model_name": "HTMLModel",
            "_view_count": null,
            "_view_module": "@jupyter-widgets/controls",
            "_view_module_version": "1.5.0",
            "_view_name": "HTMLView",
            "description": "",
            "description_tooltip": null,
            "layout": "IPY_MODEL_98ecefd760d646cc94a930cb13e3efdc",
            "placeholder": "​",
            "style": "IPY_MODEL_b65bf0466d96432e80a8e4c141b6b554",
            "value": "100%"
          }
        },
        "c18d084ce69d4c17a701b98b8e064caa": {
          "model_module": "@jupyter-widgets/controls",
          "model_name": "FloatProgressModel",
          "model_module_version": "1.5.0",
          "state": {
            "_dom_classes": [],
            "_model_module": "@jupyter-widgets/controls",
            "_model_module_version": "1.5.0",
            "_model_name": "FloatProgressModel",
            "_view_count": null,
            "_view_module": "@jupyter-widgets/controls",
            "_view_module_version": "1.5.0",
            "_view_name": "ProgressView",
            "bar_style": "success",
            "description": "",
            "description_tooltip": null,
            "layout": "IPY_MODEL_5f97946c2bf44215b26eb8a16f772cc8",
            "max": 9912422,
            "min": 0,
            "orientation": "horizontal",
            "style": "IPY_MODEL_95f246091da740cc8a2f2d736934197b",
            "value": 9912422
          }
        },
        "75f4df43bc994b55b96558ed8c35d32b": {
          "model_module": "@jupyter-widgets/controls",
          "model_name": "HTMLModel",
          "model_module_version": "1.5.0",
          "state": {
            "_dom_classes": [],
            "_model_module": "@jupyter-widgets/controls",
            "_model_module_version": "1.5.0",
            "_model_name": "HTMLModel",
            "_view_count": null,
            "_view_module": "@jupyter-widgets/controls",
            "_view_module_version": "1.5.0",
            "_view_name": "HTMLView",
            "description": "",
            "description_tooltip": null,
            "layout": "IPY_MODEL_894506f11ec34c389bf86fc7edeed3ae",
            "placeholder": "​",
            "style": "IPY_MODEL_058fa91c677740fba4bb189de191276b",
            "value": " 9912422/9912422 [00:00&lt;00:00, 38195743.56it/s]"
          }
        },
        "8d63c4b03b6e4d31aa1ce605ea141d92": {
          "model_module": "@jupyter-widgets/base",
          "model_name": "LayoutModel",
          "model_module_version": "1.2.0",
          "state": {
            "_model_module": "@jupyter-widgets/base",
            "_model_module_version": "1.2.0",
            "_model_name": "LayoutModel",
            "_view_count": null,
            "_view_module": "@jupyter-widgets/base",
            "_view_module_version": "1.2.0",
            "_view_name": "LayoutView",
            "align_content": null,
            "align_items": null,
            "align_self": null,
            "border": null,
            "bottom": null,
            "display": null,
            "flex": null,
            "flex_flow": null,
            "grid_area": null,
            "grid_auto_columns": null,
            "grid_auto_flow": null,
            "grid_auto_rows": null,
            "grid_column": null,
            "grid_gap": null,
            "grid_row": null,
            "grid_template_areas": null,
            "grid_template_columns": null,
            "grid_template_rows": null,
            "height": null,
            "justify_content": null,
            "justify_items": null,
            "left": null,
            "margin": null,
            "max_height": null,
            "max_width": null,
            "min_height": null,
            "min_width": null,
            "object_fit": null,
            "object_position": null,
            "order": null,
            "overflow": null,
            "overflow_x": null,
            "overflow_y": null,
            "padding": null,
            "right": null,
            "top": null,
            "visibility": null,
            "width": null
          }
        },
        "98ecefd760d646cc94a930cb13e3efdc": {
          "model_module": "@jupyter-widgets/base",
          "model_name": "LayoutModel",
          "model_module_version": "1.2.0",
          "state": {
            "_model_module": "@jupyter-widgets/base",
            "_model_module_version": "1.2.0",
            "_model_name": "LayoutModel",
            "_view_count": null,
            "_view_module": "@jupyter-widgets/base",
            "_view_module_version": "1.2.0",
            "_view_name": "LayoutView",
            "align_content": null,
            "align_items": null,
            "align_self": null,
            "border": null,
            "bottom": null,
            "display": null,
            "flex": null,
            "flex_flow": null,
            "grid_area": null,
            "grid_auto_columns": null,
            "grid_auto_flow": null,
            "grid_auto_rows": null,
            "grid_column": null,
            "grid_gap": null,
            "grid_row": null,
            "grid_template_areas": null,
            "grid_template_columns": null,
            "grid_template_rows": null,
            "height": null,
            "justify_content": null,
            "justify_items": null,
            "left": null,
            "margin": null,
            "max_height": null,
            "max_width": null,
            "min_height": null,
            "min_width": null,
            "object_fit": null,
            "object_position": null,
            "order": null,
            "overflow": null,
            "overflow_x": null,
            "overflow_y": null,
            "padding": null,
            "right": null,
            "top": null,
            "visibility": null,
            "width": null
          }
        },
        "b65bf0466d96432e80a8e4c141b6b554": {
          "model_module": "@jupyter-widgets/controls",
          "model_name": "DescriptionStyleModel",
          "model_module_version": "1.5.0",
          "state": {
            "_model_module": "@jupyter-widgets/controls",
            "_model_module_version": "1.5.0",
            "_model_name": "DescriptionStyleModel",
            "_view_count": null,
            "_view_module": "@jupyter-widgets/base",
            "_view_module_version": "1.2.0",
            "_view_name": "StyleView",
            "description_width": ""
          }
        },
        "5f97946c2bf44215b26eb8a16f772cc8": {
          "model_module": "@jupyter-widgets/base",
          "model_name": "LayoutModel",
          "model_module_version": "1.2.0",
          "state": {
            "_model_module": "@jupyter-widgets/base",
            "_model_module_version": "1.2.0",
            "_model_name": "LayoutModel",
            "_view_count": null,
            "_view_module": "@jupyter-widgets/base",
            "_view_module_version": "1.2.0",
            "_view_name": "LayoutView",
            "align_content": null,
            "align_items": null,
            "align_self": null,
            "border": null,
            "bottom": null,
            "display": null,
            "flex": null,
            "flex_flow": null,
            "grid_area": null,
            "grid_auto_columns": null,
            "grid_auto_flow": null,
            "grid_auto_rows": null,
            "grid_column": null,
            "grid_gap": null,
            "grid_row": null,
            "grid_template_areas": null,
            "grid_template_columns": null,
            "grid_template_rows": null,
            "height": null,
            "justify_content": null,
            "justify_items": null,
            "left": null,
            "margin": null,
            "max_height": null,
            "max_width": null,
            "min_height": null,
            "min_width": null,
            "object_fit": null,
            "object_position": null,
            "order": null,
            "overflow": null,
            "overflow_x": null,
            "overflow_y": null,
            "padding": null,
            "right": null,
            "top": null,
            "visibility": null,
            "width": null
          }
        },
        "95f246091da740cc8a2f2d736934197b": {
          "model_module": "@jupyter-widgets/controls",
          "model_name": "ProgressStyleModel",
          "model_module_version": "1.5.0",
          "state": {
            "_model_module": "@jupyter-widgets/controls",
            "_model_module_version": "1.5.0",
            "_model_name": "ProgressStyleModel",
            "_view_count": null,
            "_view_module": "@jupyter-widgets/base",
            "_view_module_version": "1.2.0",
            "_view_name": "StyleView",
            "bar_color": null,
            "description_width": ""
          }
        },
        "894506f11ec34c389bf86fc7edeed3ae": {
          "model_module": "@jupyter-widgets/base",
          "model_name": "LayoutModel",
          "model_module_version": "1.2.0",
          "state": {
            "_model_module": "@jupyter-widgets/base",
            "_model_module_version": "1.2.0",
            "_model_name": "LayoutModel",
            "_view_count": null,
            "_view_module": "@jupyter-widgets/base",
            "_view_module_version": "1.2.0",
            "_view_name": "LayoutView",
            "align_content": null,
            "align_items": null,
            "align_self": null,
            "border": null,
            "bottom": null,
            "display": null,
            "flex": null,
            "flex_flow": null,
            "grid_area": null,
            "grid_auto_columns": null,
            "grid_auto_flow": null,
            "grid_auto_rows": null,
            "grid_column": null,
            "grid_gap": null,
            "grid_row": null,
            "grid_template_areas": null,
            "grid_template_columns": null,
            "grid_template_rows": null,
            "height": null,
            "justify_content": null,
            "justify_items": null,
            "left": null,
            "margin": null,
            "max_height": null,
            "max_width": null,
            "min_height": null,
            "min_width": null,
            "object_fit": null,
            "object_position": null,
            "order": null,
            "overflow": null,
            "overflow_x": null,
            "overflow_y": null,
            "padding": null,
            "right": null,
            "top": null,
            "visibility": null,
            "width": null
          }
        },
        "058fa91c677740fba4bb189de191276b": {
          "model_module": "@jupyter-widgets/controls",
          "model_name": "DescriptionStyleModel",
          "model_module_version": "1.5.0",
          "state": {
            "_model_module": "@jupyter-widgets/controls",
            "_model_module_version": "1.5.0",
            "_model_name": "DescriptionStyleModel",
            "_view_count": null,
            "_view_module": "@jupyter-widgets/base",
            "_view_module_version": "1.2.0",
            "_view_name": "StyleView",
            "description_width": ""
          }
        },
        "1f1c41d5a1af4065932492c5441c38fb": {
          "model_module": "@jupyter-widgets/controls",
          "model_name": "HBoxModel",
          "model_module_version": "1.5.0",
          "state": {
            "_dom_classes": [],
            "_model_module": "@jupyter-widgets/controls",
            "_model_module_version": "1.5.0",
            "_model_name": "HBoxModel",
            "_view_count": null,
            "_view_module": "@jupyter-widgets/controls",
            "_view_module_version": "1.5.0",
            "_view_name": "HBoxView",
            "box_style": "",
            "children": [
              "IPY_MODEL_b62b19afcb0243a8af20265bcddda423",
              "IPY_MODEL_d2fa8679cd974fe7b7e30a95aeadfc45",
              "IPY_MODEL_634f95172aa742c9b7ae08c1c3e4b472"
            ],
            "layout": "IPY_MODEL_e68ed88e940e4864acbb3716e8adfe48"
          }
        },
        "b62b19afcb0243a8af20265bcddda423": {
          "model_module": "@jupyter-widgets/controls",
          "model_name": "HTMLModel",
          "model_module_version": "1.5.0",
          "state": {
            "_dom_classes": [],
            "_model_module": "@jupyter-widgets/controls",
            "_model_module_version": "1.5.0",
            "_model_name": "HTMLModel",
            "_view_count": null,
            "_view_module": "@jupyter-widgets/controls",
            "_view_module_version": "1.5.0",
            "_view_name": "HTMLView",
            "description": "",
            "description_tooltip": null,
            "layout": "IPY_MODEL_3c2d10ec38654f8687679d7873a51fd1",
            "placeholder": "​",
            "style": "IPY_MODEL_3e5736ec34de453586339d1d9c68e376",
            "value": "100%"
          }
        },
        "d2fa8679cd974fe7b7e30a95aeadfc45": {
          "model_module": "@jupyter-widgets/controls",
          "model_name": "FloatProgressModel",
          "model_module_version": "1.5.0",
          "state": {
            "_dom_classes": [],
            "_model_module": "@jupyter-widgets/controls",
            "_model_module_version": "1.5.0",
            "_model_name": "FloatProgressModel",
            "_view_count": null,
            "_view_module": "@jupyter-widgets/controls",
            "_view_module_version": "1.5.0",
            "_view_name": "ProgressView",
            "bar_style": "success",
            "description": "",
            "description_tooltip": null,
            "layout": "IPY_MODEL_85b20833dfc24f1aac63c45b43917e85",
            "max": 28881,
            "min": 0,
            "orientation": "horizontal",
            "style": "IPY_MODEL_a2a3dd2878e6486ca42cfbe61a851c9f",
            "value": 28881
          }
        },
        "634f95172aa742c9b7ae08c1c3e4b472": {
          "model_module": "@jupyter-widgets/controls",
          "model_name": "HTMLModel",
          "model_module_version": "1.5.0",
          "state": {
            "_dom_classes": [],
            "_model_module": "@jupyter-widgets/controls",
            "_model_module_version": "1.5.0",
            "_model_name": "HTMLModel",
            "_view_count": null,
            "_view_module": "@jupyter-widgets/controls",
            "_view_module_version": "1.5.0",
            "_view_name": "HTMLView",
            "description": "",
            "description_tooltip": null,
            "layout": "IPY_MODEL_43cb7a1af8cf4dde929138bc1bed3dd3",
            "placeholder": "​",
            "style": "IPY_MODEL_2400f836a5e041cf84c2e383af5694f3",
            "value": " 28881/28881 [00:00&lt;00:00, 878482.39it/s]"
          }
        },
        "e68ed88e940e4864acbb3716e8adfe48": {
          "model_module": "@jupyter-widgets/base",
          "model_name": "LayoutModel",
          "model_module_version": "1.2.0",
          "state": {
            "_model_module": "@jupyter-widgets/base",
            "_model_module_version": "1.2.0",
            "_model_name": "LayoutModel",
            "_view_count": null,
            "_view_module": "@jupyter-widgets/base",
            "_view_module_version": "1.2.0",
            "_view_name": "LayoutView",
            "align_content": null,
            "align_items": null,
            "align_self": null,
            "border": null,
            "bottom": null,
            "display": null,
            "flex": null,
            "flex_flow": null,
            "grid_area": null,
            "grid_auto_columns": null,
            "grid_auto_flow": null,
            "grid_auto_rows": null,
            "grid_column": null,
            "grid_gap": null,
            "grid_row": null,
            "grid_template_areas": null,
            "grid_template_columns": null,
            "grid_template_rows": null,
            "height": null,
            "justify_content": null,
            "justify_items": null,
            "left": null,
            "margin": null,
            "max_height": null,
            "max_width": null,
            "min_height": null,
            "min_width": null,
            "object_fit": null,
            "object_position": null,
            "order": null,
            "overflow": null,
            "overflow_x": null,
            "overflow_y": null,
            "padding": null,
            "right": null,
            "top": null,
            "visibility": null,
            "width": null
          }
        },
        "3c2d10ec38654f8687679d7873a51fd1": {
          "model_module": "@jupyter-widgets/base",
          "model_name": "LayoutModel",
          "model_module_version": "1.2.0",
          "state": {
            "_model_module": "@jupyter-widgets/base",
            "_model_module_version": "1.2.0",
            "_model_name": "LayoutModel",
            "_view_count": null,
            "_view_module": "@jupyter-widgets/base",
            "_view_module_version": "1.2.0",
            "_view_name": "LayoutView",
            "align_content": null,
            "align_items": null,
            "align_self": null,
            "border": null,
            "bottom": null,
            "display": null,
            "flex": null,
            "flex_flow": null,
            "grid_area": null,
            "grid_auto_columns": null,
            "grid_auto_flow": null,
            "grid_auto_rows": null,
            "grid_column": null,
            "grid_gap": null,
            "grid_row": null,
            "grid_template_areas": null,
            "grid_template_columns": null,
            "grid_template_rows": null,
            "height": null,
            "justify_content": null,
            "justify_items": null,
            "left": null,
            "margin": null,
            "max_height": null,
            "max_width": null,
            "min_height": null,
            "min_width": null,
            "object_fit": null,
            "object_position": null,
            "order": null,
            "overflow": null,
            "overflow_x": null,
            "overflow_y": null,
            "padding": null,
            "right": null,
            "top": null,
            "visibility": null,
            "width": null
          }
        },
        "3e5736ec34de453586339d1d9c68e376": {
          "model_module": "@jupyter-widgets/controls",
          "model_name": "DescriptionStyleModel",
          "model_module_version": "1.5.0",
          "state": {
            "_model_module": "@jupyter-widgets/controls",
            "_model_module_version": "1.5.0",
            "_model_name": "DescriptionStyleModel",
            "_view_count": null,
            "_view_module": "@jupyter-widgets/base",
            "_view_module_version": "1.2.0",
            "_view_name": "StyleView",
            "description_width": ""
          }
        },
        "85b20833dfc24f1aac63c45b43917e85": {
          "model_module": "@jupyter-widgets/base",
          "model_name": "LayoutModel",
          "model_module_version": "1.2.0",
          "state": {
            "_model_module": "@jupyter-widgets/base",
            "_model_module_version": "1.2.0",
            "_model_name": "LayoutModel",
            "_view_count": null,
            "_view_module": "@jupyter-widgets/base",
            "_view_module_version": "1.2.0",
            "_view_name": "LayoutView",
            "align_content": null,
            "align_items": null,
            "align_self": null,
            "border": null,
            "bottom": null,
            "display": null,
            "flex": null,
            "flex_flow": null,
            "grid_area": null,
            "grid_auto_columns": null,
            "grid_auto_flow": null,
            "grid_auto_rows": null,
            "grid_column": null,
            "grid_gap": null,
            "grid_row": null,
            "grid_template_areas": null,
            "grid_template_columns": null,
            "grid_template_rows": null,
            "height": null,
            "justify_content": null,
            "justify_items": null,
            "left": null,
            "margin": null,
            "max_height": null,
            "max_width": null,
            "min_height": null,
            "min_width": null,
            "object_fit": null,
            "object_position": null,
            "order": null,
            "overflow": null,
            "overflow_x": null,
            "overflow_y": null,
            "padding": null,
            "right": null,
            "top": null,
            "visibility": null,
            "width": null
          }
        },
        "a2a3dd2878e6486ca42cfbe61a851c9f": {
          "model_module": "@jupyter-widgets/controls",
          "model_name": "ProgressStyleModel",
          "model_module_version": "1.5.0",
          "state": {
            "_model_module": "@jupyter-widgets/controls",
            "_model_module_version": "1.5.0",
            "_model_name": "ProgressStyleModel",
            "_view_count": null,
            "_view_module": "@jupyter-widgets/base",
            "_view_module_version": "1.2.0",
            "_view_name": "StyleView",
            "bar_color": null,
            "description_width": ""
          }
        },
        "43cb7a1af8cf4dde929138bc1bed3dd3": {
          "model_module": "@jupyter-widgets/base",
          "model_name": "LayoutModel",
          "model_module_version": "1.2.0",
          "state": {
            "_model_module": "@jupyter-widgets/base",
            "_model_module_version": "1.2.0",
            "_model_name": "LayoutModel",
            "_view_count": null,
            "_view_module": "@jupyter-widgets/base",
            "_view_module_version": "1.2.0",
            "_view_name": "LayoutView",
            "align_content": null,
            "align_items": null,
            "align_self": null,
            "border": null,
            "bottom": null,
            "display": null,
            "flex": null,
            "flex_flow": null,
            "grid_area": null,
            "grid_auto_columns": null,
            "grid_auto_flow": null,
            "grid_auto_rows": null,
            "grid_column": null,
            "grid_gap": null,
            "grid_row": null,
            "grid_template_areas": null,
            "grid_template_columns": null,
            "grid_template_rows": null,
            "height": null,
            "justify_content": null,
            "justify_items": null,
            "left": null,
            "margin": null,
            "max_height": null,
            "max_width": null,
            "min_height": null,
            "min_width": null,
            "object_fit": null,
            "object_position": null,
            "order": null,
            "overflow": null,
            "overflow_x": null,
            "overflow_y": null,
            "padding": null,
            "right": null,
            "top": null,
            "visibility": null,
            "width": null
          }
        },
        "2400f836a5e041cf84c2e383af5694f3": {
          "model_module": "@jupyter-widgets/controls",
          "model_name": "DescriptionStyleModel",
          "model_module_version": "1.5.0",
          "state": {
            "_model_module": "@jupyter-widgets/controls",
            "_model_module_version": "1.5.0",
            "_model_name": "DescriptionStyleModel",
            "_view_count": null,
            "_view_module": "@jupyter-widgets/base",
            "_view_module_version": "1.2.0",
            "_view_name": "StyleView",
            "description_width": ""
          }
        },
        "67cf9faadefa4b72ab899f0d43789285": {
          "model_module": "@jupyter-widgets/controls",
          "model_name": "HBoxModel",
          "model_module_version": "1.5.0",
          "state": {
            "_dom_classes": [],
            "_model_module": "@jupyter-widgets/controls",
            "_model_module_version": "1.5.0",
            "_model_name": "HBoxModel",
            "_view_count": null,
            "_view_module": "@jupyter-widgets/controls",
            "_view_module_version": "1.5.0",
            "_view_name": "HBoxView",
            "box_style": "",
            "children": [
              "IPY_MODEL_c656beaf87f345b5963f0845b85d1040",
              "IPY_MODEL_364b52be76f24b4098a6e53102caa57d",
              "IPY_MODEL_3b1ba70f80e7447785c75e97c9ed2e6e"
            ],
            "layout": "IPY_MODEL_0d7efd5f4c9e4193bb9ebd165e1c3fea"
          }
        },
        "c656beaf87f345b5963f0845b85d1040": {
          "model_module": "@jupyter-widgets/controls",
          "model_name": "HTMLModel",
          "model_module_version": "1.5.0",
          "state": {
            "_dom_classes": [],
            "_model_module": "@jupyter-widgets/controls",
            "_model_module_version": "1.5.0",
            "_model_name": "HTMLModel",
            "_view_count": null,
            "_view_module": "@jupyter-widgets/controls",
            "_view_module_version": "1.5.0",
            "_view_name": "HTMLView",
            "description": "",
            "description_tooltip": null,
            "layout": "IPY_MODEL_6a91c3b44d2a4190bc0a31c666376b30",
            "placeholder": "​",
            "style": "IPY_MODEL_eaa15d36596a47f187b38b1722df41e5",
            "value": "100%"
          }
        },
        "364b52be76f24b4098a6e53102caa57d": {
          "model_module": "@jupyter-widgets/controls",
          "model_name": "FloatProgressModel",
          "model_module_version": "1.5.0",
          "state": {
            "_dom_classes": [],
            "_model_module": "@jupyter-widgets/controls",
            "_model_module_version": "1.5.0",
            "_model_name": "FloatProgressModel",
            "_view_count": null,
            "_view_module": "@jupyter-widgets/controls",
            "_view_module_version": "1.5.0",
            "_view_name": "ProgressView",
            "bar_style": "success",
            "description": "",
            "description_tooltip": null,
            "layout": "IPY_MODEL_b646395f9c5a4177b9bcb7e879d95b01",
            "max": 1648877,
            "min": 0,
            "orientation": "horizontal",
            "style": "IPY_MODEL_8b81d15f226e4e8ebef360a1b1a1b5bd",
            "value": 1648877
          }
        },
        "3b1ba70f80e7447785c75e97c9ed2e6e": {
          "model_module": "@jupyter-widgets/controls",
          "model_name": "HTMLModel",
          "model_module_version": "1.5.0",
          "state": {
            "_dom_classes": [],
            "_model_module": "@jupyter-widgets/controls",
            "_model_module_version": "1.5.0",
            "_model_name": "HTMLModel",
            "_view_count": null,
            "_view_module": "@jupyter-widgets/controls",
            "_view_module_version": "1.5.0",
            "_view_name": "HTMLView",
            "description": "",
            "description_tooltip": null,
            "layout": "IPY_MODEL_3508defe59f84c5da29b939590b289ea",
            "placeholder": "​",
            "style": "IPY_MODEL_17a88b6c827146618faf9c8b67415e3f",
            "value": " 1648877/1648877 [00:00&lt;00:00, 23740170.11it/s]"
          }
        },
        "0d7efd5f4c9e4193bb9ebd165e1c3fea": {
          "model_module": "@jupyter-widgets/base",
          "model_name": "LayoutModel",
          "model_module_version": "1.2.0",
          "state": {
            "_model_module": "@jupyter-widgets/base",
            "_model_module_version": "1.2.0",
            "_model_name": "LayoutModel",
            "_view_count": null,
            "_view_module": "@jupyter-widgets/base",
            "_view_module_version": "1.2.0",
            "_view_name": "LayoutView",
            "align_content": null,
            "align_items": null,
            "align_self": null,
            "border": null,
            "bottom": null,
            "display": null,
            "flex": null,
            "flex_flow": null,
            "grid_area": null,
            "grid_auto_columns": null,
            "grid_auto_flow": null,
            "grid_auto_rows": null,
            "grid_column": null,
            "grid_gap": null,
            "grid_row": null,
            "grid_template_areas": null,
            "grid_template_columns": null,
            "grid_template_rows": null,
            "height": null,
            "justify_content": null,
            "justify_items": null,
            "left": null,
            "margin": null,
            "max_height": null,
            "max_width": null,
            "min_height": null,
            "min_width": null,
            "object_fit": null,
            "object_position": null,
            "order": null,
            "overflow": null,
            "overflow_x": null,
            "overflow_y": null,
            "padding": null,
            "right": null,
            "top": null,
            "visibility": null,
            "width": null
          }
        },
        "6a91c3b44d2a4190bc0a31c666376b30": {
          "model_module": "@jupyter-widgets/base",
          "model_name": "LayoutModel",
          "model_module_version": "1.2.0",
          "state": {
            "_model_module": "@jupyter-widgets/base",
            "_model_module_version": "1.2.0",
            "_model_name": "LayoutModel",
            "_view_count": null,
            "_view_module": "@jupyter-widgets/base",
            "_view_module_version": "1.2.0",
            "_view_name": "LayoutView",
            "align_content": null,
            "align_items": null,
            "align_self": null,
            "border": null,
            "bottom": null,
            "display": null,
            "flex": null,
            "flex_flow": null,
            "grid_area": null,
            "grid_auto_columns": null,
            "grid_auto_flow": null,
            "grid_auto_rows": null,
            "grid_column": null,
            "grid_gap": null,
            "grid_row": null,
            "grid_template_areas": null,
            "grid_template_columns": null,
            "grid_template_rows": null,
            "height": null,
            "justify_content": null,
            "justify_items": null,
            "left": null,
            "margin": null,
            "max_height": null,
            "max_width": null,
            "min_height": null,
            "min_width": null,
            "object_fit": null,
            "object_position": null,
            "order": null,
            "overflow": null,
            "overflow_x": null,
            "overflow_y": null,
            "padding": null,
            "right": null,
            "top": null,
            "visibility": null,
            "width": null
          }
        },
        "eaa15d36596a47f187b38b1722df41e5": {
          "model_module": "@jupyter-widgets/controls",
          "model_name": "DescriptionStyleModel",
          "model_module_version": "1.5.0",
          "state": {
            "_model_module": "@jupyter-widgets/controls",
            "_model_module_version": "1.5.0",
            "_model_name": "DescriptionStyleModel",
            "_view_count": null,
            "_view_module": "@jupyter-widgets/base",
            "_view_module_version": "1.2.0",
            "_view_name": "StyleView",
            "description_width": ""
          }
        },
        "b646395f9c5a4177b9bcb7e879d95b01": {
          "model_module": "@jupyter-widgets/base",
          "model_name": "LayoutModel",
          "model_module_version": "1.2.0",
          "state": {
            "_model_module": "@jupyter-widgets/base",
            "_model_module_version": "1.2.0",
            "_model_name": "LayoutModel",
            "_view_count": null,
            "_view_module": "@jupyter-widgets/base",
            "_view_module_version": "1.2.0",
            "_view_name": "LayoutView",
            "align_content": null,
            "align_items": null,
            "align_self": null,
            "border": null,
            "bottom": null,
            "display": null,
            "flex": null,
            "flex_flow": null,
            "grid_area": null,
            "grid_auto_columns": null,
            "grid_auto_flow": null,
            "grid_auto_rows": null,
            "grid_column": null,
            "grid_gap": null,
            "grid_row": null,
            "grid_template_areas": null,
            "grid_template_columns": null,
            "grid_template_rows": null,
            "height": null,
            "justify_content": null,
            "justify_items": null,
            "left": null,
            "margin": null,
            "max_height": null,
            "max_width": null,
            "min_height": null,
            "min_width": null,
            "object_fit": null,
            "object_position": null,
            "order": null,
            "overflow": null,
            "overflow_x": null,
            "overflow_y": null,
            "padding": null,
            "right": null,
            "top": null,
            "visibility": null,
            "width": null
          }
        },
        "8b81d15f226e4e8ebef360a1b1a1b5bd": {
          "model_module": "@jupyter-widgets/controls",
          "model_name": "ProgressStyleModel",
          "model_module_version": "1.5.0",
          "state": {
            "_model_module": "@jupyter-widgets/controls",
            "_model_module_version": "1.5.0",
            "_model_name": "ProgressStyleModel",
            "_view_count": null,
            "_view_module": "@jupyter-widgets/base",
            "_view_module_version": "1.2.0",
            "_view_name": "StyleView",
            "bar_color": null,
            "description_width": ""
          }
        },
        "3508defe59f84c5da29b939590b289ea": {
          "model_module": "@jupyter-widgets/base",
          "model_name": "LayoutModel",
          "model_module_version": "1.2.0",
          "state": {
            "_model_module": "@jupyter-widgets/base",
            "_model_module_version": "1.2.0",
            "_model_name": "LayoutModel",
            "_view_count": null,
            "_view_module": "@jupyter-widgets/base",
            "_view_module_version": "1.2.0",
            "_view_name": "LayoutView",
            "align_content": null,
            "align_items": null,
            "align_self": null,
            "border": null,
            "bottom": null,
            "display": null,
            "flex": null,
            "flex_flow": null,
            "grid_area": null,
            "grid_auto_columns": null,
            "grid_auto_flow": null,
            "grid_auto_rows": null,
            "grid_column": null,
            "grid_gap": null,
            "grid_row": null,
            "grid_template_areas": null,
            "grid_template_columns": null,
            "grid_template_rows": null,
            "height": null,
            "justify_content": null,
            "justify_items": null,
            "left": null,
            "margin": null,
            "max_height": null,
            "max_width": null,
            "min_height": null,
            "min_width": null,
            "object_fit": null,
            "object_position": null,
            "order": null,
            "overflow": null,
            "overflow_x": null,
            "overflow_y": null,
            "padding": null,
            "right": null,
            "top": null,
            "visibility": null,
            "width": null
          }
        },
        "17a88b6c827146618faf9c8b67415e3f": {
          "model_module": "@jupyter-widgets/controls",
          "model_name": "DescriptionStyleModel",
          "model_module_version": "1.5.0",
          "state": {
            "_model_module": "@jupyter-widgets/controls",
            "_model_module_version": "1.5.0",
            "_model_name": "DescriptionStyleModel",
            "_view_count": null,
            "_view_module": "@jupyter-widgets/base",
            "_view_module_version": "1.2.0",
            "_view_name": "StyleView",
            "description_width": ""
          }
        },
        "b5fc4f4d2be54cc7ae4c586260a5fa2c": {
          "model_module": "@jupyter-widgets/controls",
          "model_name": "HBoxModel",
          "model_module_version": "1.5.0",
          "state": {
            "_dom_classes": [],
            "_model_module": "@jupyter-widgets/controls",
            "_model_module_version": "1.5.0",
            "_model_name": "HBoxModel",
            "_view_count": null,
            "_view_module": "@jupyter-widgets/controls",
            "_view_module_version": "1.5.0",
            "_view_name": "HBoxView",
            "box_style": "",
            "children": [
              "IPY_MODEL_256521ba55744ad9a73b6f4839db47e5",
              "IPY_MODEL_1aee8e51771f4a8c8f7bc2e049ca2541",
              "IPY_MODEL_5f480ae19eca4ee595f1e67857d9ea78"
            ],
            "layout": "IPY_MODEL_392581f9d47944fe911d1a5de341b2f4"
          }
        },
        "256521ba55744ad9a73b6f4839db47e5": {
          "model_module": "@jupyter-widgets/controls",
          "model_name": "HTMLModel",
          "model_module_version": "1.5.0",
          "state": {
            "_dom_classes": [],
            "_model_module": "@jupyter-widgets/controls",
            "_model_module_version": "1.5.0",
            "_model_name": "HTMLModel",
            "_view_count": null,
            "_view_module": "@jupyter-widgets/controls",
            "_view_module_version": "1.5.0",
            "_view_name": "HTMLView",
            "description": "",
            "description_tooltip": null,
            "layout": "IPY_MODEL_eaceb19404df4b728e61704082eb9881",
            "placeholder": "​",
            "style": "IPY_MODEL_059dec91acc7489bbd0014d3d47e0dad",
            "value": "100%"
          }
        },
        "1aee8e51771f4a8c8f7bc2e049ca2541": {
          "model_module": "@jupyter-widgets/controls",
          "model_name": "FloatProgressModel",
          "model_module_version": "1.5.0",
          "state": {
            "_dom_classes": [],
            "_model_module": "@jupyter-widgets/controls",
            "_model_module_version": "1.5.0",
            "_model_name": "FloatProgressModel",
            "_view_count": null,
            "_view_module": "@jupyter-widgets/controls",
            "_view_module_version": "1.5.0",
            "_view_name": "ProgressView",
            "bar_style": "success",
            "description": "",
            "description_tooltip": null,
            "layout": "IPY_MODEL_fe740f376857487aa0f383be7c9f33bc",
            "max": 4542,
            "min": 0,
            "orientation": "horizontal",
            "style": "IPY_MODEL_4c4e2c9023c14e448a7b53ecde4d8563",
            "value": 4542
          }
        },
        "5f480ae19eca4ee595f1e67857d9ea78": {
          "model_module": "@jupyter-widgets/controls",
          "model_name": "HTMLModel",
          "model_module_version": "1.5.0",
          "state": {
            "_dom_classes": [],
            "_model_module": "@jupyter-widgets/controls",
            "_model_module_version": "1.5.0",
            "_model_name": "HTMLModel",
            "_view_count": null,
            "_view_module": "@jupyter-widgets/controls",
            "_view_module_version": "1.5.0",
            "_view_name": "HTMLView",
            "description": "",
            "description_tooltip": null,
            "layout": "IPY_MODEL_e7bd0c512e1d4036a12b6ddc602a242b",
            "placeholder": "​",
            "style": "IPY_MODEL_1bb7a4ddb6734aea9c905c97ecf56af3",
            "value": " 4542/4542 [00:00&lt;00:00, 166463.03it/s]"
          }
        },
        "392581f9d47944fe911d1a5de341b2f4": {
          "model_module": "@jupyter-widgets/base",
          "model_name": "LayoutModel",
          "model_module_version": "1.2.0",
          "state": {
            "_model_module": "@jupyter-widgets/base",
            "_model_module_version": "1.2.0",
            "_model_name": "LayoutModel",
            "_view_count": null,
            "_view_module": "@jupyter-widgets/base",
            "_view_module_version": "1.2.0",
            "_view_name": "LayoutView",
            "align_content": null,
            "align_items": null,
            "align_self": null,
            "border": null,
            "bottom": null,
            "display": null,
            "flex": null,
            "flex_flow": null,
            "grid_area": null,
            "grid_auto_columns": null,
            "grid_auto_flow": null,
            "grid_auto_rows": null,
            "grid_column": null,
            "grid_gap": null,
            "grid_row": null,
            "grid_template_areas": null,
            "grid_template_columns": null,
            "grid_template_rows": null,
            "height": null,
            "justify_content": null,
            "justify_items": null,
            "left": null,
            "margin": null,
            "max_height": null,
            "max_width": null,
            "min_height": null,
            "min_width": null,
            "object_fit": null,
            "object_position": null,
            "order": null,
            "overflow": null,
            "overflow_x": null,
            "overflow_y": null,
            "padding": null,
            "right": null,
            "top": null,
            "visibility": null,
            "width": null
          }
        },
        "eaceb19404df4b728e61704082eb9881": {
          "model_module": "@jupyter-widgets/base",
          "model_name": "LayoutModel",
          "model_module_version": "1.2.0",
          "state": {
            "_model_module": "@jupyter-widgets/base",
            "_model_module_version": "1.2.0",
            "_model_name": "LayoutModel",
            "_view_count": null,
            "_view_module": "@jupyter-widgets/base",
            "_view_module_version": "1.2.0",
            "_view_name": "LayoutView",
            "align_content": null,
            "align_items": null,
            "align_self": null,
            "border": null,
            "bottom": null,
            "display": null,
            "flex": null,
            "flex_flow": null,
            "grid_area": null,
            "grid_auto_columns": null,
            "grid_auto_flow": null,
            "grid_auto_rows": null,
            "grid_column": null,
            "grid_gap": null,
            "grid_row": null,
            "grid_template_areas": null,
            "grid_template_columns": null,
            "grid_template_rows": null,
            "height": null,
            "justify_content": null,
            "justify_items": null,
            "left": null,
            "margin": null,
            "max_height": null,
            "max_width": null,
            "min_height": null,
            "min_width": null,
            "object_fit": null,
            "object_position": null,
            "order": null,
            "overflow": null,
            "overflow_x": null,
            "overflow_y": null,
            "padding": null,
            "right": null,
            "top": null,
            "visibility": null,
            "width": null
          }
        },
        "059dec91acc7489bbd0014d3d47e0dad": {
          "model_module": "@jupyter-widgets/controls",
          "model_name": "DescriptionStyleModel",
          "model_module_version": "1.5.0",
          "state": {
            "_model_module": "@jupyter-widgets/controls",
            "_model_module_version": "1.5.0",
            "_model_name": "DescriptionStyleModel",
            "_view_count": null,
            "_view_module": "@jupyter-widgets/base",
            "_view_module_version": "1.2.0",
            "_view_name": "StyleView",
            "description_width": ""
          }
        },
        "fe740f376857487aa0f383be7c9f33bc": {
          "model_module": "@jupyter-widgets/base",
          "model_name": "LayoutModel",
          "model_module_version": "1.2.0",
          "state": {
            "_model_module": "@jupyter-widgets/base",
            "_model_module_version": "1.2.0",
            "_model_name": "LayoutModel",
            "_view_count": null,
            "_view_module": "@jupyter-widgets/base",
            "_view_module_version": "1.2.0",
            "_view_name": "LayoutView",
            "align_content": null,
            "align_items": null,
            "align_self": null,
            "border": null,
            "bottom": null,
            "display": null,
            "flex": null,
            "flex_flow": null,
            "grid_area": null,
            "grid_auto_columns": null,
            "grid_auto_flow": null,
            "grid_auto_rows": null,
            "grid_column": null,
            "grid_gap": null,
            "grid_row": null,
            "grid_template_areas": null,
            "grid_template_columns": null,
            "grid_template_rows": null,
            "height": null,
            "justify_content": null,
            "justify_items": null,
            "left": null,
            "margin": null,
            "max_height": null,
            "max_width": null,
            "min_height": null,
            "min_width": null,
            "object_fit": null,
            "object_position": null,
            "order": null,
            "overflow": null,
            "overflow_x": null,
            "overflow_y": null,
            "padding": null,
            "right": null,
            "top": null,
            "visibility": null,
            "width": null
          }
        },
        "4c4e2c9023c14e448a7b53ecde4d8563": {
          "model_module": "@jupyter-widgets/controls",
          "model_name": "ProgressStyleModel",
          "model_module_version": "1.5.0",
          "state": {
            "_model_module": "@jupyter-widgets/controls",
            "_model_module_version": "1.5.0",
            "_model_name": "ProgressStyleModel",
            "_view_count": null,
            "_view_module": "@jupyter-widgets/base",
            "_view_module_version": "1.2.0",
            "_view_name": "StyleView",
            "bar_color": null,
            "description_width": ""
          }
        },
        "e7bd0c512e1d4036a12b6ddc602a242b": {
          "model_module": "@jupyter-widgets/base",
          "model_name": "LayoutModel",
          "model_module_version": "1.2.0",
          "state": {
            "_model_module": "@jupyter-widgets/base",
            "_model_module_version": "1.2.0",
            "_model_name": "LayoutModel",
            "_view_count": null,
            "_view_module": "@jupyter-widgets/base",
            "_view_module_version": "1.2.0",
            "_view_name": "LayoutView",
            "align_content": null,
            "align_items": null,
            "align_self": null,
            "border": null,
            "bottom": null,
            "display": null,
            "flex": null,
            "flex_flow": null,
            "grid_area": null,
            "grid_auto_columns": null,
            "grid_auto_flow": null,
            "grid_auto_rows": null,
            "grid_column": null,
            "grid_gap": null,
            "grid_row": null,
            "grid_template_areas": null,
            "grid_template_columns": null,
            "grid_template_rows": null,
            "height": null,
            "justify_content": null,
            "justify_items": null,
            "left": null,
            "margin": null,
            "max_height": null,
            "max_width": null,
            "min_height": null,
            "min_width": null,
            "object_fit": null,
            "object_position": null,
            "order": null,
            "overflow": null,
            "overflow_x": null,
            "overflow_y": null,
            "padding": null,
            "right": null,
            "top": null,
            "visibility": null,
            "width": null
          }
        },
        "1bb7a4ddb6734aea9c905c97ecf56af3": {
          "model_module": "@jupyter-widgets/controls",
          "model_name": "DescriptionStyleModel",
          "model_module_version": "1.5.0",
          "state": {
            "_model_module": "@jupyter-widgets/controls",
            "_model_module_version": "1.5.0",
            "_model_name": "DescriptionStyleModel",
            "_view_count": null,
            "_view_module": "@jupyter-widgets/base",
            "_view_module_version": "1.2.0",
            "_view_name": "StyleView",
            "description_width": ""
          }
        }
      }
    }
  },
  "cells": [
    {
      "cell_type": "markdown",
      "metadata": {
        "id": "view-in-github",
        "colab_type": "text"
      },
      "source": [
        "<a href=\"https://colab.research.google.com/github/M-Amrollahi/Personal-Notes/blob/master/ML-notes/selfsupervised_mnist.ipynb\" target=\"_parent\"><img src=\"https://colab.research.google.com/assets/colab-badge.svg\" alt=\"Open In Colab\"/></a>"
      ]
    },
    {
      "cell_type": "code",
      "execution_count": 1,
      "metadata": {
        "id": "e4zSf2aInY11"
      },
      "outputs": [],
      "source": [
        "import numpy as np\n",
        "import matplotlib.pyplot as plt\n",
        "import seaborn as sns\n",
        "import torch\n",
        "from torchvision import datasets\n",
        "from IPython.display import display\n",
        "from PIL import Image\n",
        "from sklearn.model_selection import train_test_split\n",
        "from torch.utils.data import DataLoader,Dataset\n",
        "import torch.nn as nn\n",
        "import sklearn.metrics as metr\n",
        "from sklearn.decomposition import PCA\n",
        "from collections import OrderedDict"
      ]
    },
    {
      "cell_type": "code",
      "source": [
        "dsmnist = datasets.MNIST(\"./\",download=True)"
      ],
      "metadata": {
        "id": "GPE8GiRqyMa7",
        "colab": {
          "base_uri": "https://localhost:8080/",
          "height": 431,
          "referenced_widgets": [
            "c9e48f2e3a7f4c3195821548ff9c4fce",
            "7e3ecb69a3214b99be1d3d46898c025a",
            "c18d084ce69d4c17a701b98b8e064caa",
            "75f4df43bc994b55b96558ed8c35d32b",
            "8d63c4b03b6e4d31aa1ce605ea141d92",
            "98ecefd760d646cc94a930cb13e3efdc",
            "b65bf0466d96432e80a8e4c141b6b554",
            "5f97946c2bf44215b26eb8a16f772cc8",
            "95f246091da740cc8a2f2d736934197b",
            "894506f11ec34c389bf86fc7edeed3ae",
            "058fa91c677740fba4bb189de191276b",
            "1f1c41d5a1af4065932492c5441c38fb",
            "b62b19afcb0243a8af20265bcddda423",
            "d2fa8679cd974fe7b7e30a95aeadfc45",
            "634f95172aa742c9b7ae08c1c3e4b472",
            "e68ed88e940e4864acbb3716e8adfe48",
            "3c2d10ec38654f8687679d7873a51fd1",
            "3e5736ec34de453586339d1d9c68e376",
            "85b20833dfc24f1aac63c45b43917e85",
            "a2a3dd2878e6486ca42cfbe61a851c9f",
            "43cb7a1af8cf4dde929138bc1bed3dd3",
            "2400f836a5e041cf84c2e383af5694f3",
            "67cf9faadefa4b72ab899f0d43789285",
            "c656beaf87f345b5963f0845b85d1040",
            "364b52be76f24b4098a6e53102caa57d",
            "3b1ba70f80e7447785c75e97c9ed2e6e",
            "0d7efd5f4c9e4193bb9ebd165e1c3fea",
            "6a91c3b44d2a4190bc0a31c666376b30",
            "eaa15d36596a47f187b38b1722df41e5",
            "b646395f9c5a4177b9bcb7e879d95b01",
            "8b81d15f226e4e8ebef360a1b1a1b5bd",
            "3508defe59f84c5da29b939590b289ea",
            "17a88b6c827146618faf9c8b67415e3f",
            "b5fc4f4d2be54cc7ae4c586260a5fa2c",
            "256521ba55744ad9a73b6f4839db47e5",
            "1aee8e51771f4a8c8f7bc2e049ca2541",
            "5f480ae19eca4ee595f1e67857d9ea78",
            "392581f9d47944fe911d1a5de341b2f4",
            "eaceb19404df4b728e61704082eb9881",
            "059dec91acc7489bbd0014d3d47e0dad",
            "fe740f376857487aa0f383be7c9f33bc",
            "4c4e2c9023c14e448a7b53ecde4d8563",
            "e7bd0c512e1d4036a12b6ddc602a242b",
            "1bb7a4ddb6734aea9c905c97ecf56af3"
          ]
        },
        "outputId": "f3274fe3-96f5-4758-f32a-eb8dbc395e06"
      },
      "execution_count": 2,
      "outputs": [
        {
          "output_type": "stream",
          "name": "stdout",
          "text": [
            "Downloading http://yann.lecun.com/exdb/mnist/train-images-idx3-ubyte.gz\n",
            "Downloading http://yann.lecun.com/exdb/mnist/train-images-idx3-ubyte.gz to ./MNIST/raw/train-images-idx3-ubyte.gz\n"
          ]
        },
        {
          "output_type": "display_data",
          "data": {
            "text/plain": [
              "  0%|          | 0/9912422 [00:00<?, ?it/s]"
            ],
            "application/vnd.jupyter.widget-view+json": {
              "version_major": 2,
              "version_minor": 0,
              "model_id": "c9e48f2e3a7f4c3195821548ff9c4fce"
            }
          },
          "metadata": {}
        },
        {
          "output_type": "stream",
          "name": "stdout",
          "text": [
            "Extracting ./MNIST/raw/train-images-idx3-ubyte.gz to ./MNIST/raw\n",
            "\n",
            "Downloading http://yann.lecun.com/exdb/mnist/train-labels-idx1-ubyte.gz\n",
            "Downloading http://yann.lecun.com/exdb/mnist/train-labels-idx1-ubyte.gz to ./MNIST/raw/train-labels-idx1-ubyte.gz\n"
          ]
        },
        {
          "output_type": "display_data",
          "data": {
            "text/plain": [
              "  0%|          | 0/28881 [00:00<?, ?it/s]"
            ],
            "application/vnd.jupyter.widget-view+json": {
              "version_major": 2,
              "version_minor": 0,
              "model_id": "1f1c41d5a1af4065932492c5441c38fb"
            }
          },
          "metadata": {}
        },
        {
          "output_type": "stream",
          "name": "stdout",
          "text": [
            "Extracting ./MNIST/raw/train-labels-idx1-ubyte.gz to ./MNIST/raw\n",
            "\n",
            "Downloading http://yann.lecun.com/exdb/mnist/t10k-images-idx3-ubyte.gz\n",
            "Downloading http://yann.lecun.com/exdb/mnist/t10k-images-idx3-ubyte.gz to ./MNIST/raw/t10k-images-idx3-ubyte.gz\n"
          ]
        },
        {
          "output_type": "display_data",
          "data": {
            "text/plain": [
              "  0%|          | 0/1648877 [00:00<?, ?it/s]"
            ],
            "application/vnd.jupyter.widget-view+json": {
              "version_major": 2,
              "version_minor": 0,
              "model_id": "67cf9faadefa4b72ab899f0d43789285"
            }
          },
          "metadata": {}
        },
        {
          "output_type": "stream",
          "name": "stdout",
          "text": [
            "Extracting ./MNIST/raw/t10k-images-idx3-ubyte.gz to ./MNIST/raw\n",
            "\n",
            "Downloading http://yann.lecun.com/exdb/mnist/t10k-labels-idx1-ubyte.gz\n",
            "Downloading http://yann.lecun.com/exdb/mnist/t10k-labels-idx1-ubyte.gz to ./MNIST/raw/t10k-labels-idx1-ubyte.gz\n"
          ]
        },
        {
          "output_type": "display_data",
          "data": {
            "text/plain": [
              "  0%|          | 0/4542 [00:00<?, ?it/s]"
            ],
            "application/vnd.jupyter.widget-view+json": {
              "version_major": 2,
              "version_minor": 0,
              "model_id": "b5fc4f4d2be54cc7ae4c586260a5fa2c"
            }
          },
          "metadata": {}
        },
        {
          "output_type": "stream",
          "name": "stdout",
          "text": [
            "Extracting ./MNIST/raw/t10k-labels-idx1-ubyte.gz to ./MNIST/raw\n",
            "\n"
          ]
        }
      ]
    },
    {
      "cell_type": "code",
      "source": [
        "X_train, X_test, y_train, y_test = train_test_split(dsmnist.data, dsmnist.targets,test_size=.1,stratify=dsmnist.targets,random_state=400)\n",
        "X_val, X_test, y_val, y_test = train_test_split(X_test, y_test, test_size=.05, stratify=y_test,random_state=400)"
      ],
      "metadata": {
        "id": "T4n0m88r0YzM"
      },
      "execution_count": 3,
      "outputs": []
    },
    {
      "cell_type": "code",
      "source": [
        "class cls_data(Dataset):\n",
        "    \n",
        "    def __init__(self, x, y):\n",
        "        super().__init__()\n",
        "        self.data = x\n",
        "        self.target = y\n",
        "    def __len__(self):\n",
        "        return len(self.target)\n",
        "    def __getitem__(self, index) :\n",
        "        return self.data[index].unsqueeze(dim=0), self.data[index].flatten() #self.target[index]\n"
      ],
      "metadata": {
        "id": "CnSdrs7w2SyL"
      },
      "execution_count": 4,
      "outputs": []
    },
    {
      "cell_type": "code",
      "source": [
        "ds_train = cls_data(X_train/255., y_train/255.)\n",
        "ds_test = cls_data(X_test/255., y_test/255.)\n",
        "ds_val = cls_data(X_val/255.,y_val/255.)\n",
        "\n",
        "train_loader = DataLoader(ds_train,batch_size=16)\n",
        "test_loader = DataLoader(ds_test,batch_size=16)\n",
        "val_loader = DataLoader(ds_val,batch_size=16)"
      ],
      "metadata": {
        "id": "ZNinnBP82kNW"
      },
      "execution_count": 5,
      "outputs": []
    },
    {
      "cell_type": "code",
      "source": [
        "class cls_model(nn.Module):\n",
        "    def __init__(self) -> None:\n",
        "        super().__init__()\n",
        "\n",
        "        self.model_feature = nn.Sequential(OrderedDict([\n",
        "            (\"conv1\", nn.Conv2d(in_channels=1,out_channels=3,kernel_size=(3,3))),\n",
        "            (\"maxp1\", nn.MaxPool2d(2,2))]))\n",
        "        \n",
        "        self.model_classify = nn.Sequential(OrderedDict([\n",
        "            (\"linear1\",nn.Linear(13*13*3,1000)),\n",
        "            (\"relu1\",nn.ReLU()),\n",
        "            (\"layernorm1\",nn.LayerNorm(1000)),\n",
        "            #(\"dropout1\", nn.Dropout(p=.1)),\n",
        "            (\"linear2\",nn.Linear(1000,784))]\n",
        "        ))\n",
        "        #self.conv1 = torch.nn.Conv2d(in_channels=1,out_channels=3,kernel_size=(3,3))\n",
        "        #self.maxp = torch.nn.MaxPool2d(2,2)\n",
        "        #self.l1 = torch.nn.Linear(13*13*3,500)\n",
        "        #self.lnorm1 = torch.nn.LayerNorm(500)\n",
        "        #self.relu1 = torch.nn.ReLU()\n",
        "        #self.drop1 = torch.nn.Dropout(p=.1)\n",
        "        #self.l2 = torch.nn.Linear(500,10)\n",
        "\n",
        "    def forward(self, x):\n",
        "        #x = torch.permute(x,()\n",
        "        #x = self.conv1(x)\n",
        "        #x = self.maxp(x)\n",
        "        x = self.model_feature.forward(x)\n",
        "\n",
        "        x = x.reshape((x.shape[0],-1))\n",
        "        \n",
        "        y = self.model_classify(x)\n",
        "        #y = self.l2.forward(self.drop1( self.lnorm1(self.relu1( self.l1.forward(x)))))\n",
        "\n",
        "        return y"
      ],
      "metadata": {
        "id": "lw24LwbK4zjS"
      },
      "execution_count": 6,
      "outputs": []
    },
    {
      "cell_type": "code",
      "source": [
        "model = cls_model()\n",
        "model\n",
        "#model.forward(X_train[:5]/255.)"
      ],
      "metadata": {
        "colab": {
          "base_uri": "https://localhost:8080/"
        },
        "id": "t6V3zquz8y06",
        "outputId": "cb3d710f-617d-48f4-8bc4-7a0469714055"
      },
      "execution_count": 7,
      "outputs": [
        {
          "output_type": "execute_result",
          "data": {
            "text/plain": [
              "cls_model(\n",
              "  (model_feature): Sequential(\n",
              "    (conv1): Conv2d(1, 3, kernel_size=(3, 3), stride=(1, 1))\n",
              "    (maxp1): MaxPool2d(kernel_size=2, stride=2, padding=0, dilation=1, ceil_mode=False)\n",
              "  )\n",
              "  (model_classify): Sequential(\n",
              "    (linear1): Linear(in_features=507, out_features=1000, bias=True)\n",
              "    (relu1): ReLU()\n",
              "    (layernorm1): LayerNorm((1000,), eps=1e-05, elementwise_affine=True)\n",
              "    (linear2): Linear(in_features=1000, out_features=784, bias=True)\n",
              "  )\n",
              ")"
            ]
          },
          "metadata": {},
          "execution_count": 7
        }
      ]
    },
    {
      "cell_type": "code",
      "source": [
        "def f_validate(model, dloader, criterion):\n",
        "    model.eval()\n",
        "    preds = torch.empty(0)\n",
        "    targets = torch.empty(0)\n",
        "\n",
        "    tmpLoss = 0\n",
        "    for i , (x_batch, y_batch) in enumerate(dloader):\n",
        "        y_pred = model.forward(x_batch)\n",
        "        preds = torch.cat((preds, y_pred.argmax(dim=1)))\n",
        "        targets = torch.cat((targets,y_batch))\n",
        "\n",
        "        tmpLoss += criterion(y_pred, y_batch).item() / len(y_batch)\n",
        "        #lst_pred.append( [y_pred.argmax(dim=1),y_batch])\n",
        "    \n",
        "    return targets.detach().numpy(), preds.detach().numpy() , tmpLoss"
      ],
      "metadata": {
        "id": "13wIqmQc9k3w"
      },
      "execution_count": 8,
      "outputs": []
    },
    {
      "cell_type": "code",
      "source": [
        "criterion = torch.nn.MSELoss()\n",
        "optim = torch.optim.SGD(model.parameters(), lr=1e-3)\n",
        "\n",
        "epochs = 20\n",
        "\n",
        "dict_res = dict()\n",
        "for i in range(epochs):\n",
        "    tmpLoss = 0.\n",
        "    for j,(x_batch, y_batch) in enumerate(train_loader):\n",
        "\n",
        "        y_pred = model.forward(x_batch)\n",
        "        #print(y_pred.shape)\n",
        "        #print(y_batch.unsqueeze(dim=1).shape)\n",
        "        loss = criterion(y_pred, y_batch)\n",
        "\n",
        "        optim.zero_grad()\n",
        "        loss.backward()\n",
        "        optim.step()\n",
        "\n",
        "        tmpLoss += loss.item() / len(y_batch)\n",
        "\n",
        "        #break\n",
        "    print(\"Loss:\" , tmpLoss)\n",
        "    target , pred, valLoss = f_validate(model, val_loader, criterion)\n",
        "    print(\"Val loss: \", valLoss)\n",
        "    dict_res[i] = tmpLoss"
      ],
      "metadata": {
        "colab": {
          "base_uri": "https://localhost:8080/"
        },
        "id": "piqRMqhH9ApJ",
        "outputId": "74682a05-3c2e-4696-d6d4-ec0a5545492b"
      },
      "execution_count": 9,
      "outputs": [
        {
          "output_type": "stream",
          "name": "stdout",
          "text": [
            "Loss: 29.26191450888291\n",
            "Val loss:  1.7485648393630981\n",
            "Loss: 15.299369147978723\n",
            "Val loss:  1.576689558569342\n",
            "Loss: 14.437266563763842\n",
            "Val loss:  1.5254402575083077\n",
            "Loss: 14.087576884077862\n",
            "Val loss:  1.4969388314057142\n",
            "Loss: 13.860406411346048\n",
            "Val loss:  1.4753203662112355\n",
            "Loss: 13.67262455704622\n",
            "Val loss:  1.4559536501765251\n",
            "Loss: 13.496391488472\n",
            "Val loss:  1.4370126996655017\n",
            "Loss: 13.319918810622767\n",
            "Val loss:  1.4176495377905667\n",
            "Loss: 13.136901170015335\n",
            "Val loss:  1.3973177357111126\n",
            "Loss: 12.943661846220493\n",
            "Val loss:  1.3757557612843812\n",
            "Loss: 12.738771959673613\n",
            "Val loss:  1.3529131347313523\n",
            "Loss: 12.522392124403268\n",
            "Val loss:  1.328886701958254\n",
            "Loss: 12.295916037168354\n",
            "Val loss:  1.3038856564089656\n",
            "Loss: 12.061700837220997\n",
            "Val loss:  1.2782092946581542\n",
            "Loss: 11.82262462680228\n",
            "Val loss:  1.2521878890693188\n",
            "Loss: 11.581685757264495\n",
            "Val loss:  1.2261416984256357\n",
            "Loss: 11.341691450681537\n",
            "Val loss:  1.2003469304181635\n",
            "Loss: 11.105122316395864\n",
            "Val loss:  1.175048076780513\n",
            "Loss: 10.873870561132208\n",
            "Val loss:  1.1504267323762178\n",
            "Loss: 10.649298718664795\n",
            "Val loss:  1.1266076934989542\n"
          ]
        }
      ]
    },
    {
      "cell_type": "code",
      "source": [
        "class cls_data_classification(Dataset):\n",
        "    \n",
        "    def __init__(self, x, y):\n",
        "        super().__init__()\n",
        "        self.data = x\n",
        "        self.target = y\n",
        "    def __len__(self):\n",
        "        return len(self.target)\n",
        "    def __getitem__(self, index) :\n",
        "        return self.data[index].unsqueeze(dim=0), self.target[index]\n"
      ],
      "metadata": {
        "id": "Ci-PkkP7m9ES"
      },
      "execution_count": 10,
      "outputs": []
    },
    {
      "cell_type": "code",
      "source": [
        "ds_trainc = cls_data_classification(X_train/255., y_train)\n",
        "ds_testc = cls_data_classification(X_test/255., y_test)\n",
        "ds_valc = cls_data_classification(X_val/255.,y_val)\n",
        "\n",
        "train_loaderc = DataLoader(ds_trainc,batch_size=16)\n",
        "test_loaderc = DataLoader(ds_testc,batch_size=16)\n",
        "val_loaderc = DataLoader(ds_valc,batch_size=16)"
      ],
      "metadata": {
        "id": "jFN0teBPopux"
      },
      "execution_count": 11,
      "outputs": []
    },
    {
      "cell_type": "code",
      "source": [
        "class cls_model_classification(nn.Module):\n",
        "    def __init__(self,model) -> None:\n",
        "        super().__init__()\n",
        "\n",
        "        \n",
        "        for param in model.parameters():\n",
        "            param.requires_grad = False\n",
        "\n",
        "        self.model_feature = model\n",
        "        self.model_classify = nn.Sequential(OrderedDict([\n",
        "            (\"linear1\",nn.Linear(784,10))]))\n",
        "        \n",
        "\n",
        "    def forward(self, x):\n",
        "        \n",
        "        x = self.model_feature.forward(x)\n",
        "        \n",
        "        y = self.model_classify(x)\n",
        "        #y = self.l2.forward(self.drop1( self.lnorm1(self.relu1( self.l1.forward(x)))))\n",
        "\n",
        "        return y"
      ],
      "metadata": {
        "id": "ZcHLOpDlnIwq"
      },
      "execution_count": 16,
      "outputs": []
    },
    {
      "cell_type": "code",
      "source": [
        "modelc = cls_model_classification(model)"
      ],
      "metadata": {
        "id": "fdc5JxI-pDWA"
      },
      "execution_count": 17,
      "outputs": []
    },
    {
      "cell_type": "code",
      "source": [
        "criterion = torch.nn.CrossEntropyLoss()\n",
        "optim = torch.optim.SGD(modelc.parameters(), lr=1e-3)\n",
        "\n",
        "epochs = 20\n",
        "\n",
        "dict_res = dict()\n",
        "for i in range(epochs):\n",
        "    tmpLoss = 0.\n",
        "    for j,(x_batch, y_batch) in enumerate(train_loaderc):\n",
        "\n",
        "        y_pred = modelc.forward(x_batch)\n",
        "        #print(y_pred.shape)\n",
        "        #print(y_batch.unsqueeze(dim=1).shape)\n",
        "        loss = criterion(y_pred, y_batch)\n",
        "\n",
        "        optim.zero_grad()\n",
        "        loss.backward()\n",
        "        optim.step()\n",
        "\n",
        "        tmpLoss += loss.item() / len(y_batch)\n",
        "\n",
        "        #break\n",
        "    print(\"Loss:\" , tmpLoss)\n",
        "    target , pred, valLoss = f_validate(modelc, val_loaderc, criterion)\n",
        "    print(\"Val acc:\", metr.accuracy_score(target,pred), \"Val loss: \", valLoss)\n",
        "    dict_res[i] = tmpLoss"
      ],
      "metadata": {
        "colab": {
          "base_uri": "https://localhost:8080/"
        },
        "outputId": "194557b3-a69a-443c-de0a-a3b1a9d04253",
        "id": "mvaRWAx3oaYh"
      },
      "execution_count": 18,
      "outputs": [
        {
          "output_type": "stream",
          "name": "stdout",
          "text": [
            "Loss: 51.90633546281606\n",
            "Val acc: 0.9742105263157895 Val loss:  2.6090118401916698\n",
            "Loss: 15.995628691947786\n",
            "Val acc: 0.9754385964912281 Val loss:  2.087326305627357\n",
            "Loss: 12.277660952982842\n",
            "Val acc: 0.9763157894736842 Val loss:  1.8930291618453339\n",
            "Loss: 10.461547950748354\n",
            "Val acc: 0.9763157894736842 Val loss:  1.7894283287168946\n",
            "Loss: 9.330427844288351\n",
            "Val acc: 0.9766666666666667 Val loss:  1.724820542964153\n",
            "Loss: 8.53834214098606\n",
            "Val acc: 0.977719298245614 Val loss:  1.680794461266487\n",
            "Loss: 7.943332586706674\n",
            "Val acc: 0.9782456140350877 Val loss:  1.6490346718637738\n",
            "Loss: 7.474838426904171\n",
            "Val acc: 0.978421052631579 Val loss:  1.6252023347769864\n",
            "Loss: 7.093277691412368\n",
            "Val acc: 0.9787719298245614 Val loss:  1.6067996209239936\n",
            "Loss: 6.774495501023921\n",
            "Val acc: 0.9789473684210527 Val loss:  1.592282490018988\n",
            "Loss: 6.50280452734296\n",
            "Val acc: 0.9787719298245614 Val loss:  1.5806424562179018\n",
            "Loss: 6.267514908900921\n",
            "Val acc: 0.9787719298245614 Val loss:  1.5711925176728982\n",
            "Loss: 6.061057232574967\n",
            "Val acc: 0.9787719298245614 Val loss:  1.5634475585393375\n",
            "Loss: 5.877900418599893\n",
            "Val acc: 0.9787719298245614 Val loss:  1.5570550281154283\n",
            "Loss: 5.713896512701467\n",
            "Val acc: 0.9787719298245614 Val loss:  1.5517525424074847\n",
            "Loss: 5.56586484885338\n",
            "Val acc: 0.9785964912280701 Val loss:  1.5473407435492845\n",
            "Loss: 5.431321028851016\n",
            "Val acc: 0.9782456140350877 Val loss:  1.54366543359356\n",
            "Loss: 5.308292352041462\n",
            "Val acc: 0.978421052631579 Val loss:  1.540605131227494\n",
            "Loss: 5.195187114373766\n",
            "Val acc: 0.978421052631579 Val loss:  1.5380635436813463\n",
            "Loss: 5.09070823586444\n",
            "Val acc: 0.978421052631579 Val loss:  1.5359621524912654\n"
          ]
        }
      ]
    },
    {
      "cell_type": "code",
      "source": [
        "Image.fromarray( torch.nn.functional.relu( model(ds_test[5][0].unsqueeze(dim=0))*255).type(torch.uint8).numpy().reshape(28,28))"
      ],
      "metadata": {
        "colab": {
          "base_uri": "https://localhost:8080/",
          "height": 45
        },
        "id": "GYoRkenkjEf6",
        "outputId": "bddfd01a-44e7-42aa-ce2b-01137da0be35"
      },
      "execution_count": 50,
      "outputs": [
        {
          "output_type": "execute_result",
          "data": {
            "text/plain": [
              "<PIL.Image.Image image mode=L size=28x28 at 0x7F3EA0E6DB90>"
            ],
            "image/png": "[encoded data removed]"
          },
          "metadata": {},
          "execution_count": 50
        }
      ]
    },
    {
      "cell_type": "code",
      "source": [
        "Image.fromarray( torch.nn.functional.relu( ds_test[5][0].unsqueeze(dim=0)*255).type(torch.uint8).numpy().reshape(28,28))"
      ],
      "metadata": {
        "colab": {
          "base_uri": "https://localhost:8080/",
          "height": 45
        },
        "id": "ShwuE2RIkkXS",
        "outputId": "9095ccfb-b5a7-4915-9d12-deabca9e8084"
      },
      "execution_count": 51,
      "outputs": [
        {
          "output_type": "execute_result",
          "data": {
            "text/plain": [
              "<PIL.Image.Image image mode=L size=28x28 at 0x7F3EA0DD6BD0>"
            ],
            "image/png": "[encoded data removed]"
          },
          "metadata": {},
          "execution_count": 51
        }
      ]
    },
    {
      "cell_type": "code",
      "source": [
        "target , pred, testLoss  = f_validate(modelc,test_loaderc,criterion)\n",
        "metr.accuracy_score(target,pred)"
      ],
      "metadata": {
        "id": "dRGfyHSXLhRU",
        "outputId": "0d71a1d5-f4d3-4328-c302-bcfd56d2b351",
        "colab": {
          "base_uri": "https://localhost:8080/"
        }
      },
      "execution_count": 19,
      "outputs": [
        {
          "output_type": "execute_result",
          "data": {
            "text/plain": [
              "0.9833333333333333"
            ]
          },
          "metadata": {},
          "execution_count": 19
        }
      ]
    },
    {
      "cell_type": "code",
      "source": [
        "metr.accuracy_score(targets.detach().numpy(),preds.detach().numpy())*100"
      ],
      "metadata": {
        "colab": {
          "base_uri": "https://localhost:8080/"
        },
        "id": "lC4RxkYTa5ru",
        "outputId": "d692941c-fa18-4850-fadf-8299f46b3bf1"
      },
      "execution_count": null,
      "outputs": [
        {
          "output_type": "execute_result",
          "data": {
            "text/plain": [
              "97.65"
            ]
          },
          "metadata": {},
          "execution_count": 296
        }
      ]
    },
    {
      "cell_type": "code",
      "source": [
        "confusion = metr.confusion_matrix(targets.detach().numpy(),preds.detach().numpy())\n",
        "confusion"
      ],
      "metadata": {
        "colab": {
          "base_uri": "https://localhost:8080/"
        },
        "id": "KBZoBsa_R7dz",
        "outputId": "bbb14d4b-7eb6-42bc-af68-752fb2dbd659"
      },
      "execution_count": null,
      "outputs": [
        {
          "output_type": "execute_result",
          "data": {
            "text/plain": [
              "array([[586,   0,   1,   0,   1,   1,   2,   0,   1,   0],\n",
              "       [  0, 668,   2,   1,   3,   0,   0,   0,   0,   0],\n",
              "       [  1,   1, 581,   3,   4,   0,   0,   4,   1,   1],\n",
              "       [  0,   1,   8, 593,   0,   3,   0,   4,   2,   2],\n",
              "       [  1,   0,   4,   1, 567,   0,   2,   2,   2,   5],\n",
              "       [  2,   1,   0,   6,   0, 531,   1,   0,   1,   0],\n",
              "       [  1,   0,   2,   0,   0,   3, 583,   0,   3,   0],\n",
              "       [  1,   2,   6,   0,   1,   0,   1, 614,   0,   2],\n",
              "       [  1,   3,   0,   7,   3,   4,   0,   1, 566,   0],\n",
              "       [  3,   1,   1,   4,   4,   3,   0,   7,   2, 570]])"
            ]
          },
          "metadata": {},
          "execution_count": 299
        }
      ]
    },
    {
      "cell_type": "code",
      "source": [
        "Image.fromarray(X_train[22].numpy())"
      ],
      "metadata": {
        "colab": {
          "base_uri": "https://localhost:8080/",
          "height": 45
        },
        "id": "7Dc-xRtjd4pz",
        "outputId": "2b5d0b42-94ba-471a-a600-415a8d3649e4"
      },
      "execution_count": null,
      "outputs": [
        {
          "output_type": "execute_result",
          "data": {
            "text/plain": [
              "<PIL.Image.Image image mode=L size=28x28 at 0x7F9D8E5FAD10>"
            ],
            "image/png": "[encoded data removed]"
          },
          "metadata": {},
          "execution_count": 254
        }
      ]
    },
    {
      "cell_type": "code",
      "source": [
        "a=model.model_feature.conv1.forward((X_train[22]/1.0).reshape((1,1,28,28)))"
      ],
      "metadata": {
        "id": "5i93Ne9K36v7"
      },
      "execution_count": null,
      "outputs": []
    },
    {
      "cell_type": "code",
      "source": [],
      "metadata": {
        "id": "UM_KW71uSPGo"
      },
      "execution_count": null,
      "outputs": []
    }
  ]
}